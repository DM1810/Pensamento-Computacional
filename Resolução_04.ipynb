{
  "nbformat": 4,
  "nbformat_minor": 0,
  "metadata": {
    "colab": {
      "name": "Resolução 04.ipynb",
      "version": "0.3.2",
      "provenance": [],
      "collapsed_sections": [],
      "include_colab_link": true
    },
    "language_info": {
      "codemirror_mode": {
        "name": "ipython",
        "version": 3
      },
      "file_extension": ".py",
      "mimetype": "text/x-python",
      "name": "python",
      "nbconvert_exporter": "python",
      "pygments_lexer": "ipython3",
      "version": "3.6.8"
    },
    "kernelspec": {
      "display_name": "Python 3",
      "language": "python",
      "name": "python3"
    }
  },
  "cells": [
    {
      "cell_type": "markdown",
      "metadata": {
        "id": "view-in-github",
        "colab_type": "text"
      },
      "source": [
        "<a href=\"https://colab.research.google.com/github/DM1810/Pensamento-Computacional/blob/master/Resolu%C3%A7%C3%A3o_04.ipynb\" target=\"_parent\"><img src=\"https://colab.research.google.com/assets/colab-badge.svg\" alt=\"Open In Colab\"/></a>"
      ]
    },
    {
      "cell_type": "markdown",
      "metadata": {
        "id": "8fLLNxkMy8Bt",
        "colab_type": "text"
      },
      "source": [
        "<small><small><i>\n",
        "Este notebook foi baseado nos notebooks disponíveis em [https://gitlab.erc.monash.edu.au/andrease/Python4Maths.git]\n",
        "</i></small></small>"
      ]
    },
    {
      "cell_type": "markdown",
      "metadata": {
        "id": "mR4147Hsy8Bw",
        "colab_type": "text"
      },
      "source": [
        "# Reaproveitando código\n",
        "\n",
        "Uma outra maneira de utilizar um código múltiplas vezes é através de **procedimentos**.\n",
        "\n",
        "Um procedimento é um conjunto de instruções agrupados em um bloco que recebem um nome e podem ser chamados quantas vezes for necessário.\n",
        "\n",
        "Nos roteiros anteriores, você já vem usando procedimentos como ```input()```, ```print()``` e ```randint()```.\n",
        "\n",
        "Você também pode criar seus próprios procedimentos usando o seguinte padrão:\n",
        "\n",
        "```python\n",
        "def nome():\n",
        "    instrucao\n",
        "    instrucao\n",
        "    ...\n",
        "```\n",
        "\n",
        "O padrão acima pode ser lido como ```definir``` um procedimento chamado ```nome```, que executará o seguinte bloco de instruções.\n",
        "\n",
        "As regras básicas para a **definição e uso de procedimentos** em Python são:\n",
        "\n",
        "* O trecho de código delimitado por um procedimento é chamado bloco e deve ser identado.\n",
        "* Um procedimento é chamado utilizando a notação ```nome()```."
      ]
    },
    {
      "cell_type": "code",
      "metadata": {
        "id": "Ufvgo-PSy8Bx",
        "colab_type": "code",
        "colab": {}
      },
      "source": [
        "def bom_dia():\n",
        "    print(\"Bom dia!\")\n",
        "\n",
        "bom_dia()"
      ],
      "execution_count": 0,
      "outputs": []
    },
    {
      "cell_type": "markdown",
      "metadata": {
        "id": "0O64kbAJy8B2",
        "colab_type": "text"
      },
      "source": [
        "### Exercícios de fixação"
      ]
    },
    {
      "cell_type": "markdown",
      "metadata": {
        "id": "bwHYe08vy8B3",
        "colab_type": "text"
      },
      "source": [
        "1 - Crie um procedimento ```aleatorio()``` que imprima um inteiro aleatorio pertencente ao intervalo [1,60]."
      ]
    },
    {
      "cell_type": "code",
      "metadata": {
        "id": "x7gZIi9iy8B4",
        "colab_type": "code",
        "outputId": "8356b405-d5bc-4cb4-b884-364060d4ebb0",
        "colab": {
          "base_uri": "https://localhost:8080/",
          "height": 34
        }
      },
      "source": [
        "def aleatorio():\n",
        "  from random import randint\n",
        "  print(randint(1,60))\n",
        "\n",
        "aleatorio()"
      ],
      "execution_count": 0,
      "outputs": [
        {
          "output_type": "stream",
          "text": [
            "18\n"
          ],
          "name": "stdout"
        }
      ]
    },
    {
      "cell_type": "markdown",
      "metadata": {
        "id": "U6TXW9Rzy8B7",
        "colab_type": "text"
      },
      "source": [
        "2 - Crie um procedimento mega_sena() que use o procedimento aleatorio() e imprima um jogo da mega sena."
      ]
    },
    {
      "cell_type": "code",
      "metadata": {
        "id": "7VPQ1rZty8B8",
        "colab_type": "code",
        "outputId": "76cc0629-5580-444e-d147-a14426acc1cf",
        "colab": {
          "base_uri": "https://localhost:8080/",
          "height": 119
        }
      },
      "source": [
        "def mega_sena():\n",
        "  for c in range(0, 6):\n",
        "    aleatorio()\n",
        "\n",
        "mega_sena()\n"
      ],
      "execution_count": 0,
      "outputs": [
        {
          "output_type": "stream",
          "text": [
            "8\n",
            "14\n",
            "36\n",
            "27\n",
            "42\n",
            "26\n"
          ],
          "name": "stdout"
        }
      ]
    },
    {
      "cell_type": "markdown",
      "metadata": {
        "id": "1nZmj5B1y8B_",
        "colab_type": "text"
      },
      "source": [
        "## Customizando a execução de um procedimento"
      ]
    },
    {
      "cell_type": "markdown",
      "metadata": {
        "id": "xNbekO9Cy8CA",
        "colab_type": "text"
      },
      "source": [
        "Você pode configurar o comportamento de um procedimento utilizando **parâmetros de chamada** (também conhecidos como *argumentos*).\n",
        "\n",
        "Não existe um limite para a quantidade de argumentos de um procedimento, mas você deve nomeá-los ao definir seu procedimento para poder utilizá-los como variáveis:\n",
        "\n",
        "```python\n",
        "def nome(arg1, arg2, ..., argN):\n",
        "    instrucao\n",
        "    instrucao\n",
        "    ...\n",
        "```\n"
      ]
    },
    {
      "cell_type": "code",
      "metadata": {
        "scrolled": true,
        "id": "m4daDyp6y8CB",
        "colab_type": "code",
        "outputId": "880eb615-137c-4043-ca0d-651238bb4d6a",
        "colab": {
          "base_uri": "https://localhost:8080/",
          "height": 68
        }
      },
      "source": [
        "def info_pessoa(nome, idade, email):\n",
        "    print(\"Nome:\", nome)\n",
        "    print(\"Idade:\", idade)\n",
        "    print(\"Email:\", email)\n",
        "\n",
        "info_pessoa(\"Leonardo Bezerra\", \"31\", \"leobezerra@imd.ufrn.br\")"
      ],
      "execution_count": 0,
      "outputs": [
        {
          "output_type": "stream",
          "text": [
            "Nome: Leonardo Bezerra\n",
            "Idade: 31\n",
            "Email: leobezerra@imd.ufrn.br\n"
          ],
          "name": "stdout"
        }
      ]
    },
    {
      "cell_type": "markdown",
      "metadata": {
        "id": "ZES1A0yzy8CE",
        "colab_type": "text"
      },
      "source": [
        "### Exercícios de fixação"
      ]
    },
    {
      "cell_type": "markdown",
      "metadata": {
        "id": "E5T0_9Coy8CF",
        "colab_type": "text"
      },
      "source": [
        "1 - Crie um procedimento ```media()``` que receba notas de 3 unidades de uma disciplina e calcule sua média."
      ]
    },
    {
      "cell_type": "code",
      "metadata": {
        "id": "voLBaJ1Qy8CG",
        "colab_type": "code",
        "outputId": "372003a3-dab0-4aeb-9867-1b3c5fe8bd1c",
        "colab": {
          "base_uri": "https://localhost:8080/",
          "height": 34
        }
      },
      "source": [
        "def media(nt1, nt2, nt3): \n",
        "  print((nt1 + nt2 + nt3) / 3)\n",
        "\n",
        "media(8, 8, 8)"
      ],
      "execution_count": 0,
      "outputs": [
        {
          "output_type": "stream",
          "text": [
            "8.0\n"
          ],
          "name": "stdout"
        }
      ]
    },
    {
      "cell_type": "markdown",
      "metadata": {
        "id": "do1I5-9Ay8CK",
        "colab_type": "text"
      },
      "source": [
        "2 - Crie um procedimento ```fatorial()``` que receba um inteiro N e imprima seu fatorial."
      ]
    },
    {
      "cell_type": "code",
      "metadata": {
        "id": "ttIHlsLcy8CL",
        "colab_type": "code",
        "outputId": "49c0ab98-8873-44c8-f86b-b8643f1985ab",
        "colab": {
          "base_uri": "https://localhost:8080/",
          "height": 34
        }
      },
      "source": [
        "def fatorial(n):\n",
        "  soma = 1\n",
        "  for c in range(1, n + 1):\n",
        "    soma *= c\n",
        "  print(soma)\n",
        "\n",
        "fatorial(10)"
      ],
      "execution_count": 0,
      "outputs": [
        {
          "output_type": "stream",
          "text": [
            "3628800\n"
          ],
          "name": "stdout"
        }
      ]
    },
    {
      "cell_type": "markdown",
      "metadata": {
        "id": "OvFKmRmny8CP",
        "colab_type": "text"
      },
      "source": [
        "## Interrompendo a execução de um procedimento"
      ]
    },
    {
      "cell_type": "markdown",
      "metadata": {
        "id": "9NUTXPw1y8CQ",
        "colab_type": "text"
      },
      "source": [
        "Assim como é possível interromper uma repetição usando o comando ```break```, é possível interromper a execução de um procedimento usando o comando ```return```."
      ]
    },
    {
      "cell_type": "code",
      "metadata": {
        "scrolled": true,
        "id": "lglsbCF9y8CR",
        "colab_type": "code",
        "colab": {}
      },
      "source": [
        "def raiz_quadrada(n):\n",
        "    if n < 0:\n",
        "        return\n",
        "    print(\"Raiz:\", n ** 0.5)\n",
        "\n",
        "raiz_quadrada(4)\n",
        "raiz_quadrada(16)\n",
        "raiz_quadrada(-1)"
      ],
      "execution_count": 0,
      "outputs": []
    },
    {
      "cell_type": "markdown",
      "metadata": {
        "id": "jl6lAkFIy8CV",
        "colab_type": "text"
      },
      "source": [
        "### Exercícios de fixação"
      ]
    },
    {
      "cell_type": "markdown",
      "metadata": {
        "id": "JVcrKhH2y8CW",
        "colab_type": "text"
      },
      "source": [
        "1 - Crie um procedimento ```divisao_inteira()``` que imprima o resultado e o resto da divisão inteira de dois parâmetros inteiros. Se não houver resto, seu procedimento deverá imprimir apenas o resultado da divisão."
      ]
    },
    {
      "cell_type": "code",
      "metadata": {
        "id": "HL52O4RPy8CX",
        "colab_type": "code",
        "outputId": "7ac34d72-e83c-40b5-92f6-67dc024549f3",
        "colab": {
          "base_uri": "https://localhost:8080/",
          "height": 51
        }
      },
      "source": [
        "def divisao_inteira(n1, n2):\n",
        "  print(f'{n1} / {n2} = {n1/n2:.0f}')\n",
        "  if n1 % n2 == 0:\n",
        "    return\n",
        "  print(f'Resto: {n1 % n2}')\n",
        "  \n",
        "divisao_inteira(6, 5)"
      ],
      "execution_count": 0,
      "outputs": [
        {
          "output_type": "stream",
          "text": [
            "6 / 5 = 1\n",
            "Resto: 1\n"
          ],
          "name": "stdout"
        }
      ]
    },
    {
      "cell_type": "markdown",
      "metadata": {
        "id": "2NTb_uV5y8Ca",
        "colab_type": "text"
      },
      "source": [
        "## Produzindo um valor a partir de um procedimento"
      ]
    },
    {
      "cell_type": "markdown",
      "metadata": {
        "id": "R6Q-oIaZy8Cb",
        "colab_type": "text"
      },
      "source": [
        "Outro uso do comando ```return``` é permitir que um procedimento produza um resultado (retorne um valor).\n",
        "\n",
        "Tanto é possível retornar valores diretamente, como usando as varíaveis associadas a esses valores."
      ]
    },
    {
      "cell_type": "code",
      "metadata": {
        "scrolled": true,
        "id": "Lmszmbz_y8Cc",
        "colab_type": "code",
        "colab": {}
      },
      "source": [
        "def soma_n_primeiros(n):\n",
        "    soma = 0\n",
        "    for i in range(n):\n",
        "        soma += i\n",
        "    return soma\n",
        "\n",
        "print(soma_n_primeiros(3))\n",
        "print(soma_n_primeiros(5))\n",
        "print(soma_n_primeiros(10))"
      ],
      "execution_count": 0,
      "outputs": []
    },
    {
      "cell_type": "markdown",
      "metadata": {
        "id": "w5raAxbUy8Cf",
        "colab_type": "text"
      },
      "source": [
        "### Exercícios de fixação"
      ]
    },
    {
      "cell_type": "markdown",
      "metadata": {
        "id": "BmPm-tbXy8Cg",
        "colab_type": "text"
      },
      "source": [
        "1 - Crie um procedimento ```valor_absoluto()``` que retorne o valor absoluto de um parâmetro."
      ]
    },
    {
      "cell_type": "code",
      "metadata": {
        "id": "7CPoRAuDy8Ch",
        "colab_type": "code",
        "outputId": "cb9404d6-c99f-4521-b59a-0dfed49da5d4",
        "colab": {
          "base_uri": "https://localhost:8080/",
          "height": 34
        }
      },
      "source": [
        "def valor_absoluto(n):\n",
        "  if n < 0:\n",
        "    va = n * -1\n",
        "  else:\n",
        "    va = n\n",
        "    \n",
        "  return va\n",
        "\n",
        "valor_absoluto(-5)\n",
        "  "
      ],
      "execution_count": 0,
      "outputs": [
        {
          "output_type": "execute_result",
          "data": {
            "text/plain": [
              "5"
            ]
          },
          "metadata": {
            "tags": []
          },
          "execution_count": 41
        }
      ]
    },
    {
      "cell_type": "markdown",
      "metadata": {
        "id": "knn9hRefy8Cj",
        "colab_type": "text"
      },
      "source": [
        "## Usando procedimentos definidos por outros"
      ]
    },
    {
      "cell_type": "markdown",
      "metadata": {
        "id": "YS-QT9jVy8Ck",
        "colab_type": "text"
      },
      "source": [
        "Um dos principais usos de procedimentos é a construção de **bibliotecas**, que são códigos criados por outras pessoas que você pode utilizar dentro do seu código.\n",
        "\n",
        "Nesta disciplina, você poderá **importar** procedimentos de bibliotecas de duas formas:\n",
        "- Importando procedimento(s) específico(s) de uma biblioteca\n",
        "```python\n",
        "from biblioteca import procedimento1, procedimento2, ..., procedimentoN\n",
        "```\n",
        "- Importando todos os procedimentos de uma biblioteca\n",
        "```python\n",
        "from biblioteca import *\n",
        "```"
      ]
    },
    {
      "cell_type": "markdown",
      "metadata": {
        "id": "1h6UmxbMy8Cl",
        "colab_type": "text"
      },
      "source": [
        "### Exercícios de fixação"
      ]
    },
    {
      "cell_type": "markdown",
      "metadata": {
        "id": "9KgZ1PRMy8Cm",
        "colab_type": "text"
      },
      "source": [
        "1 - Em roteiros anteriores, você usou a função ```randint()```. Qual biblioteca fornece esse procedimento?"
      ]
    },
    {
      "cell_type": "markdown",
      "metadata": {
        "id": "UdD9Yy7-YetD",
        "colab_type": "text"
      },
      "source": [
        ""
      ]
    },
    {
      "cell_type": "code",
      "metadata": {
        "id": "0Qef0cKe9m-i",
        "colab_type": "code",
        "colab": {}
      },
      "source": [
        ""
      ],
      "execution_count": 0,
      "outputs": []
    },
    {
      "cell_type": "markdown",
      "metadata": {
        "id": "-6IG4W7Ty8Cn",
        "colab_type": "text"
      },
      "source": [
        "Resposta: random"
      ]
    },
    {
      "cell_type": "markdown",
      "metadata": {
        "id": "bjhkqq-8y8Co",
        "colab_type": "text"
      },
      "source": [
        "2 - Use os procedimentos ```sin()``` e ```floor()``` da biblioteca ```math``` para calcular o seno de um número e transformá-lo em um inteiro arredondando-o para baixo."
      ]
    },
    {
      "cell_type": "code",
      "metadata": {
        "id": "BGJs2uWvy8Cp",
        "colab_type": "code",
        "outputId": "f75bfb7c-83f5-48f7-d253-cfb867cbb437",
        "colab": {
          "base_uri": "https://localhost:8080/",
          "height": 51
        }
      },
      "source": [
        "from math import sin, floor\n",
        "\n",
        "n = 10 \n",
        "print(sin(n))\n",
        "print(floor(sin(n)))"
      ],
      "execution_count": 0,
      "outputs": [
        {
          "output_type": "stream",
          "text": [
            "-0.5440211108893698\n",
            "-1\n"
          ],
          "name": "stdout"
        }
      ]
    },
    {
      "cell_type": "markdown",
      "metadata": {
        "collapsed": true,
        "id": "VRfvsTQvy8Cv",
        "colab_type": "text"
      },
      "source": [
        "## Exercícios do URI"
      ]
    },
    {
      "cell_type": "markdown",
      "metadata": {
        "collapsed": true,
        "id": "fc6lMNjCy8Cw",
        "colab_type": "text"
      },
      "source": [
        "[2630](https://www.urionlinejudge.com.br/judge/pt/problems/view/2630) - Sistemas de computação gráfica representam imagens como um conjunto de pontos (pixels) formados por três componentes: vermelho, verde e azul.\n",
        "\n",
        "Alguns algoritmos de processamento de imagem exigem um pré-processamento no qual é necessário transformar uma imagem colorida em uma imagem em tons de cinza. Esta conversão pode ser realizada de diversas maneiras, dependendo do resultado que se pretende obter.\n",
        "\n",
        "Para preservar a percepção das cores básicas pelo olho humano, uma conversão apropriada seria tomar 30% da componente vermelha (R), 59% da componente verde (G) e 11% da componente azul (B). Em termos matemáticos,\n",
        "\n",
        "P = 0,30R + 0,59G + 0,11B\n",
        "\n",
        "Outras abordagens possíveis seriam determinar o valor de P através da média aritmética das três componentes ou atribuir a P os valores da maior ou da menor entre as três componentes.\n",
        "\n",
        "Escreva um código Python que, dadas as componentes RGB de um pixel da imagem colorida, determine o valor do pixel P da imagem em tons de cinza correspondente, determinada a conversão a ser utilizada. Despreze a parte decimal do resultado, caso exista.\n",
        "\n",
        "A entrada consiste em T (1 ≤ T ≤ 100) casos de teste, onde o valor de T é dado na primeira linha da entrada. Cada caso de teste é composto por quatro linhas: a primeira linha contém a conversão a ser utilizada: eye para a primeira abordagem descrita, mean para a média aritmética, max para o valor da maior componente e min para o valor da menor componente. As demais linhas contêm os valores R, G, B (0 ≤ R, G, B ≤ 255) do pixel da imagem colorida.\n",
        "\n",
        "Para cada caso de testes dever ser impresso P, onde P é o nível de cinza do pixel da imagem em tons de cinza após a conversão do pixel da imagem colorida."
      ]
    },
    {
      "cell_type": "markdown",
      "metadata": {
        "id": "L49QLsxby8Cx",
        "colab_type": "text"
      },
      "source": [
        "|.| Entrada | Saída |\n",
        "|-|:----:|:-:|\n",
        "| *Exemplo 1* | 3<br/>min<br/>35<br/>70<br/>35<br/>mean<br/>10<br/>74<br/>181<br/>eye<br/>23<br/>78<br/>197 | 35<br/>88<br/>74 | \n",
        "| *Exemplo 2* | 4<br/>min<br/>41<br/>27<br/>32<br/>min<br/>10<br/>21<br/>6<br/>max<br/>15<br/>41<br/>72<br/>max<br/>40<br/>21<br/>63 | 27<br/>6<br/>72<br/>41 | \n",
        "| *Exemplo 3* | 2<br/>eye<br/>7<br/>62<br/>200<br/>mean<br/>15<br/>49<br/>227 | 60<br/>97 | "
      ]
    },
    {
      "cell_type": "code",
      "metadata": {
        "id": "n7GltxAsy8Cy",
        "colab_type": "code",
        "outputId": "1ce34d47-4da6-4d33-ef9d-2b959832ef7e",
        "colab": {
          "base_uri": "https://localhost:8080/",
          "height": 306
        }
      },
      "source": [
        "# Bibliotecas necessarias\n",
        "from math import floor\n",
        "\n",
        "# Definição das funções\n",
        "def eye(R, G, B):\n",
        "  P = floor((R * 0.30) + (G * 0.59) + (B * 0.11))\n",
        "  return P\n",
        "\n",
        "def mean(R, G, B):\n",
        "  P = floor((R + G  + B) / 3)\n",
        "  return P\n",
        "\n",
        "def maxx(R, G, B):\n",
        "  vmx = 0\n",
        "  if (R > G and R > B) or (R == G and R > B) or (R == B and R > G):\n",
        "    vmx = R\n",
        "  elif (G > R and G > B) or (G == R and G > B) or (G == B and G > R):\n",
        "    vmx =  G\n",
        "  elif (B > R and B > G) or (B == R and B > G) or (B == G and B > R):\n",
        "    vmx = B\n",
        "  else:\n",
        "    vmx = R\n",
        "  return vmx\n",
        "\n",
        "def minn(R, G, B):\n",
        "  vmm = 0\n",
        "  if R < G and R < B:\n",
        "    vmm = R\n",
        "  elif G < R and G < B:\n",
        "    vmm = G\n",
        "  elif B < R and B < G:\n",
        "    vmm = B\n",
        "  else:\n",
        "    vmm = R\n",
        "  return vmm\n",
        "\n",
        "# Entrada e processamento de dados\n",
        "T = int(input('Quantos testes deseja fazer: '))\n",
        "saida = ''\n",
        "\n",
        "for c in range(0, T):\n",
        "  \n",
        "  # Entradas de dados\n",
        "  tconv = str(input('Qual metodo vai usar[eye/mean/max/min]? ')).lower()\n",
        "  R = int(input('Entre com o parâmetro R: '))\n",
        "  G = int(input('Entre com o parâmetro G: '))\n",
        "  B = int(input('Entre com o parâmetro B: '))\n",
        "\n",
        "  # Qual método vai usar\n",
        "  if tconv == 'eye':\n",
        "    v = str(eye(R, G, B))\n",
        "  elif tconv == 'mean':\n",
        "    v = str(mean(R, G, B))\n",
        "  elif tconv == 'max':   \n",
        "    v = str(maxx(R, G, B))\n",
        "  elif tconv == 'min':\n",
        "    v = str(minn(R, G, B))\n",
        "\n",
        "  saida = saida + '\\n' + v\n",
        "\n",
        "print(saida)\n"
      ],
      "execution_count": 0,
      "outputs": [
        {
          "output_type": "stream",
          "text": [
            "Quantos testes deseja fazer: 3\n",
            "Qual metodo vai usar[eye/mean/max/min]? min\n",
            "Entre com o parâmetro R: 35\n",
            "Entre com o parâmetro G: 70\n",
            "Entre com o parâmetro B: 30\n",
            "Qual metodo vai usar[eye/mean/max/min]? mean\n",
            "Entre com o parâmetro R: 10\n",
            "Entre com o parâmetro G: 74\n",
            "Entre com o parâmetro B: 181\n",
            "Qual metodo vai usar[eye/mean/max/min]? eye\n",
            "Entre com o parâmetro R: 23\n",
            "Entre com o parâmetro G: 78\n",
            "Entre com o parâmetro B: 197\n",
            "\n",
            "30\n",
            "88\n",
            "74\n"
          ],
          "name": "stdout"
        }
      ]
    },
    {
      "cell_type": "markdown",
      "metadata": {
        "id": "K8FXYKOjy8C3",
        "colab_type": "text"
      },
      "source": [
        "[2165](https://www.urionlinejudge.com.br/judge/pt/problems/view/2165) - O microblog Twitter é conhecido por limitar as postagens em 140 caracteres. Mais recentemente, alguns usuários como a @HBO_Brasil tiveram seus limites de caracteres dobrados para 280.\n",
        "\n",
        "Escreva um código que confira se um texto vai caber em um tuíte. Cada caso de teste é iniciado com um inteiro informando a qual limite o usuário tem direito. Caso o tamanho do caracter exceda esse limite, seu código deverá imprimir a mensagem NO. Caso contrário, seu código deverá imprimir a mensagem OK.\n"
      ]
    },
    {
      "cell_type": "markdown",
      "metadata": {
        "id": "rWD_rj5Zy8C4",
        "colab_type": "text"
      },
      "source": [
        "|.| Entrada | Saída |\n",
        "|-|----|:-:|\n",
        "| *Exemplo 1* | 280<br/>Agora dá: Daenerys Targaryen, Filha da Tormenta, Não Queimada, Mãe de Dragões, Rainha de Mereen,<br/>Rainha dos Ândalos e dos Primeiros Homens, Quebradora de Correntes, Senhora dos Sete Reinos,<br/>Khaleesi dos Dothraki, a Primeira de Seu Nome. Descendente da Casa Targaryen. | OK | \n",
        "| *Exemplo 2* | 140<br/>Jon Snow. Ele é Rei do Norte. | OK | \n",
        "| *Exemplo 3* | 140<br/>Fish fingers last night! Looking forward to meeting with<br/>Prime Minister @Netanyahu shortly. (Was thinking of making a joke on<br/>his name – Netanya-WHO!? but @IvankaTrump said best not.)<br/>Peace in the Middle East would be a truly great legacy for ALL people! | NO | \n",
        "\n",
        "\n"
      ]
    },
    {
      "cell_type": "code",
      "metadata": {
        "id": "2zKzE7gUy8C5",
        "colab_type": "code",
        "outputId": "21bdb7f1-916e-4d8f-a377-7ee1acafecf1",
        "colab": {
          "base_uri": "https://localhost:8080/",
          "height": 105
        }
      },
      "source": [
        "# Definição de metodos\n",
        "def ConfTxt(tm, msg):\n",
        "  TamMsg = int(len(msg))\n",
        "  \n",
        "  if TamMsg > tm:\n",
        "    print('NO')\n",
        "  else:\n",
        "    print('OK')\n",
        "\n",
        "# Entrada e processamento de dados\n",
        "tm = int(input('Qual vai ser o tamanho da mensagem? '))\n",
        "msg = str(input('Dígite sua mensagem:\\n'))\n",
        "\n",
        "ConfTxt(tm, msg)"
      ],
      "execution_count": 0,
      "outputs": [
        {
          "output_type": "stream",
          "text": [
            "Qual vai ser o tamanho da mensagem? 140\n",
            "Dígite sua mensagem:\n",
            "Fish fingers last night! Looking forward to meeting with Prime Minister @Netanyahu shortly. (Was thinking of making a joke on his name – Netanya-WHO!? but @IvankaTrump said best not.) Peace in the Middle East would be a truly great legacy for ALL people!\n",
            "NO\n"
          ],
          "name": "stdout"
        }
      ]
    },
    {
      "cell_type": "markdown",
      "metadata": {
        "id": "7pc9GIJ6y8C9",
        "colab_type": "text"
      },
      "source": [
        "3 - Em exercícios de notebooks anteriores, você implementou códigos para calcular a contribuição mensal de um trabalhador para o INSS e seu IRPF (imposto de renda pessoa física).\n",
        "\n",
        "Reuse seus códigos de forma modularizada para criar um código que leia o salário bruto de um trabalhador e imprima se salário líquido (descontados INSS e IRPF)."
      ]
    },
    {
      "cell_type": "markdown",
      "metadata": {
        "id": "2XzoqKeky8C9",
        "colab_type": "text"
      },
      "source": [
        "|.| Entrada | Saída |\n",
        "|-|:-:|-|\n",
        "| *Exemplo 1* | 1200.00 | 1104.00 | \n",
        "| *Exemplo 2* | 5485.00 | 4474.05 |\n",
        "| *Exemplo 3* | 10431.00 | 8059.90 |"
      ]
    },
    {
      "cell_type": "code",
      "metadata": {
        "id": "ORpa1X9Oy8C_",
        "colab_type": "code",
        "outputId": "5cc0af66-6591-4352-f473-fb783d011712",
        "colab": {
          "base_uri": "https://localhost:8080/",
          "height": 51
        }
      },
      "source": [
        "# Definição dos metodos\n",
        "def SalLiq(salario):\n",
        "  desc = tx = 0\n",
        "  # Calculo do INSS\n",
        "  if salario <= 1693.72:\n",
        "    tx = 0.08\n",
        "    desc = salario * tx\n",
        "  elif salario > 1693.72 and salario <= 2822.90:\n",
        "    tx = 0.09\n",
        "    desc = salario * tx\n",
        "  elif salario > 2822.90 and salario <= 5645.80:\n",
        "    tx = 0.11\n",
        "    desc = salario * tx\n",
        "  else:\n",
        "    desc = 621.04\n",
        "  \n",
        "  salario -= desc\n",
        "\n",
        "  # Calculo do IRPF\n",
        "  desc = 0\n",
        "  if salario <= 1903.98:\n",
        "    desc = 0\n",
        "\n",
        "  else:\n",
        "    if salario > 1903.98 and salario <=  2826.65:\n",
        "      ali = 0.075\n",
        "      parcdedu = 142.80\n",
        "      desc = (salario * ali) - parcdedu\n",
        "\n",
        "    elif salario > 2826.65 and salario <= 3751.05:\n",
        "      ali = 0.15\n",
        "      parcdedu = 354.80\n",
        "      desc = (salario * ali) - parcdedu\n",
        "\n",
        "    elif salario > 3751.05 and salario <= 4664.68:\n",
        "      ali = 0.225\n",
        "      parcdedu = 636.13\n",
        "      desc = (salario * ali) - parcdedu\n",
        "\n",
        "    else:\n",
        "      ali = 0.275\n",
        "      parcdedu = 869.36\n",
        "      desc = (salario * ali) - parcdedu\n",
        "\n",
        "  # Definição de novo salario\n",
        "  salario = salario - desc\n",
        "  print(f'{salario:.2f}')\n",
        "\n",
        "# Chamar metodo \n",
        "salario = float(input('Informe seu salário bruto: R$'))\n",
        "\n",
        "SalLiq(salario)"
      ],
      "execution_count": 0,
      "outputs": [
        {
          "output_type": "stream",
          "text": [
            "Informe seu salário bruto: R$5485\n",
            "4408.56\n"
          ],
          "name": "stdout"
        }
      ]
    }
  ]
}