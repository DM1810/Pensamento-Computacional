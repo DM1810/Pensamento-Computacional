{
  "nbformat": 4,
  "nbformat_minor": 0,
  "metadata": {
    "colab": {
      "name": "AA03.ipynb",
      "version": "0.3.2",
      "provenance": [],
      "collapsed_sections": [],
      "include_colab_link": true
    },
    "kernelspec": {
      "name": "python3",
      "display_name": "Python 3"
    }
  },
  "cells": [
    {
      "cell_type": "markdown",
      "metadata": {
        "id": "view-in-github",
        "colab_type": "text"
      },
      "source": [
        "<a href=\"https://colab.research.google.com/github/DM1810/Pensamento-Computacional/blob/master/AA03.ipynb\" target=\"_parent\"><img src=\"https://colab.research.google.com/assets/colab-badge.svg\" alt=\"Open In Colab\"/></a>"
      ]
    },
    {
      "cell_type": "markdown",
      "metadata": {
        "id": "RAbwzSq3cfq6",
        "colab_type": "text"
      },
      "source": [
        "# Atividade Avaliativa da 3ª Unidade de Pensamento Computacional - IMD\n",
        "Prof. Carlos Eduardo de Barros Santos Júnior\n",
        "\n",
        "Monitor Danilo Galvão"
      ]
    },
    {
      "cell_type": "markdown",
      "metadata": {
        "id": "1N9LYZpJd6Dr",
        "colab_type": "text"
      },
      "source": [
        "**Responda o notebook, faça o download (formato .ipynb) e submeta na tarefa correspondente no SIGAA**"
      ]
    },
    {
      "cell_type": "markdown",
      "metadata": {
        "id": "7lLHqb6Bd020",
        "colab_type": "text"
      },
      "source": [
        "**Questão 01**\n",
        "\n",
        "Sistemas de frente de loja também devem auxiliar vendedores a dar trocos. Vamos considerar apenas os trocos com valores menores que um real, ou seja, considerem apenas as moedas.\n",
        "\n",
        "\n",
        "Escreva um código Python que leia um valor de troco e informe quantas cédulas de cada valor devem ser entregues pelo vendedor ao cliente.\n",
        "\n",
        "**Obs.:** Considere que ainda existem notas de R$ 1,00."
      ]
    },
    {
      "cell_type": "markdown",
      "metadata": {
        "id": "1JBrqSxRdtaU",
        "colab_type": "text"
      },
      "source": [
        "|.| Entrada | Saída |\n",
        "|-|----|---|\n",
        "| *Exemplo 1* | 0,75 | 1 moeda(s) de 0,50 <br /> 1 moeda(s) de 0,25 <br /> 0 moeda(s) de 0,10 <br /> 0 moeda(s) de 0,05 <br /> 0 moeda(s) de 0,01 |\n",
        "| *Exemplo 2* | 0,28 | 0 moeda(s) de 0,50 <br /> 1 moeda(s) de 0,25 <br /> 0 moeda(s) de 0,10 <br /> 0 moeda(s) de 0,05 <br /> 3 moeda(s) de 0,01 |\n",
        "| *Exemplo 3* | 0,99 | 1 moeda(s) de 0,50 <br /> 1 moeda(s) de 0,25 <br /> 2 moeda(s) de 0,10 <br /> 0 moeda(s) de 0,05 <br /> 4 moeda(s) de 0,01 |"
      ]
    },
    {
      "cell_type": "code",
      "metadata": {
        "id": "GnnB9uSuh1OH",
        "colab_type": "code",
        "colab": {}
      },
      "source": [
        "# RESPOSTA QUESTÃO 01"
      ],
      "execution_count": 0,
      "outputs": []
    },
    {
      "cell_type": "markdown",
      "metadata": {
        "id": "qdxZSXhOhtaw",
        "colab_type": "text"
      },
      "source": [
        "**Questão 02** \n",
        "\n",
        "Em sistemas de computação gráfica, compreender diferentes sistemas de coordenadas é fundamental.\n",
        "\n",
        "Considere o sistema de coordenadas cartesiano apresentado na figura abaixo. Ele serve para representar pontos que apresentam duas dimensões, normalmente representados com a notação (x, y), onde x representa a coordenada horizontal e y a vertical.\n",
        "\n",
        "<img src=\"https://github.com/leobezerra/python-zero/blob/master/imgs/UOJ_1041.png?raw=1\">\n",
        "\n",
        "O ponto (0,0) representa a origem dos eixos e é a intersecção entre as quatro subregiões ilustradas na figura abaixo (Q1, Q2, Q3 e Q4, onde Q significa *quadrante*, isto é, uma subregião). Cada quadrante da figura representa pontos com as seguintes características:\n",
        "\n",
        "| Quadrante | Horizontal | Vertical |\n",
        "|:-:|:-:|:-:|\n",
        "| Q1 | x > 0 | y > 0 |\n",
        "| Q2 | x < 0 | y > 0 |\n",
        "| Q3 | x < 0 | y < 0 |\n",
        "| Q4 | x > 0 | y < 0 |\n",
        "\n",
        "Também é possível que um ponto esteja sobre um dos eixos:\n",
        "* Um ponto estará sobre o eixo x se y = 0;\n",
        "* Um ponto estará sobre o eixo y se x = 0.\n",
        "\n",
        "Considerando este contexto, escreva um código Python que leia um ponto (duas coordenadas reais) e informe a primeira condição abaixo que se mostrar verdadeira:\n",
        "* Se o ponto está na \"Origem\";\n",
        "* Se o ponto está sobre o \"Eixo X\";\n",
        "* Se o ponto está sobre o \"Eixo Y\";\n",
        "* Em qual quadrante o ponto está."
      ]
    },
    {
      "cell_type": "code",
      "metadata": {
        "id": "uina6WBRduw5",
        "colab_type": "code",
        "colab": {}
      },
      "source": [
        "# RESPOSTA QUESTÃO 02"
      ],
      "execution_count": 0,
      "outputs": []
    },
    {
      "cell_type": "markdown",
      "metadata": {
        "id": "oajr8pYhLHo9",
        "colab_type": "text"
      },
      "source": [
        "**Questão 03**\n",
        "\n",
        "Zerinho ou um é um jogo simples que envolve apenas quatro regras:\n",
        "\n",
        "- Dois jogadores disputam entre si, podendo escolher entre 2 opções de ação: 0 ou 1.\n",
        "- Se o jogador 1 escolhe 0, ambos jogadores devem usar 0 para o que escolheu 0 saia vencedor.\n",
        "- Se o jogador 2 escolhe 1, ambos jogadores devem usar 1 para o que escolheu 1 saia vencedor.\n",
        "- Os dois jogadores não podem escolher o mesmo número.\n",
        "\n",
        "Também é possível que não haja um vencedor, quando os dois jogadores escolhem números diferentes.\n",
        "\n",
        "Escreva um código Python que receba um inteiro informando número de rodadas de uma partida e simule dois jogadores competindo entre si. Você deve imprimir as ações e o vencedor de cada rodada, bem como o vencedor da partida."
      ]
    },
    {
      "cell_type": "markdown",
      "metadata": {
        "id": "q3_zCOLsL_s0",
        "colab_type": "text"
      },
      "source": [
        "|.| Entrada | Saída |\n",
        "|-|:-:|:-|\n",
        "| *Exemplo 1* | 3  | Jogador 2 <br/> Empate <br/> Jogador 2 <br/> Placar final: 0 x 2 <br/> Partida vencida pelo Jogador 2! | \n",
        "| *Exemplo 2* | 5 | Jogador 1 <br/> Jogador 1 <br/> Empate <br/> Empate <br/> Jogador 1 <br/> Placar final: 3 x 0 <br/> Partida vencida pelo Jogador 1! |\n",
        "| *Exemplo 3* | 4 | Empate <br/> Jogador 2 <br/> Empate <br/> Empate <br/> Placar final: 0 x 1 <br/> Partida vencida pelo Jogador 2! |"
      ]
    },
    {
      "cell_type": "code",
      "metadata": {
        "id": "O0qKgQcsL-vE",
        "colab_type": "code",
        "outputId": "efac556d-55c1-4ac6-8b9d-cc7a23593a0c",
        "colab": {
          "base_uri": "https://localhost:8080/",
          "height": 129
        }
      },
      "source": [
        "# RESPOSTA QUESTÃO 03\n",
        "   from random import randint\n",
        "j1 = randint(0, 1)\n",
        "j2 = randint(0, 1)\n",
        "j3 = randint(0, 1)\n",
        "print(\"Rodada\")\n",
        "print(j1)\n",
        "print(j2)\n",
        "print(j3)\n",
        "        \n",
        "    if(j1 == j2 == j3):\n",
        "        print(\"Empate\")\n",
        "    else:\n",
        "        \t  if(j1 == j2):\n",
        "        \t\t      print(\"Ganhador Jogador 3\")\n",
        "        \t  else:\n",
        "        \t\t      if(j1 == j3):\n",
        "        \t\t\t        print(\"Vencedor Jogador 2\")\n",
        "        \t\t      else:\n",
        "        \t\t\t        print(\"Vencedor Jogador 1\")\n",
        "\n"
      ],
      "execution_count": 81,
      "outputs": [
        {
          "output_type": "error",
          "ename": "IndentationError",
          "evalue": "ignored",
          "traceback": [
            "\u001b[0;36m  File \u001b[0;32m\"<ipython-input-81-ce72b5a29710>\"\u001b[0;36m, line \u001b[0;32m10\u001b[0m\n\u001b[0;31m    if(j1 == j2 == j3):\u001b[0m\n\u001b[0m    ^\u001b[0m\n\u001b[0;31mIndentationError\u001b[0m\u001b[0;31m:\u001b[0m unexpected indent\n"
          ]
        }
      ]
    },
    {
      "cell_type": "markdown",
      "metadata": {
        "id": "5u5I8RB3MNjK",
        "colab_type": "text"
      },
      "source": [
        "**Questão 04**\t\n",
        "\n",
        "Elabore uma função que receba três notas de um aluno como parâmetro e uma letra. \n",
        "\n",
        "Se a letra for ‘A’, a função deve calcular a média aritmética das notas do aluno; se a letra for ‘P’, deverá calcular a média ponderada, com pesos 5, 3 e 2. \n",
        "\n",
        "Retorne a média calculada para o programa principal "
      ]
    },
    {
      "cell_type": "code",
      "metadata": {
        "id": "fDZ-BSTLND-D",
        "colab_type": "code",
        "outputId": "03938696-3313-44fa-f8d0-9887e47eb490",
        "colab": {
          "base_uri": "https://localhost:8080/",
          "height": 102
        }
      },
      "source": [
        "# RESPOSTA QUESTÃO 04\n",
        "n1 = float(input(\"Digite sua primeira nota: \"))\n",
        "n2 = float(input(\"Digite sua segunda nota: \"))\n",
        "n3 = float(input(\"Digite sua terceira nota: \"))\n",
        "p1 = 5\n",
        "p2 = 3\n",
        "p3 = 2\n",
        "P = ((n1 * p1) + (n2 * p2) + (n3 * p3)) / 10\n",
        "A = (n1 + n2 + n3) / 3\n",
        "print(A)\n",
        "print(P)\n"
      ],
      "execution_count": 0,
      "outputs": [
        {
          "output_type": "stream",
          "text": [
            "Digite sua primeira nota: 5.5\n",
            "Digite sua segunda nota: 4.9\n",
            "Digite sua terceira nota: 10\n",
            "6.8\n",
            "6.220000000000001\n"
          ],
          "name": "stdout"
        }
      ]
    }
  ]
}