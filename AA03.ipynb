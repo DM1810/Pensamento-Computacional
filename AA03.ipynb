{
  "nbformat": 4,
  "nbformat_minor": 0,
  "metadata": {
    "colab": {
      "name": "AA03.ipynb",
      "version": "0.3.2",
      "provenance": [],
      "collapsed_sections": [],
      "include_colab_link": true
    },
    "kernelspec": {
      "name": "python3",
      "display_name": "Python 3"
    }
  },
  "cells": [
    {
      "cell_type": "markdown",
      "metadata": {
        "id": "view-in-github",
        "colab_type": "text"
      },
      "source": [
        "<a href=\"https://colab.research.google.com/github/DM1810/Pensamento-Computacional/blob/master/AA03.ipynb\" target=\"_parent\"><img src=\"https://colab.research.google.com/assets/colab-badge.svg\" alt=\"Open In Colab\"/></a>"
      ]
    },
    {
      "cell_type": "markdown",
      "metadata": {
        "id": "RAbwzSq3cfq6",
        "colab_type": "text"
      },
      "source": [
        "# Atividade Avaliativa da 3ª Unidade de Pensamento Computacional - IMD\n",
        "Prof. Carlos Eduardo de Barros Santos Júnior\n",
        "\n",
        "Monitor Danilo Galvão"
      ]
    },
    {
      "cell_type": "markdown",
      "metadata": {
        "id": "1N9LYZpJd6Dr",
        "colab_type": "text"
      },
      "source": [
        "**Responda o notebook, faça o download (formato .ipynb) e submeta na tarefa correspondente no SIGAA**"
      ]
    },
    {
      "cell_type": "markdown",
      "metadata": {
        "id": "7lLHqb6Bd020",
        "colab_type": "text"
      },
      "source": [
        "**Questão 01**\n",
        "\n",
        "Sistemas de frente de loja também devem auxiliar vendedores a dar trocos. Vamos considerar apenas os trocos com valores menores que um real, ou seja, considerem apenas as moedas.\n",
        "\n",
        "\n",
        "Escreva um código Python que leia um valor de troco e informe quantas cédulas de cada valor devem ser entregues pelo vendedor ao cliente.\n",
        "\n",
        "**Obs.:** Considere que ainda existem notas de R$ 1,00."
      ]
    },
    {
      "cell_type": "markdown",
      "metadata": {
        "id": "1JBrqSxRdtaU",
        "colab_type": "text"
      },
      "source": [
        "|.| Entrada | Saída |\n",
        "|-|----|---|\n",
        "| *Exemplo 1* | 0,75 | 1 moeda(s) de 0,50 <br /> 1 moeda(s) de 0,25 <br /> 0 moeda(s) de 0,10 <br /> 0 moeda(s) de 0,05 <br /> 0 moeda(s) de 0,01 |\n",
        "| *Exemplo 2* | 0,28 | 0 moeda(s) de 0,50 <br /> 1 moeda(s) de 0,25 <br /> 0 moeda(s) de 0,10 <br /> 0 moeda(s) de 0,05 <br /> 3 moeda(s) de 0,01 |\n",
        "| *Exemplo 3* | 0,99 | 1 moeda(s) de 0,50 <br /> 1 moeda(s) de 0,25 <br /> 2 moeda(s) de 0,10 <br /> 0 moeda(s) de 0,05 <br /> 4 moeda(s) de 0,01 |"
      ]
    },
    {
      "cell_type": "code",
      "metadata": {
        "id": "GnnB9uSuh1OH",
        "colab_type": "code",
        "colab": {
          "base_uri": "https://localhost:8080/",
          "height": 153
        },
        "outputId": "6c2e645c-cdc7-444d-ea4f-3ebd00b43767"
      },
      "source": [
        "# RESPOSTA QUESTÃO 01\n",
        "value = eval(input());\n",
        "um = cincents = vintecincents = dezcents = cincocents = cents = 0;\n",
        "\n",
        "value = float(\"%.2f\" % value)\n",
        "if int(value/1) >= 1:\n",
        "\tum = int(value/1);\n",
        "\tvalue -= um*1;\n",
        "\n",
        "value = float(\"%.2f\" % value)\n",
        "if int(value/0.50) >= 1:\n",
        "\tcincents = int(value/0.50);\n",
        "\tvalue -= cincents*0.50;\n",
        "\n",
        "value = float(\"%.2f\" % value)\n",
        "if int(value/0.25) >= 1:\n",
        "\tvintecincents = int(value/0.25);\n",
        "\tvalue -= vintecincents*0.25;\n",
        "\n",
        "value = float(\"%.2f\" % value)\n",
        "if int(value/0.10) >= 1:\n",
        "\tdezcents = int(value/0.10);\n",
        "\tvalue -= dezcents*0.10;\n",
        "\n",
        "value = float(\"%.2f\" % value)\n",
        "if int(value/0.05) >= 1:\n",
        "\tcincocents = int(value/0.05);\n",
        "\tvalue -= cincocents*0.05;\n",
        "\n",
        "value = float(\"%.2f\" % value)\n",
        "if int(value/0.01) >= 0.998:\n",
        "\tcents = int(value/0.01);\n",
        "\tvalue -= cents*0.01;\n",
        "\n",
        "print(\"MOEDAS:\");\n",
        "print(\"%d moeda(s) de R$ 1.00\" % um);\n",
        "print(\"%d moeda(s) de R$ 0.50\" % cincents);\n",
        "print(\"%d moeda(s) de R$ 0.25\" % vintecincents);\n",
        "print(\"%d moeda(s) de R$ 0.10\" % dezcents);\n",
        "print(\"%d moeda(s) de R$ 0.05\" % cincocents);\n",
        "print(\"%d moeda(s) de R$ 0.01\" % cents);"
      ],
      "execution_count": 3,
      "outputs": [
        {
          "output_type": "stream",
          "text": [
            "50\n",
            "MOEDAS:\n",
            "50 moeda(s) de R$ 1.00\n",
            "0 moeda(s) de R$ 0.50\n",
            "0 moeda(s) de R$ 0.25\n",
            "0 moeda(s) de R$ 0.10\n",
            "0 moeda(s) de R$ 0.05\n",
            "0 moeda(s) de R$ 0.01\n"
          ],
          "name": "stdout"
        }
      ]
    },
    {
      "cell_type": "markdown",
      "metadata": {
        "id": "qdxZSXhOhtaw",
        "colab_type": "text"
      },
      "source": [
        "**Questão 02** \n",
        "\n",
        "Em sistemas de computação gráfica, compreender diferentes sistemas de coordenadas é fundamental.\n",
        "\n",
        "Considere o sistema de coordenadas cartesiano apresentado na figura abaixo. Ele serve para representar pontos que apresentam duas dimensões, normalmente representados com a notação (x, y), onde x representa a coordenada horizontal e y a vertical.\n",
        "\n",
        "<img src=\"https://github.com/leobezerra/python-zero/blob/master/imgs/UOJ_1041.png?raw=1\">\n",
        "\n",
        "O ponto (0,0) representa a origem dos eixos e é a intersecção entre as quatro subregiões ilustradas na figura abaixo (Q1, Q2, Q3 e Q4, onde Q significa *quadrante*, isto é, uma subregião). Cada quadrante da figura representa pontos com as seguintes características:\n",
        "\n",
        "| Quadrante | Horizontal | Vertical |\n",
        "|:-:|:-:|:-:|\n",
        "| Q1 | x > 0 | y > 0 |\n",
        "| Q2 | x < 0 | y > 0 |\n",
        "| Q3 | x < 0 | y < 0 |\n",
        "| Q4 | x > 0 | y < 0 |\n",
        "\n",
        "Também é possível que um ponto esteja sobre um dos eixos:\n",
        "* Um ponto estará sobre o eixo x se y = 0;\n",
        "* Um ponto estará sobre o eixo y se x = 0.\n",
        "\n",
        "Considerando este contexto, escreva um código Python que leia um ponto (duas coordenadas reais) e informe a primeira condição abaixo que se mostrar verdadeira:\n",
        "* Se o ponto está na \"Origem\";\n",
        "* Se o ponto está sobre o \"Eixo X\";\n",
        "* Se o ponto está sobre o \"Eixo Y\";\n",
        "* Em qual quadrante o ponto está."
      ]
    },
    {
      "cell_type": "code",
      "metadata": {
        "id": "uina6WBRduw5",
        "colab_type": "code",
        "colab": {
          "base_uri": "https://localhost:8080/",
          "height": 68
        },
        "outputId": "0e733442-641c-4315-958a-73dbcad9db48"
      },
      "source": [
        "# RESPOSTA QUESTÃO 02\n",
        "# Entrada de dados\n",
        "cdax = float(input())\n",
        "cday = float(input())\n",
        "\n",
        "# Processamento de dados\n",
        "# Se origem\n",
        "if cdax == 0 and cday == 0:\n",
        "  print('Origem') \n",
        "\n",
        "# Se Eixo apenas\n",
        "if cdax == 0 or cday == 0:\n",
        "  if cdax > 0 and cday == 0:\n",
        "    print('Eixo X')\n",
        "\n",
        "  elif cday > 0 and cdax == 0:\n",
        "    print('Eixo Y')\n",
        "\n",
        "#Se em quadrante\n",
        "if cdax != 0 and cday != 0:\n",
        "  if cdax > 0 and cday > 0:\n",
        "    print('Q1')\n",
        "\n",
        "  elif cdax < 0 and cday > 0:\n",
        "    print('Q2')\n",
        "\n",
        "  elif cdax < 0 and cday < 0:\n",
        "    print('Q3')\n",
        "\n",
        "  elif cdax > 0 and cday < 0:\n",
        "    print('Q4')\n"
      ],
      "execution_count": 1,
      "outputs": [
        {
          "output_type": "stream",
          "text": [
            "1\n",
            "2\n",
            "Q1\n"
          ],
          "name": "stdout"
        }
      ]
    },
    {
      "cell_type": "markdown",
      "metadata": {
        "id": "oajr8pYhLHo9",
        "colab_type": "text"
      },
      "source": [
        "**Questão 03**\n",
        "\n",
        "Zerinho ou um é um jogo simples que envolve apenas quatro regras:\n",
        "\n",
        "- Dois jogadores disputam entre si, podendo escolher entre 2 opções de ação: 0 ou 1.\n",
        "- Se o jogador 1 escolhe 0, ambos jogadores devem usar 0 para o que escolheu 0 saia vencedor.\n",
        "- Se o jogador 2 escolhe 1, ambos jogadores devem usar 1 para o que escolheu 1 saia vencedor.\n",
        "- Os dois jogadores não podem escolher o mesmo número.\n",
        "\n",
        "Também é possível que não haja um vencedor, quando os dois jogadores escolhem números diferentes.\n",
        "\n",
        "Escreva um código Python que receba um inteiro informando número de rodadas de uma partida e simule dois jogadores competindo entre si. Você deve imprimir as ações e o vencedor de cada rodada, bem como o vencedor da partida."
      ]
    },
    {
      "cell_type": "markdown",
      "metadata": {
        "id": "q3_zCOLsL_s0",
        "colab_type": "text"
      },
      "source": [
        "|.| Entrada | Saída |\n",
        "|-|:-:|:-|\n",
        "| *Exemplo 1* | 3  | Jogador 2 <br/> Empate <br/> Jogador 2 <br/> Placar final: 0 x 2 <br/> Partida vencida pelo Jogador 2! | \n",
        "| *Exemplo 2* | 5 | Jogador 1 <br/> Jogador 1 <br/> Empate <br/> Empate <br/> Jogador 1 <br/> Placar final: 3 x 0 <br/> Partida vencida pelo Jogador 1! |\n",
        "| *Exemplo 3* | 4 | Empate <br/> Jogador 2 <br/> Empate <br/> Empate <br/> Placar final: 0 x 1 <br/> Partida vencida pelo Jogador 2! |"
      ]
    },
    {
      "cell_type": "code",
      "metadata": {
        "id": "O0qKgQcsL-vE",
        "colab_type": "code",
        "outputId": "d95e06ed-991e-48f1-a9be-168f210842b6",
        "colab": {
          "base_uri": "https://localhost:8080/",
          "height": 102
        }
      },
      "source": [
        "# RESPOSTA QUESTÃO 03\n",
        "   from random import randint\n",
        "j1 = randint(0, 1)\n",
        "j2 = randint(0, 1)\n",
        "j3 = randint(0, 1)\n",
        "print(\"Rodada\")\n",
        "print(\"Jogador 1 : %0.1f\" %j1)\n",
        "print(\"Jogador 2 : %0.1f\" %j2)\n",
        "print(\"Jogador 3 : %0.1f\" %j3)\n",
        "\n",
        "if(j1 == j2 == j3):\n",
        "    print(\"Empate\")\n",
        "else:\n",
        "    if(j1 == j2):   \n",
        "        print(\"Vencedor Jogador 3\")\n",
        "    elif(j1 == j3):\n",
        "        print(\"Vencedor Jogador 2\")\n",
        "    else:\n",
        "        print(\"Vencedor Jogador 3\")\n",
        "  \n"
      ],
      "execution_count": 0,
      "outputs": [
        {
          "output_type": "stream",
          "text": [
            "Rodada\n",
            "Jogador 1 : 1.0\n",
            "Jogador 2 : 0.0\n",
            "Jogador 3 : 1.0\n",
            "Vencedor Jogador 2\n"
          ],
          "name": "stdout"
        }
      ]
    },
    {
      "cell_type": "markdown",
      "metadata": {
        "id": "5u5I8RB3MNjK",
        "colab_type": "text"
      },
      "source": [
        "**Questão 04**\t\n",
        "\n",
        "Elabore uma função que receba três notas de um aluno como parâmetro e uma letra. \n",
        "\n",
        "Se a letra for ‘A’, a função deve calcular a média aritmética das notas do aluno; se a letra for ‘P’, deverá calcular a média ponderada, com pesos 5, 3 e 2. \n",
        "\n",
        "Retorne a média calculada para o programa principal "
      ]
    },
    {
      "cell_type": "code",
      "metadata": {
        "id": "fDZ-BSTLND-D",
        "colab_type": "code",
        "outputId": "b1cf2fc5-7802-4911-9165-d31d6e14a50f",
        "colab": {
          "base_uri": "https://localhost:8080/",
          "height": 102
        }
      },
      "source": [
        "# RESPOSTA QUESTÃO 04\n",
        "n1 = float(input(\"Digite sua primeira nota: \"))\n",
        "n2 = float(input(\"Digite sua segunda nota: \"))\n",
        "n3 = float(input(\"Digite sua terceira nota: \"))\n",
        "p1 = 5\n",
        "p2 = 3\n",
        "p3 = 2\n",
        "P = ((n1 * p1) + (n2 * p2) + (n3 * p3)) / 10\n",
        "A = (n1 + n2 + n3) / 3\n",
        "print(\"Aritmética %0.2f\" %A)\n",
        "print(\"Ponderada %0.2f\" %P)\n"
      ],
      "execution_count": 0,
      "outputs": [
        {
          "output_type": "stream",
          "text": [
            "Digite sua primeira nota: 5.5\n",
            "Digite sua segunda nota: 4.9\n",
            "Digite sua terceira nota: 4.0\n",
            "Aritmética 4.80\n",
            "Ponderada 5.02\n"
          ],
          "name": "stdout"
        }
      ]
    }
  ]
}