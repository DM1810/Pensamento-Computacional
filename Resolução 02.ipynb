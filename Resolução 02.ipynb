{
  "nbformat": 4,
  "nbformat_minor": 0,
  "metadata": {
    "colab": {
      "name": "Resolução 02.ipynb",
      "version": "0.3.2",
      "provenance": [],
      "collapsed_sections": [],
      "include_colab_link": true
    },
    "language_info": {
      "codemirror_mode": {
        "name": "ipython",
        "version": 3
      },
      "file_extension": ".py",
      "mimetype": "text/x-python",
      "name": "python",
      "nbconvert_exporter": "python",
      "pygments_lexer": "ipython3",
      "version": "3.6.7"
    },
    "kernelspec": {
      "display_name": "Python 3",
      "language": "python",
      "name": "python3"
    }
  },
  "cells": [
    {
      "cell_type": "markdown",
      "metadata": {
        "id": "view-in-github",
        "colab_type": "text"
      },
      "source": [
        "<a href=\"https://colab.research.google.com/github/DM1810/Pensamento-Computacional/blob/master/Resolu%C3%A7%C3%A3o%2002.ipynb\" target=\"_parent\"><img src=\"https://colab.research.google.com/assets/colab-badge.svg\" alt=\"Open In Colab\"/></a>"
      ]
    },
    {
      "cell_type": "markdown",
      "metadata": {
        "id": "sp_Lm5eqCsBu",
        "colab_type": "text"
      },
      "source": [
        "<small><small><i>\n",
        "Este notebook foi baseado nos notebooks disponíveis em [https://gitlab.erc.monash.edu.au/andrease/Python4Maths.git]\n",
        "</i></small></small>"
      ]
    },
    {
      "cell_type": "markdown",
      "metadata": {
        "id": "QuX1IoZYCsBx",
        "colab_type": "text"
      },
      "source": [
        "# Comparando e decidindo\n",
        "\n",
        "Python permite comparar os valores associados a diferentes variáveis usando **operadores de comparação**. \n",
        "\n",
        "Expressões que contêm operadores de comparação são chamadas **expressões lógicas** e podem ser usadas em **estruturas de decisão** para decidir o que o seu código deve fazer. \n",
        "\n",
        "Neste roteiro, você aprenderá a utilizar estes conceitos da linguagem Python.\n",
        "\n",
        "## Operadores de comparação\n",
        "\n",
        "Operadores de comparação são utilizados para construir **expressões lógicas**. \n",
        "\n",
        "As regras básicas sobre expressões lógicas em Python são:\n",
        "\n",
        "* Expressões lógicas são avaliadas como verdadeiras (**True**) ou falsas (**False**).\n",
        "* Todos os operadores de comparação em Python têm precedência igual. \n",
        "* Assim como em expressões aritméticas, é possível usar parênteses para mudar a ordem de avaliação de uma expressão.\n",
        "* Caso haja empate de precedência, a expressão é avaliada da esquerda para a direita.\n",
        "\n",
        "Alguns dos operadores de comparação disponíveis em Python estão listados abaixo. "
      ]
    },
    {
      "cell_type": "markdown",
      "metadata": {
        "id": "CXaLU6PsCsBy",
        "colab_type": "text"
      },
      "source": [
        "| Símbolo | Significado |\n",
        "|:----:|---|\n",
        "| == | Igualdade |\n",
        "| !=  | Diferença |\n",
        "| < | Menor |\n",
        "| > | Maior |\n",
        "| <=  | Menor ou igual |\n",
        "| >=  | Maior ou igual |\n",
        "\n",
        "Note que é diferente usar `==` (comparação de igualdade) e `=` (associação de variável a valor)."
      ]
    },
    {
      "cell_type": "code",
      "metadata": {
        "id": "arNqO1ExCsBz",
        "colab_type": "code",
        "outputId": "f49aa922-baf0-4cc2-e1d2-39266bff3c09",
        "colab": {
          "base_uri": "https://localhost:8080/",
          "height": 34
        }
      },
      "source": [
        "z = 2\n",
        "z == 2"
      ],
      "execution_count": 0,
      "outputs": [
        {
          "output_type": "execute_result",
          "data": {
            "text/plain": [
              "True"
            ]
          },
          "metadata": {
            "tags": []
          },
          "execution_count": 1
        }
      ]
    },
    {
      "cell_type": "code",
      "metadata": {
        "id": "0dnXEmasCsB4",
        "colab_type": "code",
        "outputId": "87bc6edc-7063-4767-bb1b-bb3d811744a8",
        "colab": {
          "base_uri": "https://localhost:8080/",
          "height": 34
        }
      },
      "source": [
        "z > 2"
      ],
      "execution_count": 0,
      "outputs": [
        {
          "output_type": "execute_result",
          "data": {
            "text/plain": [
              "False"
            ]
          },
          "metadata": {
            "tags": []
          },
          "execution_count": 2
        }
      ]
    },
    {
      "cell_type": "code",
      "metadata": {
        "id": "dyymWsvqCsB7",
        "colab_type": "code",
        "outputId": "01b09155-bddc-42f4-fbee-0f002af6cfc8",
        "colab": {
          "base_uri": "https://localhost:8080/",
          "height": 34
        }
      },
      "source": [
        "z <= 2"
      ],
      "execution_count": 0,
      "outputs": [
        {
          "output_type": "execute_result",
          "data": {
            "text/plain": [
              "True"
            ]
          },
          "metadata": {
            "tags": []
          },
          "execution_count": 3
        }
      ]
    },
    {
      "cell_type": "code",
      "metadata": {
        "scrolled": true,
        "id": "XdqSyokqCsB_",
        "colab_type": "code",
        "outputId": "ecea3b40-4e66-4c1c-e427-39ff54b9ce3f",
        "colab": {
          "base_uri": "https://localhost:8080/",
          "height": 34
        }
      },
      "source": [
        "z != 2"
      ],
      "execution_count": 0,
      "outputs": [
        {
          "output_type": "execute_result",
          "data": {
            "text/plain": [
              "False"
            ]
          },
          "metadata": {
            "tags": []
          },
          "execution_count": 4
        }
      ]
    },
    {
      "cell_type": "markdown",
      "metadata": {
        "id": "NlOGR9pmCsCC",
        "colab_type": "text"
      },
      "source": [
        "### Exercícios de fixação"
      ]
    },
    {
      "cell_type": "markdown",
      "metadata": {
        "id": "APQegz3TCsCD",
        "colab_type": "text"
      },
      "source": [
        "1 - Leia dois números inteiros e teste se o primeiro é menor do que o segundo."
      ]
    },
    {
      "cell_type": "code",
      "metadata": {
        "id": "pEth5oqcCsCE",
        "colab_type": "code",
        "outputId": "b124f5a5-7a51-4cef-f205-37c37e2585a5",
        "colab": {
          "base_uri": "https://localhost:8080/",
          "height": 68
        }
      },
      "source": [
        "n1 = int(input(\"Diga um valor: \"))\n",
        "n2 = int(input(\"Diga outro valor: \"))\n",
        "n1<n2\n"
      ],
      "execution_count": 0,
      "outputs": [
        {
          "output_type": "stream",
          "text": [
            "Diga um valor: 2\n",
            "Diga outro valor: 5\n"
          ],
          "name": "stdout"
        },
        {
          "output_type": "execute_result",
          "data": {
            "text/plain": [
              "True"
            ]
          },
          "metadata": {
            "tags": []
          },
          "execution_count": 10
        }
      ]
    },
    {
      "cell_type": "markdown",
      "metadata": {
        "id": "e7z8O2wbCsCI",
        "colab_type": "text"
      },
      "source": [
        "2 - Sorteie dois números e teste se ambos são iguais.\n",
        "\n",
        "**Dica --** O procedimento **randint**(*menor*, *maior*) sorteia inteiros no intervalo entre menor e maior. Este procedimento não é um procedimento nativo do Python, por isso precisamos importá-lo do módulo **random**, que o fornece."
      ]
    },
    {
      "cell_type": "code",
      "metadata": {
        "scrolled": true,
        "id": "R6aZuXxTCsCJ",
        "colab_type": "code",
        "outputId": "71f9673b-9217-447a-d45a-679e21e41ca2",
        "colab": {
          "base_uri": "https://localhost:8080/",
          "height": 34
        }
      },
      "source": [
        "n1 = randint(0,100)\n",
        "n2 = randint(0,100)\n",
        "n1 == n2"
      ],
      "execution_count": 0,
      "outputs": [
        {
          "output_type": "execute_result",
          "data": {
            "text/plain": [
              "True"
            ]
          },
          "metadata": {
            "tags": []
          },
          "execution_count": 26
        }
      ]
    },
    {
      "cell_type": "markdown",
      "metadata": {
        "id": "fMQoMrOwCsCM",
        "colab_type": "text"
      },
      "source": [
        "### Comparando textos"
      ]
    },
    {
      "cell_type": "markdown",
      "metadata": {
        "id": "0vqcwjyCCsCN",
        "colab_type": "text"
      },
      "source": [
        "Também é possível utilizar operadores de comparação para comparar textos:\n",
        "* A igualdade (==) e a diferença (!=) funcionam de forma trivial, assim como no caso dos valores numéricos.\n",
        "* As demais operações consideram a ordem alfabética.\n"
      ]
    },
    {
      "cell_type": "code",
      "metadata": {
        "id": "WbHMStP3CsCO",
        "colab_type": "code",
        "outputId": "3da90716-9dae-4040-d85a-e3c64e61199b",
        "colab": {
          "base_uri": "https://localhost:8080/",
          "height": 34
        }
      },
      "source": [
        "nome = \"Stevejobsson\"\n",
        "nome == \"Stevejobsson\""
      ],
      "execution_count": 0,
      "outputs": [
        {
          "output_type": "execute_result",
          "data": {
            "text/plain": [
              "True"
            ]
          },
          "metadata": {
            "tags": []
          },
          "execution_count": 27
        }
      ]
    },
    {
      "cell_type": "code",
      "metadata": {
        "id": "gO7GVFyPCsCS",
        "colab_type": "code",
        "outputId": "83a7a07b-1a14-45ed-c4cf-061d0a417055",
        "colab": {
          "base_uri": "https://localhost:8080/",
          "height": 34
        }
      },
      "source": [
        "nome != \"Facebookson\""
      ],
      "execution_count": 0,
      "outputs": [
        {
          "output_type": "execute_result",
          "data": {
            "text/plain": [
              "True"
            ]
          },
          "metadata": {
            "tags": []
          },
          "execution_count": 28
        }
      ]
    },
    {
      "cell_type": "code",
      "metadata": {
        "id": "XG681yybCsCW",
        "colab_type": "code",
        "outputId": "64b7dcf1-8e24-4b84-f7f3-a1ffe6fc569a",
        "colab": {
          "base_uri": "https://localhost:8080/",
          "height": 34
        }
      },
      "source": [
        "'abc' < 'bbc'"
      ],
      "execution_count": 0,
      "outputs": [
        {
          "output_type": "execute_result",
          "data": {
            "text/plain": [
              "True"
            ]
          },
          "metadata": {
            "tags": []
          },
          "execution_count": 29
        }
      ]
    },
    {
      "cell_type": "code",
      "metadata": {
        "id": "ScCHSXUzCsCZ",
        "colab_type": "code",
        "outputId": "645d0da8-832d-4b7b-bfea-38d4037e34d7",
        "colab": {
          "base_uri": "https://localhost:8080/",
          "height": 34
        }
      },
      "source": [
        "'bbc' <= 'bbc'"
      ],
      "execution_count": 0,
      "outputs": [
        {
          "output_type": "execute_result",
          "data": {
            "text/plain": [
              "True"
            ]
          },
          "metadata": {
            "tags": []
          },
          "execution_count": 30
        }
      ]
    },
    {
      "cell_type": "code",
      "metadata": {
        "id": "chonFpGuCsCc",
        "colab_type": "code",
        "outputId": "5efcbb52-6ebc-43ad-d3c9-9eadcad6780d",
        "colab": {
          "base_uri": "https://localhost:8080/",
          "height": 34
        }
      },
      "source": [
        "'bbc' <= 'bac'"
      ],
      "execution_count": 0,
      "outputs": [
        {
          "output_type": "execute_result",
          "data": {
            "text/plain": [
              "False"
            ]
          },
          "metadata": {
            "tags": []
          },
          "execution_count": 31
        }
      ]
    },
    {
      "cell_type": "markdown",
      "metadata": {
        "id": "4J_PZ4mtCsCf",
        "colab_type": "text"
      },
      "source": [
        "### Exercícios de fixação"
      ]
    },
    {
      "cell_type": "markdown",
      "metadata": {
        "id": "E8hjDhIfCsCg",
        "colab_type": "text"
      },
      "source": [
        "3 - Leia dois nomes e teste se o primeiro é anterior ao segundo considerando a ordem alfabética."
      ]
    },
    {
      "cell_type": "code",
      "metadata": {
        "id": "r-7E9ENZCsCh",
        "colab_type": "code",
        "outputId": "89a34df8-8484-489a-ba03-ba963f3681b7",
        "colab": {
          "base_uri": "https://localhost:8080/",
          "height": 68
        }
      },
      "source": [
        "n1 = str(input(\"Diga um nome: \"))\n",
        "n2 = str(input(\"Diga outro nome: \"))\n",
        "n1<n2\n"
      ],
      "execution_count": 0,
      "outputs": [
        {
          "output_type": "stream",
          "text": [
            "Diga um nome: Daniel\n",
            "Diga outro nome: Gabriel\n"
          ],
          "name": "stdout"
        },
        {
          "output_type": "execute_result",
          "data": {
            "text/plain": [
              "True"
            ]
          },
          "metadata": {
            "tags": []
          },
          "execution_count": 3
        }
      ]
    },
    {
      "cell_type": "markdown",
      "metadata": {
        "id": "Z0wJgTr5CsCl",
        "colab_type": "text"
      },
      "source": [
        "4 - Teste se os textos \"Python\" e \"python\" são considerados idênticos."
      ]
    },
    {
      "cell_type": "code",
      "metadata": {
        "id": "pxmDXUJnCsCm",
        "colab_type": "code",
        "outputId": "b58648c5-bd84-47c8-bb66-4b57550823ba",
        "colab": {
          "base_uri": "https://localhost:8080/",
          "height": 34
        }
      },
      "source": [
        "x = \"Python\"\n",
        "y = \"python\"\n",
        "x==y"
      ],
      "execution_count": 0,
      "outputs": [
        {
          "output_type": "execute_result",
          "data": {
            "text/plain": [
              "False"
            ]
          },
          "metadata": {
            "tags": []
          },
          "execution_count": 14
        }
      ]
    },
    {
      "cell_type": "markdown",
      "metadata": {
        "id": "jiftohwkCsCp",
        "colab_type": "text"
      },
      "source": [
        "## Operadores lógicos"
      ]
    },
    {
      "cell_type": "markdown",
      "metadata": {
        "id": "SStPbe8FCsCq",
        "colab_type": "text"
      },
      "source": [
        "É possível criar expressões lógicas mais complexas utilizando **operadores lógicos**.\n",
        "\n",
        "Os operadores lógicos mais simples do Python são os operadores E (**and**) e OU (**or**).\n",
        "\n",
        "As regras básicas sobre expressões que contenham operadores lógicos em Python são:\n",
        "\n",
        "* Operadores de comparação têm maior precedência que operadores lógicos.\n",
        "* O operador lógico **and** tem maior precedência que o operador **or**. \n",
        "* É possível usar parênteses para mudar a ordem de avaliação de uma expressão.\n",
        "* Caso reste apenas operações de mesma precedência, a expressão passa a ser avaliada da esquerda para a direita."
      ]
    },
    {
      "cell_type": "markdown",
      "metadata": {
        "id": "bJmlo-2SCsCr",
        "colab_type": "text"
      },
      "source": [
        "| Símbolo | Significado |\n",
        "|:----:|---|\n",
        "| **and** | **True**, desde que ambos os lados da expressão sejam verdadeiros |\n",
        "| **or**  | **True**, desde que pelo menos um lado da expressão seja verdadeiro |"
      ]
    },
    {
      "cell_type": "code",
      "metadata": {
        "id": "ax_A52rLCsCr",
        "colab_type": "code",
        "outputId": "facf4e19-d800-48b9-b9f6-193c9f17a225",
        "colab": {
          "base_uri": "https://localhost:8080/",
          "height": 34
        }
      },
      "source": [
        "\"a\" < \"b\" and 5 >= 5"
      ],
      "execution_count": 0,
      "outputs": [
        {
          "output_type": "execute_result",
          "data": {
            "text/plain": [
              "True"
            ]
          },
          "metadata": {
            "tags": []
          },
          "execution_count": 15
        }
      ]
    },
    {
      "cell_type": "code",
      "metadata": {
        "id": "EWhjXf4OCsCv",
        "colab_type": "code",
        "outputId": "b1ef9e9f-acde-4a37-834b-29895f02ad5e",
        "colab": {
          "base_uri": "https://localhost:8080/",
          "height": 34
        }
      },
      "source": [
        "\"a\" <= \"b\" and 5 > 5"
      ],
      "execution_count": 0,
      "outputs": [
        {
          "output_type": "execute_result",
          "data": {
            "text/plain": [
              "False"
            ]
          },
          "metadata": {
            "tags": []
          },
          "execution_count": 16
        }
      ]
    },
    {
      "cell_type": "code",
      "metadata": {
        "id": "BYn_7xIdCsC1",
        "colab_type": "code",
        "outputId": "b69e4168-afea-4bd9-b2c7-2cd1f24464c3",
        "colab": {
          "base_uri": "https://localhost:8080/",
          "height": 34
        }
      },
      "source": [
        "\"a\" <= \"b\" or 5 > 5"
      ],
      "execution_count": 0,
      "outputs": [
        {
          "output_type": "execute_result",
          "data": {
            "text/plain": [
              "True"
            ]
          },
          "metadata": {
            "tags": []
          },
          "execution_count": 17
        }
      ]
    },
    {
      "cell_type": "markdown",
      "metadata": {
        "id": "pfBSoEJPCsC_",
        "colab_type": "text"
      },
      "source": [
        "### Exercícios de fixação"
      ]
    },
    {
      "cell_type": "markdown",
      "metadata": {
        "id": "k-QzR0LSCsDA",
        "colab_type": "text"
      },
      "source": [
        "5 - Leia um gênero e uma idade. Teste se esta combinação representa alguém em situação de obrigatoriedade militar.\n",
        "\n",
        "**Dica --** Em tempos de \"paz\", o serviço militar só é obrigatório para homens maiores de idade."
      ]
    },
    {
      "cell_type": "code",
      "metadata": {
        "id": "8J5770pfCsDB",
        "colab_type": "code",
        "outputId": "034f7ae5-4806-4edc-8a66-775b538616a2",
        "colab": {
          "base_uri": "https://localhost:8080/",
          "height": 68
        }
      },
      "source": [
        "g = str(input(\"Qual seu gênero?[Masculino/Feminino]\"))\n",
        "i = int(input(\"Qual sua idade?\"))\n",
        "g == \"Masculino\" and i >= 18 "
      ],
      "execution_count": 0,
      "outputs": [
        {
          "output_type": "stream",
          "text": [
            "Qual seu gênero?[Masculino/Feminino]Masculino\n",
            "Qual sua idade?19\n"
          ],
          "name": "stdout"
        },
        {
          "output_type": "execute_result",
          "data": {
            "text/plain": [
              "True"
            ]
          },
          "metadata": {
            "tags": []
          },
          "execution_count": 5
        }
      ]
    },
    {
      "cell_type": "markdown",
      "metadata": {
        "id": "5ZAOMv3BCsDE",
        "colab_type": "text"
      },
      "source": [
        "6 - Leia uma idade e teste se esta pessoa está obrigada a votar.\n",
        "\n",
        "*Dica --** Estão obrigados a votar pessoas entre 18 e 70 anos de idade."
      ]
    },
    {
      "cell_type": "code",
      "metadata": {
        "id": "7ALH91USCsDE",
        "colab_type": "code",
        "outputId": "7a7f67cc-6429-46f7-9e78-f3e5e4130b83",
        "colab": {
          "base_uri": "https://localhost:8080/",
          "height": 51
        }
      },
      "source": [
        "i = int(input(\"Digite sua idade: \"))\n",
        "i >= 18 and idade <= 70\n"
      ],
      "execution_count": 0,
      "outputs": [
        {
          "output_type": "stream",
          "text": [
            "Digite sua idade: 18\n"
          ],
          "name": "stdout"
        },
        {
          "output_type": "execute_result",
          "data": {
            "text/plain": [
              "True"
            ]
          },
          "metadata": {
            "tags": []
          },
          "execution_count": 11
        }
      ]
    },
    {
      "cell_type": "markdown",
      "metadata": {
        "id": "Guyu4FXtCsDI",
        "colab_type": "text"
      },
      "source": [
        "7 - Leia uma idade e teste se para esta pessoa o voto é facultativo.\n",
        "\n",
        "**Dica --** O voto é facultativo para pessoas entre 16 e 18 anos ou acima dos 70 anos."
      ]
    },
    {
      "cell_type": "code",
      "metadata": {
        "id": "zcUjM6UuCsDJ",
        "colab_type": "code",
        "outputId": "06be1ed1-7b10-4ab4-8ac1-4099d6829107",
        "colab": {
          "base_uri": "https://localhost:8080/",
          "height": 51
        }
      },
      "source": [
        "i = int(input(\"Digite sua idade: \"))\n",
        "(i >= 16 and i <= 18) or i <= 70\n"
      ],
      "execution_count": 0,
      "outputs": [
        {
          "output_type": "stream",
          "text": [
            "Digite sua idade: 16\n"
          ],
          "name": "stdout"
        },
        {
          "output_type": "execute_result",
          "data": {
            "text/plain": [
              "True"
            ]
          },
          "metadata": {
            "tags": []
          },
          "execution_count": 15
        }
      ]
    },
    {
      "cell_type": "markdown",
      "metadata": {
        "id": "e1PPFp_oCsDN",
        "colab_type": "text"
      },
      "source": [
        "8 - Leia três inteiros e teste se o primeiro pertence ao intervalo delimitado pelos dois últimos.\n",
        "\n",
        "**Observação --** Por simplicidade, suponha que os dois últimos números estão ordenados de forma crescente."
      ]
    },
    {
      "cell_type": "code",
      "metadata": {
        "id": "CTxdirAqCsDO",
        "colab_type": "code",
        "outputId": "5fffebf5-601a-4eeb-cf0b-107fcb6c5894",
        "colab": {
          "base_uri": "https://localhost:8080/",
          "height": 85
        }
      },
      "source": [
        "n1 = int(input('Número 1:'))\n",
        "n2 = int(input('Número 2:'))\n",
        "n3 = int(input('Número 3:'))\n",
        "\n",
        "n1 > n2 and n1 < n3"
      ],
      "execution_count": 0,
      "outputs": [
        {
          "output_type": "stream",
          "text": [
            "Número 1:5\n",
            "Número 2:1\n",
            "Número 3:10\n"
          ],
          "name": "stdout"
        },
        {
          "output_type": "execute_result",
          "data": {
            "text/plain": [
              "True"
            ]
          },
          "metadata": {
            "tags": []
          },
          "execution_count": 20
        }
      ]
    },
    {
      "cell_type": "markdown",
      "metadata": {
        "id": "q6RbAwEHCsDR",
        "colab_type": "text"
      },
      "source": [
        "### Estruturas de decisão"
      ]
    },
    {
      "cell_type": "markdown",
      "metadata": {
        "id": "dybcMUVgCsDR",
        "colab_type": "text"
      },
      "source": [
        "A principal estrutura utilizada em Python para definir se um trecho de um código será executado é a estrutura **if**, ilustrada a seguir:\n",
        "\n",
        "```python\n",
        "if condicao:\n",
        "    expressao\n",
        "    expressao\n",
        "    ...```"
      ]
    },
    {
      "cell_type": "markdown",
      "metadata": {
        "id": "Re6AcUFpCsDS",
        "colab_type": "text"
      },
      "source": [
        "As regras básicas para o uso da estrutura **if** em Python são:\n",
        "\n",
        "* O trecho de código delimitado por uma estrutura **if** é chamado bloco.\n",
        "* Um bloco é caracterizado pela *identação* de suas linhas. Assim, a quantidade de espaços no começo de cada linha é bastante importante no Python.\n",
        "* O bloco de uma estrutura **if** só é executado se sua condição for satisfeita. A condição é avaliada como uma expressão lógica."
      ]
    },
    {
      "cell_type": "code",
      "metadata": {
        "id": "1RZQ7r5OCsDT",
        "colab_type": "code",
        "outputId": "5ddafdd0-78ed-41aa-eb4c-a383720559f8",
        "colab": {
          "base_uri": "https://localhost:8080/",
          "height": 51
        }
      },
      "source": [
        "numero = int(input())\n",
        "if numero % 2 == 0:\n",
        "    print(\"O número\", numero, \"é par.\")"
      ],
      "execution_count": 0,
      "outputs": [
        {
          "output_type": "stream",
          "text": [
            "10\n",
            "O número 10 é par.\n"
          ],
          "name": "stdout"
        }
      ]
    },
    {
      "cell_type": "markdown",
      "metadata": {
        "id": "QwUnF2reCsDW",
        "colab_type": "text"
      },
      "source": [
        "### Exercícios de fixação"
      ]
    },
    {
      "cell_type": "markdown",
      "metadata": {
        "id": "teW0ldDuCsDZ",
        "colab_type": "text"
      },
      "source": [
        "9 - Leia um inteiro e o imprima se ele for múltiplo de 3."
      ]
    },
    {
      "cell_type": "code",
      "metadata": {
        "id": "4hlXe2VjCsDa",
        "colab_type": "code",
        "outputId": "6219e321-b776-4dad-def2-88137b4f1771",
        "colab": {
          "base_uri": "https://localhost:8080/",
          "height": 51
        }
      },
      "source": [
        "n = int(input(\"Digite um número: \"))\n",
        "if n % 3 == 0:\n",
        "  print(f'{n} é divisivel por 3')"
      ],
      "execution_count": 0,
      "outputs": [
        {
          "output_type": "stream",
          "text": [
            "Digite um número: 9\n",
            "9 é divisivel por 3\n"
          ],
          "name": "stdout"
        }
      ]
    },
    {
      "cell_type": "markdown",
      "metadata": {
        "id": "MyG2fRDrCsDd",
        "colab_type": "text"
      },
      "source": [
        "10 - Informe entradas para o código abaixo que façam a mensagem ser impressa."
      ]
    },
    {
      "cell_type": "code",
      "metadata": {
        "id": "-GZzaxQCCsDf",
        "colab_type": "code",
        "outputId": "eadd8ebc-0578-4004-bb79-53e8f63e3ad2",
        "colab": {
          "base_uri": "https://localhost:8080/",
          "height": 68
        }
      },
      "source": [
        "texto = input()\n",
        "numero = int(input())\n",
        "if texto < \"hello\" and numero ** 0.5 == 8:\n",
        "    print(\"Mensagem impressa ;)\")"
      ],
      "execution_count": 0,
      "outputs": [
        {
          "output_type": "stream",
          "text": [
            "\"hello\"\n",
            "64\n",
            "Mensagem impressa ;)\n"
          ],
          "name": "stdout"
        }
      ]
    },
    {
      "cell_type": "markdown",
      "metadata": {
        "id": "UXjUzgZjCsDi",
        "colab_type": "text"
      },
      "source": [
        "### A estrutura ```if-else```"
      ]
    },
    {
      "cell_type": "markdown",
      "metadata": {
        "id": "ZD_DHl7nCsDi",
        "colab_type": "text"
      },
      "source": [
        "Uma expansão da estrutura **if** é a estrutura **if-else**, que define trechos de código mutuamente exclusivos.\n",
        "\n",
        "```python\n",
        "if condicao:\n",
        "    # bloco se a condição for satisfeita\n",
        "    expressao\n",
        "    ...\n",
        "else:\n",
        "    # bloco se a condição não for satisfeita\n",
        "    expressao\n",
        "    ...\n",
        "```\n",
        "Ambos os blocos de uma estrutura **if-else** devem estar *identados*, de preferência pela mesma quantidade de espaços."
      ]
    },
    {
      "cell_type": "code",
      "metadata": {
        "id": "g6uVyR4zCsDj",
        "colab_type": "code",
        "outputId": "08b0a5ab-94b1-4cd9-dae8-b7873a745c06",
        "colab": {
          "base_uri": "https://localhost:8080/",
          "height": 51
        }
      },
      "source": [
        "numero = int(input())\n",
        "if numero % 2 == 0:\n",
        "    print(\"O número\", numero, \"é par.\")\n",
        "else:\n",
        "    print(\"O número\", numero, \"é ímpar.\")"
      ],
      "execution_count": 0,
      "outputs": [
        {
          "output_type": "stream",
          "text": [
            "5\n",
            "O número 5 é ímpar.\n"
          ],
          "name": "stdout"
        }
      ]
    },
    {
      "cell_type": "markdown",
      "metadata": {
        "id": "8tmdCzipCsDm",
        "colab_type": "text"
      },
      "source": [
        "### Exercícios de fixação"
      ]
    },
    {
      "cell_type": "markdown",
      "metadata": {
        "collapsed": true,
        "id": "WZmA7oGUCsDn",
        "colab_type": "text"
      },
      "source": [
        "11 - Leia um inteiro e informe se ele é ou não múltiplo de 6."
      ]
    },
    {
      "cell_type": "code",
      "metadata": {
        "id": "BaWhPkyxCsDn",
        "colab_type": "code",
        "outputId": "5ae48bd6-1b87-4bef-99e7-b5c0c4d33345",
        "colab": {
          "base_uri": "https://localhost:8080/",
          "height": 51
        }
      },
      "source": [
        "n = int(input('Informe um número: '))\n",
        "if n % 6 == 0:\n",
        "  print(f'{n} é divisível por 6')\n",
        "else:\n",
        "  print(f'{n} não é divisível por 6')"
      ],
      "execution_count": 0,
      "outputs": [
        {
          "output_type": "stream",
          "text": [
            "Informe um número: 12\n",
            "12 é divisível por 6\n"
          ],
          "name": "stdout"
        }
      ]
    },
    {
      "cell_type": "markdown",
      "metadata": {
        "id": "W2dRyxAhCsDr",
        "colab_type": "text"
      },
      "source": [
        "12 - Leia dois nomes de pessoas e os imprima em ordem alfabética."
      ]
    },
    {
      "cell_type": "code",
      "metadata": {
        "id": "3BpNuUtsCsDs",
        "colab_type": "code",
        "outputId": "3d6fb41e-c8a1-4883-97ea-567d8195524b",
        "colab": {
          "base_uri": "https://localhost:8080/",
          "height": 68
        }
      },
      "source": [
        "nome1 = str(input('Informe um nome: '))\n",
        "nome2 = str(input('Informe outro nome: '))\n",
        "if nome1 < nome2:\n",
        "  print(nome1, nome2)\n",
        "else:\n",
        "  print(nome2, nome1)"
      ],
      "execution_count": 0,
      "outputs": [
        {
          "output_type": "stream",
          "text": [
            "Informe um nome: Daniel\n",
            "Informe outro nome: Gabriel\n",
            "Daniel Gabriel\n"
          ],
          "name": "stdout"
        }
      ]
    },
    {
      "cell_type": "markdown",
      "metadata": {
        "id": "Jvv7cq0NCsDu",
        "colab_type": "text"
      },
      "source": [
        "### A estrutura ```if-elif-else```"
      ]
    },
    {
      "cell_type": "markdown",
      "metadata": {
        "id": "wkxh1XvOCsDv",
        "colab_type": "text"
      },
      "source": [
        "É possível utilizar a estrutura **if-elif-else** para especificar múltiplos fluxos de execução do algoritmo, em função de uma condição principal e de condições alternativas:\n",
        "\n",
        "```python\n",
        "if condicao_principal:\n",
        "    # bloco se a condição principal for satisfeita\n",
        "    expressao\n",
        "    ...\n",
        "elif condicao_alternativa_1:\n",
        "    # bloco se a condição principal não for satisfeita mas a condição alternativa 1 for\n",
        "    expressao\n",
        "    ...\n",
        "elif condicao_alternativa_2:\n",
        "    # bloco se nem a condição principal nem a condição alternativa 1 forem satisfeitas, mas a condição alternativa 2 for\n",
        "    expressao\n",
        "    ...\n",
        "...\n",
        "else:\n",
        "    # bloco se nem a condição principal nem as condições alternativas forem satisfeitas\n",
        "    expressao\n",
        "    ...\n",
        "\n",
        "```"
      ]
    },
    {
      "cell_type": "markdown",
      "metadata": {
        "id": "-mByYCAyCsDw",
        "colab_type": "text"
      },
      "source": [
        "As regras básicas para o uso da estrutura **if-elif-else** em Python são:\n",
        "\n",
        "* O bloco **if** é executado se a condição principal for satisfeita.\n",
        "* Um bloco **elif** é executado se sua condição for satisfeita e as condições acima dele não forem. \n",
        "* O bloco **else** é executado se nenhuma condição for satisfeita.\n"
      ]
    },
    {
      "cell_type": "code",
      "metadata": {
        "id": "quRjdn2zCsDy",
        "colab_type": "code",
        "outputId": "e79deb8c-e420-4d94-97c8-f27b44da2c86",
        "colab": {
          "base_uri": "https://localhost:8080/",
          "height": 51
        }
      },
      "source": [
        "from random import randint\n",
        "\n",
        "numero = randint(0,100)\n",
        "chute = int(input(\"Chute um número entre 0 e 100: \"))\n",
        "if chute == numero:\n",
        "    print(\"Parabéns, você acertou!\")\n",
        "elif chute < numero:\n",
        "    print(\"Seu chute foi menor que o número sorteado!\")\n",
        "else:\n",
        "    print(\"Seu chute foi maior que o número sorteado!\")"
      ],
      "execution_count": 0,
      "outputs": [
        {
          "output_type": "stream",
          "text": [
            "Chute um número entre 0 e 100: 50\n",
            "Seu chute foi maior que o número sorteado!\n"
          ],
          "name": "stdout"
        }
      ]
    },
    {
      "cell_type": "markdown",
      "metadata": {
        "id": "JvxmrEdMCsD0",
        "colab_type": "text"
      },
      "source": [
        "### Exercícios de fixação"
      ]
    },
    {
      "cell_type": "markdown",
      "metadata": {
        "id": "eaQjqipRCsD1",
        "colab_type": "text"
      },
      "source": [
        "13 - Leia um número e teste se ele é positivo, negativo ou nulo."
      ]
    },
    {
      "cell_type": "code",
      "metadata": {
        "id": "uOrp8_6eCsD2",
        "colab_type": "code",
        "outputId": "9d132372-7b14-430d-abaa-e5aa2a16e3e5",
        "colab": {
          "base_uri": "https://localhost:8080/",
          "height": 51
        }
      },
      "source": [
        "n = int(input('Informe um número: '))\n",
        "if n > 0:\n",
        "  print(f'{n} é positivo.')\n",
        "elif n < 0:\n",
        "  print(f'{n} é negativo.')\n",
        "else:\n",
        "  print(f'{n} é nulo.')"
      ],
      "execution_count": 0,
      "outputs": [
        {
          "output_type": "stream",
          "text": [
            "Informe um número: 2\n",
            "2 é positivo.\n"
          ],
          "name": "stdout"
        }
      ]
    },
    {
      "cell_type": "markdown",
      "metadata": {
        "id": "lzhNa9AkCsD4",
        "colab_type": "text"
      },
      "source": [
        "### Combinando múltiplas estruturas de decisão"
      ]
    },
    {
      "cell_type": "markdown",
      "metadata": {
        "id": "DVqqfA-5CsD5",
        "colab_type": "text"
      },
      "source": [
        "Também é possível combinar estruturas de decisão em múltiplos níveis, o que é conhecido como **aninhar estruturas**.\n",
        "\n",
        "As regras básicas para aninhar estruturas de decisão em Python são:\n",
        "* Não há limite com relação a quantas estruturas e em quantos níveis.\n",
        "* Blocos de níveis mais profundos devem apresentar maior grau de identação. "
      ]
    },
    {
      "cell_type": "code",
      "metadata": {
        "id": "pceFByX9CsD6",
        "colab_type": "code",
        "outputId": "93b665c1-d605-4914-fa44-f19ba47b65eb",
        "colab": {
          "base_uri": "https://localhost:8080/",
          "height": 34
        }
      },
      "source": [
        "from random import randint\n",
        "\n",
        "numero = randint(0,100)\n",
        "if numero % 6 == 0:\n",
        "    print(\"O número\", numero, \"é múltiplo de 6!\")\n",
        "else:\n",
        "    if numero % 2 == 0:\n",
        "        print(\"O número\", numero, \"é múltiplo de 2, mas não de 3!\")\n",
        "    elif numero % 3 == 0:\n",
        "        print(\"O número\", numero, \"é múltiplo de 3, mas não de 2!\")\n",
        "    else:\n",
        "        print(\"O número\", numero, \"não é multiplo de 2 nem de 3, muito menos de 6!\")"
      ],
      "execution_count": 0,
      "outputs": [
        {
          "output_type": "stream",
          "text": [
            "O número 36 é múltiplo de 6!\n"
          ],
          "name": "stdout"
        }
      ]
    },
    {
      "cell_type": "markdown",
      "metadata": {
        "collapsed": true,
        "id": "fpNhSj91CsD8",
        "colab_type": "text"
      },
      "source": [
        "## Exercícios do URI"
      ]
    },
    {
      "cell_type": "markdown",
      "metadata": {
        "collapsed": true,
        "id": "DTAJOcrpCsD9",
        "colab_type": "text"
      },
      "source": [
        "[1037](https://www.urionlinejudge.com.br/judge/pt/problems/view/1037) - Um histograma é um tipo de gráfico estatístico que particiona os dados disponíveis em subgrupos e informa quantos elementos existem em cada subgrupo.\n",
        "\n",
        "Escreva um código Python que possa ser usado para construir um histograma de um conjunto de números inteiros sorteados no intervalo [0,100), isto é, valores maiores ou iguais a 0 e menores que 100. \n",
        "\n",
        "Por simplicidade, considere que apenas um número será sorteado. Você deve identificar a qual dos intervalos a seguir este número pertence: [0,25), [25,50), [50,75), [75,100). "
      ]
    },
    {
      "cell_type": "markdown",
      "metadata": {
        "id": "WjbGBFuBCsD-",
        "colab_type": "text"
      },
      "source": [
        "|.| Entrada | Saída |\n",
        "|-|:----:|---|\n",
        "| *Exemplo 1* | 5 | [0,25) | \n",
        "| *Exemplo 2* | 50 | [50,75) |\n",
        "| *Exemplo 3* | 74 | [50,75) |"
      ]
    },
    {
      "cell_type": "code",
      "metadata": {
        "id": "ctCj-sfFCsD_",
        "colab_type": "code",
        "outputId": "80a33358-7155-4429-b3b9-a7c1fc8ec468",
        "colab": {
          "base_uri": "https://localhost:8080/",
          "height": 51
        }
      },
      "source": [
        "# Entrada pseudoaleatoria\n",
        "num = randint(0, 99)\n",
        "print(num)\n",
        "\n",
        "# Processamento de dados\n",
        "if num >= 0 and num < 25:\n",
        "  print('[0,25)')\n",
        "  \n",
        "elif num >= 25 and num < 50:\n",
        "  print('[25,50)')\n",
        "  \n",
        "elif num >= 50 and num < 75:\n",
        "  print('[50,75)')\n",
        "  \n",
        "elif num >= 75 and num < 100:\n",
        "  print('[75,100)')"
      ],
      "execution_count": 0,
      "outputs": [
        {
          "output_type": "stream",
          "text": [
            "55\n",
            "[50,75)\n"
          ],
          "name": "stdout"
        }
      ]
    },
    {
      "cell_type": "markdown",
      "metadata": {
        "id": "TGs3L0woCsEB",
        "colab_type": "text"
      },
      "source": [
        "[1049](https://www.urionlinejudge.com.br/judge/pt/problems/view/1049) - Uma árvore de classificação é uma ferramenta usada em diferentes áreas da ciência para ajudar a identificar objetos por suas características.\n",
        "\n",
        "Considerando a árvore de classificação abaixo, escreva um código Python que identifique um animal por suas características. Mais precisamente, seu código deve receber três textos como entrada e informar ao usuário de qual animal se trata.\n",
        "\n",
        "<img src=\"https://github.com/leobezerra/python-zero/blob/master/imgs/UOJ_1049_b.png?raw=1\">"
      ]
    },
    {
      "cell_type": "markdown",
      "metadata": {
        "id": "Wmpd5NCWCsEC",
        "colab_type": "text"
      },
      "source": [
        "|.| Entrada | Saída |\n",
        "|-|----|---|\n",
        "| *Exemplo 1* | vertebrado<br/>mamifero<br/>onivoro | homem | \n",
        "| *Exemplo 2* | vertebrado<br/>ave<br/>carnivoro | aguia |\n",
        "| *Exemplo 3* | invertebrado<br/>anelideo<br/>onivoro | minhoca |"
      ]
    },
    {
      "cell_type": "code",
      "metadata": {
        "id": "hxPLvl4DCsEE",
        "colab_type": "code",
        "outputId": "3ddff9d8-a49c-44f6-be43-6cf3efdef3f6",
        "colab": {
          "base_uri": "https://localhost:8080/",
          "height": 85
        }
      },
      "source": [
        "# -*- coding: utf-8 -*-\n",
        "# Entrada de dados\n",
        "etr1 = str(input()).upper()\n",
        "etr2 = str(input()).upper()\n",
        "etr3 = str(input()).upper()\n",
        "\n",
        "# Processamento de dados\n",
        "# Vertebrado\n",
        "if etr1 == 'VERTEBRADO' and etr2 == 'AVE' and etr3 == 'CARNIVORO':\n",
        "  print('Aguia')\n",
        "\n",
        "elif etr1 == 'VERTEBRADO' and etr2 == 'AVE' and etr3 == 'ONIVORO':\n",
        "  print('Pomba')\n",
        "\n",
        "elif etr1 == 'VERTEBRADO' and etr2 == 'MAMIFERO' and etr3 == 'ONIVORO':\n",
        "  print('Homem')\n",
        "\n",
        "elif etr1 == 'VERTEBRADO' and etr2 == 'MAMIFERO' and etr3 == 'HERBIVORO':\n",
        "  print('Vaca')\n",
        "\n",
        "# Invertebrado\n",
        "if etr1 == 'INVERTEBRADO' and etr2 == 'INSETO' and etr3 == 'EMATOFAGO':\n",
        "  print('Pulga')\n",
        "\n",
        "elif etr1 == 'INVERTEBRADO' and etr2 == 'INSETO' and etr3 == 'HEBIVORO':\n",
        "  print('Lagarta')\n",
        "\n",
        "elif etr1 == 'INVERTEBRADO' and etr2 == 'ANELIDEO' and etr3 == 'EMATOFAGO':\n",
        "  print('Sanguessuga')\n",
        "\n",
        "elif etr1 == 'INVERTEBRADO' and etr2 == 'ANELIDEO' and etr3 == 'HERBIVORO':\n",
        "  print('Minhoca')\n",
        "  "
      ],
      "execution_count": 0,
      "outputs": [
        {
          "output_type": "stream",
          "text": [
            "VERTEBRADO\n",
            "MAMIFERO\n",
            "ONIVORO\n",
            "Homem\n"
          ],
          "name": "stdout"
        }
      ]
    },
    {
      "cell_type": "markdown",
      "metadata": {
        "id": "dfP7zhpFCsEG",
        "colab_type": "text"
      },
      "source": [
        "[1049](https://www.urionlinejudge.com.br/judge/pt/problems/view/1049) - Em sistemas de computação gráfica, compreender diferentes sistemas de coordenadas é fundamental.\n",
        "\n",
        "Considere o sistema de coordenadas cartesiano apresentado na figura abaixo. Ele serve para representar pontos que apresentam duas dimensões, normalmente representados com a notação (x, y), onde x representa a coordenada horizontal e y a vertical.\n",
        "\n",
        "<img src=\"https://github.com/leobezerra/python-zero/blob/master/imgs/UOJ_1041.png?raw=1\">\n",
        "\n",
        "O ponto (0,0) representa a origem dos eixos e é a intersecção entre as quatro subregiões ilustradas na figura abaixo (Q1, Q2, Q3 e Q4, onde Q significa *quadrante*, isto é, uma subregião). Cada quadrante da figura representa pontos com as seguintes características:\n",
        "\n",
        "| Quadrante | Horizontal | Vertical |\n",
        "|:-:|:-:|:-:|\n",
        "| Q1 | x > 0 | y > 0 |\n",
        "| Q2 | x < 0 | y > 0 |\n",
        "| Q3 | x < 0 | y < 0 |\n",
        "| Q4 | x > 0 | y < 0 |\n",
        "\n",
        "Também é possível que um ponto esteja sobre um dos eixos:\n",
        "* Um ponto estará sobre o eixo x se y = 0;\n",
        "* Um ponto estará sobre o eixo y se x = 0.\n",
        "\n",
        "Considerando este contexto, escreva um código Python que leia um ponto (duas coordenadas reais) e informe a primeira condição abaixo que se mostrar verdadeira:\n",
        "* Se o ponto está na \"Origem\";\n",
        "* Se o ponto está sobre o \"Eixo X\";\n",
        "* Se o ponto está sobre o \"Eixo Y\";\n",
        "* Em qual quadrante o ponto está."
      ]
    },
    {
      "cell_type": "markdown",
      "metadata": {
        "id": "ElZzBkzHCsEH",
        "colab_type": "text"
      },
      "source": [
        "|.| Entrada | Saída |\n",
        "|-|:-:|:-:|\n",
        "| *Exemplo 1* | 4.5<br/>-2.2 | Q4 | \n",
        "| *Exemplo 2* | 0.1<br/>0.0 | Eixo X |\n",
        "| *Exemplo 3* | 0.0<br/>0.0 | Origem |"
      ]
    },
    {
      "cell_type": "code",
      "metadata": {
        "id": "Itf08RmACsEI",
        "colab_type": "code",
        "outputId": "83cb1659-d499-4846-ea4b-b0fe011273e6",
        "colab": {
          "base_uri": "https://localhost:8080/",
          "height": 68
        }
      },
      "source": [
        "# -*- coding: utf-8 -*-\n",
        "# Entrada de dados\n",
        "cdax = float(input())\n",
        "cday = float(input())\n",
        "\n",
        "# Processamento de dados\n",
        "# Se origem\n",
        "if cdax == 0 and cday == 0:\n",
        "  print('Origem') \n",
        "\n",
        "# Se Eixo apenas\n",
        "if cdax == 0 or cday == 0:\n",
        "  if cdax > 0 and cday == 0:\n",
        "    print('Eixo X')\n",
        "\n",
        "  elif cday > 0 and cdax == 0:\n",
        "    print('Eixo Y')\n",
        "\n",
        "#Se em quadrante\n",
        "if cdax != 0 and cday != 0:\n",
        "  if cdax > 0 and cday > 0:\n",
        "    print('Q1')\n",
        "\n",
        "  elif cdax < 0 and cday > 0:\n",
        "    print('Q2')\n",
        "\n",
        "  elif cdax < 0 and cday < 0:\n",
        "    print('Q3')\n",
        "\n",
        "  elif cdax > 0 and cday < 0:\n",
        "    print('Q4')\n"
      ],
      "execution_count": 0,
      "outputs": [
        {
          "output_type": "stream",
          "text": [
            "1\n",
            "2\n",
            "Q1\n"
          ],
          "name": "stdout"
        }
      ]
    },
    {
      "cell_type": "markdown",
      "metadata": {
        "id": "ZeFXOTBXCsEL",
        "colab_type": "text"
      },
      "source": [
        "[1051](https://www.urionlinejudge.com.br/judge/pt/problems/view/1051) - Sistemas contábeis e de recursos humanos precisam conhecer bem a legislação tributária do país para calcular os impostos a serem recolhidos mensalmente sobre o salário dos funcionários. \n",
        "\n",
        "Trabalhadores também precisam entender quanto ganham e porque existem descontos em seus contra-cheques.\n",
        "\n",
        "Neste exercício, você vai ajudar empresas e trabalhadores a entender os descontos da previdência social (INSS).\n",
        "\n",
        "A tabela usada para calcular esses descontos é apresentada a seguir."
      ]
    },
    {
      "cell_type": "markdown",
      "metadata": {
        "id": "ooNwNS2HCsEN",
        "colab_type": "text"
      },
      "source": [
        "| Salário de contribuição | Alíquota |\n",
        "|:-:|:-:|\n",
        "| Até 1.693,72 | 8% | \n",
        "| De 1.693,73 a 2.822,90 | 9% |\n",
        "| De 2.822,91 até 5.645,80 | 11% |"
      ]
    },
    {
      "cell_type": "markdown",
      "metadata": {
        "id": "Fs6_PlVxCsEO",
        "colab_type": "text"
      },
      "source": [
        "Como você pode ver, o desconto sobre o salário depende da faixa salarial na qual um trabalhador se enquadre.\n",
        "\n",
        "Além disso, existe um teto na tabela que determina que pessoas que ganhem a partir de 5.645,81 devem contribuir com 621,04 (11% de 5.645,80).\n",
        "\n",
        "Escreva um código Python que receba um salário bruto (antes do desconto) e informe o valor da contribuição para o INSS e o salário líquido (após o desconto)."
      ]
    },
    {
      "cell_type": "markdown",
      "metadata": {
        "id": "5sPSA_jNCsEO",
        "colab_type": "text"
      },
      "source": [
        "|.| Entrada | Saída |\n",
        "|-|:-:|-|\n",
        "| *Exemplo 1* | 7456.57 | 621.04 6835.53 | \n",
        "| *Exemplo 2* | 2822.90 | 254.06 2568.84 |\n",
        "| *Exemplo 3* | 1693.73 | 152.44 1541.29 |"
      ]
    },
    {
      "cell_type": "code",
      "metadata": {
        "id": "YouK4lLACsEP",
        "colab_type": "code",
        "colab": {}
      },
      "source": [
        ""
      ],
      "execution_count": 0,
      "outputs": []
    },
    {
      "cell_type": "markdown",
      "metadata": {
        "id": "lZBcSv5_CsET",
        "colab_type": "text"
      },
      "source": [
        "Um segundo tipo de dedução mensal que incide sobre os ganhos dos trabalhadores é o *imposto de renda sobre pessoa física* (IRPF).\n",
        "\n",
        "Para o cálculo do IRPF, utiliza-se como base de cálculo o salário bruto descontado da contribuição do INSS. \n",
        "\n",
        "As principais diferenças em relação ao cálculo do INSS são:\n",
        "* Quem possui salário-base até 1.903,98 é isento do pagamento do IRPF.\n",
        "* Não há teto para a contribuição do IRPF.\n",
        "* O valor do IRPF cobrado a uma pessoa é abatido de um valor que varia em função da alíquota correspondente.\n",
        "\n",
        "A tabela usada para o cálculo do IRPF é mostrada abaixo."
      ]
    },
    {
      "cell_type": "markdown",
      "metadata": {
        "id": "WRGbG9WNCsEU",
        "colab_type": "text"
      },
      "source": [
        "| Base de cálculo (R\\$) | Alíquota | Parcela a deduzir |\n",
        "|:-:|:-:|:-:|\n",
        "| Até 1.903,98 | - | - |\n",
        "| De 1.903,99 até 2.826,65 | 7,5% | 142,80 |\n",
        "| De 2.826,66 até 3.751,05 | 15% | 354,80 |\n",
        "| De 3.751,06 até 4.664,68 | 22,5% | 636,13 |\n",
        "| Acima de 4.664,68 | 27,5% | 869,36 |"
      ]
    },
    {
      "cell_type": "markdown",
      "metadata": {
        "id": "ANYR52KlCsEU",
        "colab_type": "text"
      },
      "source": [
        "Para entender melhor o cálculo do IRPF, vamos tomar como exemplo uma pessoa que, descontada a contribuição do INSS, ganha 2.000,00.\n",
        "\n",
        "A alíquota para esta remuneração é de 7,5% e o abatimento de 142,80. Assim, a contribuição do IRPF será de 2.000,00 * 7,5% - 142,80 = 7,20.\n",
        "\n",
        "Escreva um código Python que receba um salário-base (já descontado do INSS) e informe o valor da contribuição do IRPF e o salário líquido (após o desconto do IRPF)."
      ]
    },
    {
      "cell_type": "markdown",
      "metadata": {
        "id": "az80EAKPCsEV",
        "colab_type": "text"
      },
      "source": [
        "|.| Entrada | Saída |\n",
        "|-|:-:|-|\n",
        "| *Exemplo 1* | 6835.53 | 1010.41 5825.12 | \n",
        "| *Exemplo 2* | 2568.84 | 49.86 2518.98 |\n",
        "| *Exemplo 3* | 1541.29 | 0.00 1541.29 |"
      ]
    },
    {
      "cell_type": "code",
      "metadata": {
        "id": "UcSVVS6gCsEW",
        "colab_type": "code",
        "outputId": "845a0c5a-3ee7-4da3-e064-bf38bc2dd7d8",
        "colab": {
          "base_uri": "https://localhost:8080/",
          "height": 51
        }
      },
      "source": [
        "# -*- coding: utf-8 -*-\n",
        "# Entrada de dados\n",
        "salario = float(input('Informe salário: R$'))\n",
        "tx = desc = 0\n",
        "\n",
        "# Processamento de dados\n",
        "# Definição da taxa e desconto\n",
        "if salario <= 1693.72:\n",
        "  tx = 0.08\n",
        "  desc = salario * tx\n",
        "elif salario > 1693.72 and salario <= 2822.90:\n",
        "  tx = 0.09\n",
        "  desc = salario * tx\n",
        "elif salario > 2822.90 and salario <= 5645.80:\n",
        "  tx = 0.11\n",
        "  desc = salario * tx\n",
        "else:\n",
        "  desc = 621.04\n",
        "\n",
        "# Definição de novo salario\n",
        "salario = salario - desc\n",
        "\n",
        "# Saida\n",
        "print(f'{desc:.2f} {salario:.2f}')\n"
      ],
      "execution_count": 0,
      "outputs": [
        {
          "output_type": "stream",
          "text": [
            "Informe salário: R$5000\n",
            "550.00 4450.00\n"
          ],
          "name": "stdout"
        }
      ]
    }
  ]
}