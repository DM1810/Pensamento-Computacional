{
  "nbformat": 4,
  "nbformat_minor": 0,
  "metadata": {
    "colab": {
      "name": "Resolução 03.ipynb",
      "version": "0.3.2",
      "provenance": [],
      "collapsed_sections": [],
      "include_colab_link": true
    },
    "language_info": {
      "codemirror_mode": {
        "name": "ipython",
        "version": 3
      },
      "file_extension": ".py",
      "mimetype": "text/x-python",
      "name": "python",
      "nbconvert_exporter": "python",
      "pygments_lexer": "ipython3",
      "version": "3.6.8"
    },
    "kernelspec": {
      "display_name": "Python 3",
      "language": "python",
      "name": "python3"
    }
  },
  "cells": [
    {
      "cell_type": "markdown",
      "metadata": {
        "id": "view-in-github",
        "colab_type": "text"
      },
      "source": [
        "<a href=\"https://colab.research.google.com/github/DM1810/Pensamento-Computacional/blob/master/Resolu%C3%A7%C3%A3o%2003.ipynb\" target=\"_parent\"><img src=\"https://colab.research.google.com/assets/colab-badge.svg\" alt=\"Open In Colab\"/></a>"
      ]
    },
    {
      "cell_type": "markdown",
      "metadata": {
        "id": "TuttZFV5RG5f",
        "colab_type": "text"
      },
      "source": [
        "<small><small><i>\n",
        "Este notebook foi baseado nos notebooks disponíveis em [https://gitlab.erc.monash.edu.au/andrease/Python4Maths.git]\n",
        "</i></small></small>"
      ]
    },
    {
      "cell_type": "markdown",
      "metadata": {
        "id": "afLrHacVRG5s",
        "colab_type": "text"
      },
      "source": [
        "# Repetindo sem perder o controle!\n",
        "\n",
        "Python permite que um trecho de código seja executado múltiplas vezes **estruturas de repetição**. \n",
        "\n",
        "Pra não perder o controle do seu código e cair em um loop infinito, estruturas de repetição se baseiam em **condições de parada**.\n",
        "\n",
        "Neste roteiro, você aprenderá a utilizar estes conceitos da linguagem Python.\n",
        "\n",
        "## Estruturas de repetição\n",
        "\n",
        "Muitas vezes, é necessário executar um mesmo trecho de código várias vezes:\n",
        "* Quando um sistema pede uma senha ao usuário, mas ele tem uma certa quantidade de tentativas possívels.\n",
        "* Quando queremos cadastrar múltiplos contatos em uma agenda.\n",
        "* Quando estamos calculando a média de várias avaliações de uma disciplina.\n",
        "\n",
        "Em todas essas situações, precisamos repetir um trecho de código **sem cair em um loop infinito**. Há três situações comuns:\n",
        "* Sabemos quantas vezes queremos executar um código.\n",
        "* Queremos executar um código enquanto uma condição for verdadeira.\n",
        "* Queremos executar um código até que determinada situação aconteça.\n",
        "\n",
        "Python oferece duas estruturas de repetição, que podem ser usadas nas situações descritas acima:"
      ]
    },
    {
      "cell_type": "markdown",
      "metadata": {
        "id": "uD7XFSJVRG6H",
        "colab_type": "text"
      },
      "source": [
        "| Estrutura | Significado |\n",
        "|:----:|:--|\n",
        "| ```for``` | Sabemos quantas vezes queremos executar um código.  <br> Queremos iterar sobre os elementos de uma coleção.|\n",
        "| ```while```  | Queremos executar um código até que determinada situação aconteça. <br> Queremos executar um código enquanto uma condição for verdadeira. |"
      ]
    },
    {
      "cell_type": "markdown",
      "metadata": {
        "id": "C-XNwlZrRG6J",
        "colab_type": "text"
      },
      "source": [
        "## A estrutura ```for```"
      ]
    },
    {
      "cell_type": "markdown",
      "metadata": {
        "id": "bsOiZ4D4RG6K",
        "colab_type": "text"
      },
      "source": [
        "Quando sabemos quantas vezes queremos executar um código, a estrutura de repetição ```for``` deve ser nossa escolha:\n",
        "\n",
        "```python\n",
        "for iterador in intervalo:\n",
        "    expressao\n",
        "    expressao\n",
        "    ...\n",
        "```\n",
        "\n",
        "As regras básicas para o uso da estrutura **for** em Python são:\n",
        "\n",
        "* O trecho de código delimitado por uma estrutura **for** é chamado bloco e deve ser identado.\n",
        "* O procedimento **range(inicio, fim)** permite definir um intervalo de valores que a variavel **iterador** pode assumir durante a execução do ```for```. \n",
        "\n",
        "O exemplo abaixo mostra como esta estrutura pode ser usada para que um código seja repetido por 5 vezes:"
      ]
    },
    {
      "cell_type": "code",
      "metadata": {
        "scrolled": true,
        "id": "vMRk5ArpRG6M",
        "colab_type": "code",
        "outputId": "d916aa31-59cf-4b4f-8781-b79287c2a27f",
        "colab": {
          "base_uri": "https://localhost:8080/",
          "height": 102
        }
      },
      "source": [
        "for x in range(0,5):\n",
        "    print(\"Execução\", x+1)"
      ],
      "execution_count": 4,
      "outputs": [
        {
          "output_type": "stream",
          "text": [
            "Execução 1\n",
            "Execução 2\n",
            "Execução 3\n",
            "Execução 4\n",
            "Execução 5\n"
          ],
          "name": "stdout"
        }
      ]
    },
    {
      "cell_type": "markdown",
      "metadata": {
        "id": "TWLJT3osRG6T",
        "colab_type": "text"
      },
      "source": [
        "Note que a função range define intervalos do tipo **[início, fim)**, isto é, valores maiores ou iguais a **início** e menores que **fim**.\n",
        "\n",
        "Também é possível definir intervalos mais elaborados, criando séries com diferentes crescimentos ou até mesmo decréscimos:"
      ]
    },
    {
      "cell_type": "code",
      "metadata": {
        "scrolled": true,
        "id": "EVGjXbpTRG6U",
        "colab_type": "code",
        "outputId": "086646d0-1541-419a-fb5d-421953f01a10",
        "colab": {
          "base_uri": "https://localhost:8080/",
          "height": 68
        }
      },
      "source": [
        "# Série crescedo de 2 em 2\n",
        "for x in range(0,5,2):\n",
        "    print(\"Valor de x:\", x)"
      ],
      "execution_count": 2,
      "outputs": [
        {
          "output_type": "stream",
          "text": [
            "Valor de x: 0\n",
            "Valor de x: 2\n",
            "Valor de x: 4\n"
          ],
          "name": "stdout"
        }
      ]
    },
    {
      "cell_type": "code",
      "metadata": {
        "scrolled": true,
        "id": "3IG3kc-qRG6g",
        "colab_type": "code",
        "outputId": "a7558bd9-46f8-46c3-b391-020db4d3669e",
        "colab": {
          "base_uri": "https://localhost:8080/",
          "height": 136
        }
      },
      "source": [
        "# Série decrescendo de 5 em 5\n",
        "for x in range(15,-20,-5):\n",
        "    print(\"Valor de x:\", x)"
      ],
      "execution_count": 6,
      "outputs": [
        {
          "output_type": "stream",
          "text": [
            "Valor de x: 15\n",
            "Valor de x: 10\n",
            "Valor de x: 5\n",
            "Valor de x: 0\n",
            "Valor de x: -5\n",
            "Valor de x: -10\n",
            "Valor de x: -15\n"
          ],
          "name": "stdout"
        }
      ]
    },
    {
      "cell_type": "markdown",
      "metadata": {
        "id": "ySfVivsVRG6s",
        "colab_type": "text"
      },
      "source": [
        "### Exercícios de fixação"
      ]
    },
    {
      "cell_type": "markdown",
      "metadata": {
        "id": "dgYTYXi_RG6t",
        "colab_type": "text"
      },
      "source": [
        "1 - Peça ao usuário suas notas das 3 unidades de uma disciplina e calcule sua média."
      ]
    },
    {
      "cell_type": "code",
      "metadata": {
        "id": "r0IJMStPRG6w",
        "colab_type": "code",
        "outputId": "7932924c-9fab-4db7-fd15-12ce8bf1fabb",
        "colab": {
          "base_uri": "https://localhost:8080/",
          "height": 85
        }
      },
      "source": [
        "nota = soma = 0\n",
        "\n",
        "for c in range(1, 4):\n",
        "  nota = float(input(f'Informe sua {c}a nota: '))\n",
        "  soma += nota\n",
        "\n",
        "print(f'Sua média foi {soma/3}')\n"
      ],
      "execution_count": 7,
      "outputs": [
        {
          "output_type": "stream",
          "text": [
            "Informe sua 1a nota: 5.5\n",
            "Informe sua 2a nota: 4.9\n",
            "Informe sua 3a nota: 10\n",
            "Sua média foi 6.8\n"
          ],
          "name": "stdout"
        }
      ]
    },
    {
      "cell_type": "markdown",
      "metadata": {
        "id": "mgRQHEYCRG69",
        "colab_type": "text"
      },
      "source": [
        "\n",
        "2 - Solicite ao usuário um inteiro positivo *n* e imprima a soma dos números pares entre 0 e *n*."
      ]
    },
    {
      "cell_type": "code",
      "metadata": {
        "id": "0M6_SwwsRG7A",
        "colab_type": "code",
        "outputId": "17b6b9f0-9cb2-4c84-bc18-92a974595726",
        "colab": {
          "base_uri": "https://localhost:8080/",
          "height": 51
        }
      },
      "source": [
        "soma = 0\n",
        "n = int(input('Digite um número: '))\n",
        "\n",
        "for c in range(0, n+1):\n",
        "  soma += c\n",
        "  \n",
        "print(soma)\n"
      ],
      "execution_count": 12,
      "outputs": [
        {
          "output_type": "stream",
          "text": [
            "Digite um número: 6\n",
            "21\n"
          ],
          "name": "stdout"
        }
      ]
    },
    {
      "cell_type": "markdown",
      "metadata": {
        "id": "GrutnvKERG7G",
        "colab_type": "text"
      },
      "source": [
        "3 - Analise os números entre -25 e 50. Se o número for múltiplo de 2, imprima BUS. Se for múltiplo de 3, imprima FEES. Caso seja múltiplo de 2 e de 3 ao mesmo tempo, imprima BUS e FEES."
      ]
    },
    {
      "cell_type": "code",
      "metadata": {
        "id": "QWtSd0oiRG7H",
        "colab_type": "code",
        "outputId": "5e44e946-2c2f-440d-d3ca-1cb3ae9bda34",
        "colab": {
          "base_uri": "https://localhost:8080/",
          "height": 867
        }
      },
      "source": [
        "for c in range(-25, 51):\n",
        "  if c % 2 == 0 and c % 3 == 0:\n",
        "    print(f'{c} BUS FEES')\n",
        "  elif c % 2 == 0:\n",
        "    print(f'{c} BUS')\n",
        "  elif c % 3 == 0:\n",
        "    print(f'{c} FEES')\n"
      ],
      "execution_count": 0,
      "outputs": [
        {
          "output_type": "stream",
          "text": [
            "-24 BUS FEES\n",
            "-22 BUS\n",
            "-21 FEES\n",
            "-20 BUS\n",
            "-18 BUS FEES\n",
            "-16 BUS\n",
            "-15 FEES\n",
            "-14 BUS\n",
            "-12 BUS FEES\n",
            "-10 BUS\n",
            "-9 FEES\n",
            "-8 BUS\n",
            "-6 BUS FEES\n",
            "-4 BUS\n",
            "-3 FEES\n",
            "-2 BUS\n",
            "0 BUS FEES\n",
            "2 BUS\n",
            "3 FEES\n",
            "4 BUS\n",
            "6 BUS FEES\n",
            "8 BUS\n",
            "9 FEES\n",
            "10 BUS\n",
            "12 BUS FEES\n",
            "14 BUS\n",
            "15 FEES\n",
            "16 BUS\n",
            "18 BUS FEES\n",
            "20 BUS\n",
            "21 FEES\n",
            "22 BUS\n",
            "24 BUS FEES\n",
            "26 BUS\n",
            "27 FEES\n",
            "28 BUS\n",
            "30 BUS FEES\n",
            "32 BUS\n",
            "33 FEES\n",
            "34 BUS\n",
            "36 BUS FEES\n",
            "38 BUS\n",
            "39 FEES\n",
            "40 BUS\n",
            "42 BUS FEES\n",
            "44 BUS\n",
            "45 FEES\n",
            "46 BUS\n",
            "48 BUS FEES\n",
            "50 BUS\n"
          ],
          "name": "stdout"
        }
      ]
    },
    {
      "cell_type": "markdown",
      "metadata": {
        "id": "Cph5Gw1LRG7j",
        "colab_type": "text"
      },
      "source": [
        "4 - Solicite ao usuário um inteiro positivo *n* e calcule o fatorial de *n*."
      ]
    },
    {
      "cell_type": "code",
      "metadata": {
        "id": "Y-e_IIfQRG7p",
        "colab_type": "code",
        "outputId": "5209e626-e2e0-4072-d98b-b58b81664a28",
        "colab": {
          "base_uri": "https://localhost:8080/",
          "height": 51
        }
      },
      "source": [
        "x = 1\n",
        "n = int(input('Informe um número: '))\n",
        "\n",
        "for c in range(1, n+1):\n",
        "  x = c * x\n",
        "\n",
        "print(f'O fatoria de {n}! é {x}.')"
      ],
      "execution_count": 14,
      "outputs": [
        {
          "output_type": "stream",
          "text": [
            "Informe um número: 5\n",
            "O fatoria de 5! é 120.\n"
          ],
          "name": "stdout"
        }
      ]
    },
    {
      "cell_type": "markdown",
      "metadata": {
        "id": "9mPpKMiGRG7x",
        "colab_type": "text"
      },
      "source": [
        "## A estrutura ```while```"
      ]
    },
    {
      "cell_type": "markdown",
      "metadata": {
        "id": "1FwIIpprRG7y",
        "colab_type": "text"
      },
      "source": [
        "Quando queremos executar um código enquanto uma condição for verdadeira, a estrutura de repetição ```while``` deve ser nossa escolha:\n",
        "\n",
        "```python\n",
        "while condicao:\n",
        "    expressao\n",
        "    expressao\n",
        "    ...\n",
        "```\n",
        "\n",
        "As regras básicas para o uso da estrutura **while** em Python são:\n",
        "\n",
        "* O trecho de código delimitado por uma estrutura **while** é chamado bloco e deve ser identado.\n",
        "* O bloco delimitado por uma estrutura **while** será executado enquanto a expressão lógica (```condicao```) for verdadeira (```True```).\n",
        "\n",
        "Um exemplo de uso desta estrutura é o caso em que não se sabe quantas vezes será necessário executar um trecho de código:"
      ]
    },
    {
      "cell_type": "code",
      "metadata": {
        "scrolled": true,
        "id": "C50SFcQ5RG7z",
        "colab_type": "code",
        "outputId": "8394f0a3-589a-4637-a220-3b9be47ee015",
        "colab": {
          "base_uri": "https://localhost:8080/",
          "height": 68
        }
      },
      "source": [
        "from random import randint\n",
        "\n",
        "n_multiplos = 0\n",
        "while n_multiplos < 3:\n",
        "    numero = randint(0,30)\n",
        "    if numero % 3 == 0:\n",
        "        n_multiplos += 1\n",
        "        print(\"Múltiplo #\", n_multiplos, \"-\", numero)"
      ],
      "execution_count": 0,
      "outputs": [
        {
          "output_type": "stream",
          "text": [
            "Múltiplo # 1 - 21\n",
            "Múltiplo # 2 - 30\n",
            "Múltiplo # 3 - 0\n"
          ],
          "name": "stdout"
        }
      ]
    },
    {
      "cell_type": "markdown",
      "metadata": {
        "id": "Fuye0KTtRG74",
        "colab_type": "text"
      },
      "source": [
        "Também é possível utilizar a estrutura de repetição ```while``` quando queremos executar um código até que uma determinada situação ocorra:\n",
        "\n",
        "```python\n",
        "while True:\n",
        "    expressao\n",
        "    expressao\n",
        "    ...\n",
        "    if condicao:\n",
        "        break\n",
        "```\n",
        "\n",
        "As regras básicas para o uso da estrutura **while** neste contexto são:\n",
        "\n",
        "* O bloco será executado uma ou mais vezes, até que a condição se torne verdadeira.\n",
        "* O comando **```break```** provoca a interrupção da repetição.\n",
        "\n",
        "O exemplo abaixo mostra como esta estrutura pode ser usada para solicitar uma senha ao usuário até que ele acerte a senha:"
      ]
    },
    {
      "cell_type": "code",
      "metadata": {
        "scrolled": false,
        "id": "55F_tLE7RG76",
        "colab_type": "code",
        "outputId": "e1cd4b24-9ea8-4fbd-c87c-0864fd1b9312",
        "colab": {
          "base_uri": "https://localhost:8080/",
          "height": 34
        }
      },
      "source": [
        "senha_correta = \"swordfish\"\n",
        "while True:\n",
        "    senha = input(\"Informe sua senha: \")\n",
        "    if senha == senha_correta:\n",
        "        break\n",
        "    else:\n",
        "        print(\"Senha incorreta!\")"
      ],
      "execution_count": 0,
      "outputs": [
        {
          "output_type": "stream",
          "text": [
            "Informe sua senha: swordfish\n"
          ],
          "name": "stdout"
        }
      ]
    },
    {
      "cell_type": "markdown",
      "metadata": {
        "id": "-CN8RyWBRG7_",
        "colab_type": "text"
      },
      "source": [
        "### Exercícios de fixação"
      ]
    },
    {
      "cell_type": "markdown",
      "metadata": {
        "id": "fiQKXe9wRG8B",
        "colab_type": "text"
      },
      "source": [
        "1 - Sorteie um número entre 0 e 10 e peça ao usuário para tentar adivinhá-lo. Quando o usuário acertar o número, informe quantas tentativas foram necessárias."
      ]
    },
    {
      "cell_type": "code",
      "metadata": {
        "id": "Tv4vTkWRRG8C",
        "colab_type": "code",
        "outputId": "0c9bec3d-1d22-403c-d7ae-fb3fbf3df238",
        "colab": {
          "base_uri": "https://localhost:8080/",
          "height": 170
        }
      },
      "source": [
        "from random import randint\n",
        "\n",
        "nt = 0\n",
        "ns = randint(0, 10)\n",
        "\n",
        "print(ns)\n",
        "while True:\n",
        "  nu = int(input('Advinhe qual número estou pensando. dica é de 0 a 10: '))\n",
        "  \n",
        "  if nu != ns:\n",
        "    print('Errou!')\n",
        "    nt += 1\n",
        "  else:\n",
        "    break\n",
        "\n",
        "print(f'Após {nt} tentativas, você acertou. Parabéns!!')\n"
      ],
      "execution_count": 0,
      "outputs": [
        {
          "output_type": "stream",
          "text": [
            "9\n",
            "Advinhe qual número estou pensando. dica é de 0 a 10: 2\n",
            "Errou!\n",
            "Advinhe qual número estou pensando. dica é de 0 a 10: 3\n",
            "Errou!\n",
            "Advinhe qual número estou pensando. dica é de 0 a 10: 5\n",
            "Errou!\n",
            "Advinhe qual número estou pensando. dica é de 0 a 10: 9\n",
            "Após 3 tentativas, você acertou. Parabéns!!\n"
          ],
          "name": "stdout"
        }
      ]
    },
    {
      "cell_type": "markdown",
      "metadata": {
        "id": "SHsHC9mURG8J",
        "colab_type": "text"
      },
      "source": [
        "### Pulando parte do código\n",
        "\n",
        "É possível evitar que parte do código seja executada durante uma repetição utilizando o comando ```continue```.\n"
      ]
    },
    {
      "cell_type": "code",
      "metadata": {
        "scrolled": true,
        "id": "qg0xKXSoRG8K",
        "colab_type": "code",
        "outputId": "830619fa-e555-4000-8071-9bf35712ec00",
        "colab": {
          "base_uri": "https://localhost:8080/",
          "height": 170
        }
      },
      "source": [
        "soma = 0\n",
        "for i in range(10):\n",
        "    if i == 3:\n",
        "        continue\n",
        "    print(i)"
      ],
      "execution_count": 0,
      "outputs": [
        {
          "output_type": "stream",
          "text": [
            "0\n",
            "1\n",
            "2\n",
            "4\n",
            "5\n",
            "6\n",
            "7\n",
            "8\n",
            "9\n"
          ],
          "name": "stdout"
        }
      ]
    },
    {
      "cell_type": "markdown",
      "metadata": {
        "id": "AessrXbFRG8W",
        "colab_type": "text"
      },
      "source": [
        "### Exercícios de fixação"
      ]
    },
    {
      "cell_type": "markdown",
      "metadata": {
        "id": "_TEtCZc7RG8Y",
        "colab_type": "text"
      },
      "source": [
        "1 - Imprima os números partes entre 0 e 50, pulando os números múltiplos de 4. Use o comando ```continue```."
      ]
    },
    {
      "cell_type": "code",
      "metadata": {
        "id": "FfZ_aZ-QRG8Z",
        "colab_type": "code",
        "outputId": "65e9f450-7f0f-4e46-e726-a3df465235cd",
        "colab": {
          "base_uri": "https://localhost:8080/",
          "height": 663
        }
      },
      "source": [
        "for c in range(0, 51):\n",
        "  if c % 4 == 0:\n",
        "    continue\n",
        "  print(c)\n"
      ],
      "execution_count": 0,
      "outputs": [
        {
          "output_type": "stream",
          "text": [
            "1\n",
            "2\n",
            "3\n",
            "5\n",
            "6\n",
            "7\n",
            "9\n",
            "10\n",
            "11\n",
            "13\n",
            "14\n",
            "15\n",
            "17\n",
            "18\n",
            "19\n",
            "21\n",
            "22\n",
            "23\n",
            "25\n",
            "26\n",
            "27\n",
            "29\n",
            "30\n",
            "31\n",
            "33\n",
            "34\n",
            "35\n",
            "37\n",
            "38\n",
            "39\n",
            "41\n",
            "42\n",
            "43\n",
            "45\n",
            "46\n",
            "47\n",
            "49\n",
            "50\n"
          ],
          "name": "stdout"
        }
      ]
    },
    {
      "cell_type": "markdown",
      "metadata": {
        "id": "gAqcE-PTRG8o",
        "colab_type": "text"
      },
      "source": [
        "## Combinando múltiplas estruturas de repetição"
      ]
    },
    {
      "cell_type": "markdown",
      "metadata": {
        "id": "KdAvtDioRG8t",
        "colab_type": "text"
      },
      "source": [
        "Assim como vimos para estruturas de decisão, também podemos combinar estruturas de repetição em múltiplos níveis. \n",
        "\n",
        "As regras básicas para **aninhar estruturas de repetição** em Python são:\n",
        "* Não há limite com relação a quantas estruturas e em quantos níveis.\n",
        "* Blocos de níveis mais profundos devem apresentar maior grau de identação.\n",
        "* Os efeitos dos comandos ```break``` e ```continue``` se limitam ao nível atual.\n",
        "\n",
        "O exemplo abaixo mostra como imprimir uma matriz identidade. Note que a função ```print``` pode ser usada para imprimir várias vezes em uma mesma linha, utilizando pra isso a opção ```end```."
      ]
    },
    {
      "cell_type": "code",
      "metadata": {
        "id": "2d4oswrGRG8y",
        "colab_type": "code",
        "outputId": "6ba62a10-6c14-4ad3-cc86-a7da678ad544",
        "colab": {
          "base_uri": "https://localhost:8080/",
          "height": 68
        }
      },
      "source": [
        "for x in range(3):\n",
        "    for y in range(3):\n",
        "        if x == y:\n",
        "            print(\" 1 \", end='')\n",
        "        else:\n",
        "            print(\" 0 \", end='')\n",
        "    print()"
      ],
      "execution_count": 15,
      "outputs": [
        {
          "output_type": "stream",
          "text": [
            " 1  0  0 \n",
            " 0  1  0 \n",
            " 0  0  1 \n"
          ],
          "name": "stdout"
        }
      ]
    },
    {
      "cell_type": "markdown",
      "metadata": {
        "collapsed": true,
        "id": "2YMmszzhRG9E",
        "colab_type": "text"
      },
      "source": [
        "## Exercícios do URI"
      ]
    },
    {
      "cell_type": "markdown",
      "metadata": {
        "collapsed": true,
        "id": "hzgYr_cyRG9H",
        "colab_type": "text"
      },
      "source": [
        "[1080](https://www.urionlinejudge.com.br/judge/pt/problems/view/1080) - Calcular estatísticas é uma importante tarefa dos sistema de computação que trabalham com análise de dados. Em um roteiro anterior, você implementou uma função para uso em histogramas, que informava a qual intervalo um elemento pertencia.\n",
        "\n",
        "Neste exercício, você vai voltar pro mundo real e de fato preparar um histograma dos dados (colher de chá: não precisa gerar o gráfico no final).\n",
        "\n",
        "Escreva um código Python que receba um inteiro informando quantos números no intervalo \\[0,100\\) serão informados a seguir. Considerando 5 subintervalos de igual tamanho, seu programa deverá calcular a frequência de elementos presentes em cada subintervalo.\n",
        "\n",
        "Por fim, seu programa deverá informar os elementos máximo e mínimo encontrados nos dados, e suas posições na sequência dos dados de entrada."
      ]
    },
    {
      "cell_type": "markdown",
      "metadata": {
        "id": "QCy80-b5RG9I",
        "colab_type": "text"
      },
      "source": [
        "|.| Entrada | Saída |\n",
        "|-|:----:|---|\n",
        "| *Exemplo 1* | 5<br/>100<br/>40<br/>32<br/>87<br/>90 | \\[0,20\\) - 1 <br/> \\[20,40\\) - 1 <br/> \\[40,60\\) - 1 <br/> \\[60,80\\) - 0 <br/> \\[80,100\\) - 3  <br/> Máximo: 100 (0) <br/> Mínimo: 32 (2) | \n",
        "| *Exemplo 2* | 3<br/>12<br/>29<br/>45 | \\[0,20\\) - 1 <br/> \\[20,40\\) - 1 <br/> \\[40,60\\) - 1 <br/> \\[60,80\\) - 0 <br/> \\[80,100\\) - 0  <br/> Máximo: 45 (2) <br/> Mínimo: 12 (0) | \n",
        "| *Exemplo 3* | 7<br/>13<br/>88<br/>45<br/>63<br/>94<br/>27<br/>5 | \\[0,20\\) - 1 <br/> \\[20,40\\) - 1 <br/> \\[40,60\\) - 1 <br/> \\[60,80\\) - 1 <br/> \\[80,100\\) - 2  <br/> Máximo: 94 (4) <br/> Mínimo: 5 (6) | \n"
      ]
    },
    {
      "cell_type": "code",
      "metadata": {
        "id": "m0Pi6mFWCGRP",
        "colab_type": "code",
        "outputId": "6566b5ce-c023-4748-e151-40fce8ddc761",
        "colab": {
          "base_uri": "https://localhost:8080/",
          "height": 255
        }
      },
      "source": [
        "# -*- coding: utf-8 -*-\n",
        "# Entrada de dados\n",
        "nn = int(input('Informe quantos valores serão digitados: '))\n",
        "nmax = pmax = nmin = pmin = 0\n",
        "zav = vaq = qas = sao = oac = 0\n",
        "\n",
        "# Processamento de dados\n",
        "for c in range(1 , nn+1):\n",
        "  ve = int(input(f'{c}a Valor: '))\n",
        "  \n",
        "  # Valores maximos e minimos\n",
        "  if c == 1:\n",
        "    nmax = ve\n",
        "    nmin = ve\n",
        "    pmax = c\n",
        "    pmin = c\n",
        "  \n",
        "  if c > 1:\n",
        "    if ve > nmax:\n",
        "      nmax = ve\n",
        "      pmax = c\n",
        "    if ve < nmin:\n",
        "      nmin = ve\n",
        "      pmin = c\n",
        "\n",
        "  # Separação dos valores no histograma\n",
        "  if ve >= 0 and ve < 20:\n",
        "    zav += 1\n",
        "  elif ve >= 20 and ve < 40:\n",
        "    vaq += 1\n",
        "  elif ve >= 40 and ve < 60:\n",
        "    qas += 1\n",
        "  elif ve >= 60 and ve < 80:\n",
        "    sao += 1\n",
        "  else:\n",
        "    oac += 1\n",
        "  \n",
        "# Saida de dados\n",
        "print(f'''\n",
        "[0,20) - {zav}\n",
        "[20,40) - {vaq}\n",
        "[40,60) - {qas}\n",
        "[60,80) - {sao}\n",
        "[80,100) - {oac}\n",
        "Máximo: {nmax} ({pmax})\n",
        "Minimo: {nmin} ({pmin})''')\n"
      ],
      "execution_count": 0,
      "outputs": [
        {
          "output_type": "stream",
          "text": [
            "Informe quantos valores serão digitados: 5\n",
            "1a Valor: 5\n",
            "2a Valor: 4\n",
            "3a Valor: 3\n",
            "4a Valor: 2\n",
            "5a Valor: 1\n",
            "\n",
            "[0,20) - 5\n",
            "[20,40) - 0\n",
            "[40,60) - 0\n",
            "[60,80) - 0\n",
            "[80,100) - 0\n",
            "Máximo: 5 (1)\n",
            "Minimo: 1 (5)\n"
          ],
          "name": "stdout"
        }
      ]
    },
    {
      "cell_type": "markdown",
      "metadata": {
        "collapsed": true,
        "id": "RXHrE3PKRG9J",
        "colab_type": "text"
      },
      "source": [
        "[1164](https://www.urionlinejudge.com.br/judge/pt/problems/view/1164) - Um número **perfeito** é um número igual à soma dos seus divisores (exceto ele mesmo).\n",
        "\n",
        "O número 28 é um exemplo de número perfeito: 28 = 1 + 2 + 4 + 7 + 14.\n",
        "\n",
        "[1165](https://www.urionlinejudge.com.br/judge/pt/problems/view/1165) - Um número **primo** é um número que só pode ser dividido por 1 e por ele mesmo. \n",
        "\n",
        "O número 17, por exemplo, só pode ser dividido por 1 e por 17.\n",
        "\n",
        "Escreva um código Python que receba um inteiro N e imprima os números do intervalo [1,N] que são primos ou perfeitos."
      ]
    },
    {
      "cell_type": "markdown",
      "metadata": {
        "collapsed": true,
        "id": "7ugCYSqmRG9K",
        "colab_type": "text"
      },
      "source": [
        "|.| Entrada | Saída |\n",
        "|-|:-:|:-|\n",
        "| *Exemplo 1* | 10 | 1 2 3 5 6 7 10 | \n",
        "| *Exemplo 2* | 15 | 1 2 3 5 6 7 10 11 13 |\n",
        "| *Exemplo 3* | 20 | 1 2 3 5 6 7 10 11 13 17 19 |"
      ]
    },
    {
      "cell_type": "code",
      "metadata": {
        "id": "rdoqv04VRG9M",
        "colab_type": "code",
        "outputId": "d7153fe6-9699-4e3d-f28b-5efd8846227b",
        "colab": {
          "base_uri": "https://localhost:8080/",
          "height": 51
        }
      },
      "source": [
        "# -*- coding: utf-8 -*-\n",
        "# Entrada de dados\n",
        "num = int(input('Informe um Número: '))\n",
        "sepr = sepe = 0\n",
        "\n",
        "# Processamento de dados\n",
        "for c in range(1, num + 1):\n",
        "  sepr = sepe = 0\n",
        "\n",
        "  # Se é primo\n",
        "  for i in range(1, c + 1):\n",
        "    if c % i == 0:\n",
        "      sepr += 1\n",
        "  if sepr <= 2:\n",
        "    print(c, end=' ')\n",
        "\n",
        "  # Se é perfeito\n",
        "  for j in range(1, c):\n",
        "    if c % j == 0:\n",
        "      sepe += j\n",
        "  if sepe == c:\n",
        "    print(c, end=' ')\n"
      ],
      "execution_count": 0,
      "outputs": [
        {
          "output_type": "stream",
          "text": [
            "Informe um Número: 20\n",
            "1 2 3 5 6 7 11 13 17 19 "
          ],
          "name": "stdout"
        }
      ]
    },
    {
      "cell_type": "markdown",
      "metadata": {
        "collapsed": true,
        "id": "5xW_i4qiRG9V",
        "colab_type": "text"
      },
      "source": [
        "[1789](https://www.urionlinejudge.com.br/judge/pt/problems/view/1789) - Jogos de corrida utilizam simulações baseadas nas regras da física para trazer realismo à experiência do usuário.\n",
        "\n",
        "Neste exercício, você deve simular uma das regras mais simples da mecânica clássica, que mostra que a distância percorrida por um objeto é proporcional à sua velocidade.\n",
        "\n",
        "Neste jogo serão 3 corredores, cada um com uma velocidade dada por um número real sorteado no intervalo [0,100) m/s.\n",
        "\n",
        "Considere que todos os competidores partem do mesmo lugar e apresente a posição de cada corredor atualizada segundo a segundo.\n",
        "\n",
        "Considere ainda que a linha de chegada está a 482m de distância do ponto de partida e encerre a corrida quando o vencedor cruzar a linha, identificando o vencedor.\n",
        "\n",
        "** Dica --** Para gerar um número real aleatório no intervalo [0,100), utilize a função ```uniform(0,100)```."
      ]
    },
    {
      "cell_type": "markdown",
      "metadata": {
        "collapsed": true,
        "id": "6iRzQ6ZBRG9Z",
        "colab_type": "text"
      },
      "source": [
        "|.| Velocidades | Saída |\n",
        "|-|:-:|:-|\n",
        "| *Exemplo 1* | 15.38<br/>55.49<br/>48.65  | 15.38 55.49 48.65 <br/> 30.76 110.98 97.30 <br/> 46.14 166.47 145.95 <br/> 61.52 221.96 194.60 <br/> 76.90 277.45 243.25 <br/> 92.28 332.94 291.90 <br/> 107.66 388.43 340.55 <br/> 123.04 443.92 389.20 <br/> 138.42 499.41 437.85 <br/> P2 | \n",
        "| *Exemplo 2* | 42.27<br/>95.26<br/>72.25 | 42.27 95.26 72.25 <br/> 84.54 190.52 144.50 <br/> 126.81 285.78 216.75 <br/> 169.08 381.04 289.00 <br/> 211.35 476.30 361.25 <br/> 253.62 571.56 433.50 <br/> P2 |\n",
        "| *Exemplo 3* | 98.76<br/>93.21<br/>96.65 | 98.76 93.21 96.65 <br/> 197.52 186.42 193.30 <br/> 296.28 279.63 289.95 <br/> 395.04 372.84 386.60 <br/> 493.80 466.05 483.25 <br/> P1 |"
      ]
    },
    {
      "cell_type": "code",
      "metadata": {
        "id": "WVsVYWv0RG9f",
        "colab_type": "code",
        "outputId": "04f770af-2810-4c5a-b23f-fed6c07893cf",
        "colab": {
          "base_uri": "https://localhost:8080/",
          "height": 102
        }
      },
      "source": [
        "# -*- coding: utf-8 -*-\n",
        "# Bibliotecas necessárias\n",
        "from random import uniform\n",
        "from time import sleep\n",
        "\n",
        "# Entrada de dados\n",
        "chegada = float(482)\n",
        "crd01 = uniform(0, 100)\n",
        "crd02 = uniform(0, 100)\n",
        "crd03 = uniform(0, 100)\n",
        "\n",
        "# Processamento de dados\n",
        "while True:\n",
        "  print(f'{crd01:.2f} {crd02:.2f} {crd03:.2f}')\n",
        "\n",
        "  # Verificar se algum chegou na linha de chegada\n",
        "  if crd01 >= chegada or crd02 >= chegada or crd03 >= chegada:\n",
        "    break\n",
        "\n",
        "  else:\n",
        "    sleep(1)\n",
        "    crd01 += crd01\n",
        "    crd02 += crd02\n",
        "    crd03 += crd03\n",
        "\n",
        "# Saida de dados (Qual piloto ganhou)\n",
        "if crd01 >= chegada and crd01 > crd02 and crd01 > crd03:\n",
        "  print('P1')\n",
        "elif crd02 >= chegada and crd02 > crd01 and crd02 > crd03:\n",
        "  print('P2')\n",
        "elif crd03 >= chegada and crd03 > crd01 and crd03 > crd02:\n",
        "  print('P3')\n"
      ],
      "execution_count": 0,
      "outputs": [
        {
          "output_type": "stream",
          "text": [
            "2.23 96.63 52.11\n",
            "4.46 193.26 104.22\n",
            "8.93 386.51 208.43\n",
            "17.86 773.02 416.86\n",
            "P2\n"
          ],
          "name": "stdout"
        }
      ]
    },
    {
      "cell_type": "markdown",
      "metadata": {
        "collapsed": true,
        "id": "36gzM-ZFRG9v",
        "colab_type": "text"
      },
      "source": [
        "[1828](https://www.urionlinejudge.com.br/judge/pt/problems/view/1828) - Pedra, paper e tesoura, ou じゃんけんぽん (jankenpon), é um jogo simples que envolve apenas quatro regras:\n",
        "\n",
        "- Dois jogadores disputam entre si, podendo escolher entre 3 opções de ação: pedra, papel ou tesoura.\n",
        "- A pedra quebra a tesoura.\n",
        "- A tesoura corta o papel.\n",
        "- O papel embrulha a pedra.\n",
        "\n",
        "Também é possível que não haja um vencedor, quando os dois jogadores escolhem a mesma ação.\n",
        "\n",
        "Escreva um código Python que receba um inteiro informando número de rodadas de uma partida e simule dois jogadores competindo entre si. Você deve imprimir as ações e o vencedor de cada rodada, bem como o vencedor da partida."
      ]
    },
    {
      "cell_type": "markdown",
      "metadata": {
        "id": "sEkPEskORG9z",
        "colab_type": "text"
      },
      "source": [
        "|.| Entrada | Saída |\n",
        "|-|:-:|:-|\n",
        "| *Exemplo 1* | 3  | Jogador 2 <br/> Empate <br/> Jogador 2 <br/> Placar final: 0 x 2 <br/> Partida vencida pelo Jogador 2! | \n",
        "| *Exemplo 2* | 5 | Jogador 1 <br/> Jogador 1 <br/> Empate <br/> Empate <br/> Jogador 1 <br/> Placar final: 3 x 0 <br/> Partida vencida pelo Jogador 1! |\n",
        "| *Exemplo 3* | 4 | Empate <br/> Jogador 2 <br/> Empate <br/> Empate <br/> Placar final: 0 x 1 <br/> Partida vencida pelo Jogador 2! |"
      ]
    },
    {
      "cell_type": "code",
      "metadata": {
        "id": "x__GJxxMRG91",
        "colab_type": "code",
        "outputId": "b20fdf58-f2cc-446d-a4d6-a03278540e80",
        "colab": {
          "base_uri": "https://localhost:8080/",
          "height": 340
        }
      },
      "source": [
        "# -*- coding: utf-8 -*-\n",
        "# Bibliotecas necessárias\n",
        "from random import randint\n",
        "\n",
        "# Entrada de dados\n",
        "np = int(input('Quantas partidas deseja? '))\n",
        "vj1 = vj2 = 0\n",
        "pdr = 1\n",
        "tsr = 2\n",
        "ppl = 3\n",
        "\n",
        "# Processamento de dados\n",
        "for c in range(0, np):\n",
        "  # Definição de opção\n",
        "  j1 = randint(1, 3)\n",
        "  print('Jogador 1:', end=' ')\n",
        "\n",
        "  if j1 == pdr:\n",
        "    print('Pedra')\n",
        "  \n",
        "  elif j1 == tsr:\n",
        "    print('Tesolra')\n",
        "  \n",
        "  elif j1 == ppl:\n",
        "    print('Papel')\n",
        "\n",
        "  j2 = randint(1, 3)\n",
        "  print('Jogador 2:', end=' ')\n",
        "\n",
        "  if j2 == pdr:\n",
        "    print('Pedra')\n",
        "  \n",
        "  elif j2 == tsr:\n",
        "    print('Tesolra')\n",
        "  \n",
        "  elif j2 == ppl:\n",
        "    print('Papel')\n",
        "\n",
        "  # Definição do vencedor\n",
        "  if (j1 == 1 and j2 == 2) or (j1 == 2 and j2 == 3) or (j1 == 3 and j2 == 1):\n",
        "    vj1 += 1\n",
        "    print('Jogador 1\\n')\n",
        "  \n",
        "  elif (j2 == 1 and j1 == 2) or (j2 == 2 and j1 == 3) or (j2 == 3 and j1 == 1):\n",
        "    vj2 += 1\n",
        "    print('Jogador 2\\n')\n",
        "  \n",
        "  else:\n",
        "    print('EMPATE\\n')\n",
        "\n",
        "# Saida de dados (Qual jogador ganhou)\n",
        "print(f'Placar {vj1} x {vj2}')\n",
        "if vj1 > vj2:\n",
        "  print('Partida vencida por Jogador 1!')\n",
        "\n",
        "elif vj2 > vj1:\n",
        "  print('Partida vencida por Jogador 2!')\n",
        "\n",
        "else:\n",
        "  print('Partida empatada')\n"
      ],
      "execution_count": 0,
      "outputs": [
        {
          "output_type": "stream",
          "text": [
            "Quantas partidas deseja? 4\n",
            "Jogador 1: Papel\n",
            "Jogador 2: Tesolra\n",
            "Jogador 2\n",
            "\n",
            "Jogador 1: Tesolra\n",
            "Jogador 2: Tesolra\n",
            "EMPATE\n",
            "\n",
            "Jogador 1: Pedra\n",
            "Jogador 2: Tesolra\n",
            "Jogador 1\n",
            "\n",
            "Jogador 1: Pedra\n",
            "Jogador 2: Papel\n",
            "Jogador 2\n",
            "\n",
            "Placar 1 x 2\n",
            "Partida vencida por Jogador 2\n"
          ],
          "name": "stdout"
        }
      ]
    },
    {
      "cell_type": "markdown",
      "metadata": {
        "id": "bnNcgg11RG-B",
        "colab_type": "text"
      },
      "source": [
        "Agora que você já sabe até como criar um jogo de jonkenpon, implemente uma versão em que você pode jogar contra o computador e mostre que você pode derrotá-lo :D"
      ]
    },
    {
      "cell_type": "code",
      "metadata": {
        "id": "UkByKmQZRG-E",
        "colab_type": "code",
        "outputId": "0b1df0a1-fb00-4482-b17d-0305e644368a",
        "colab": {
          "base_uri": "https://localhost:8080/",
          "height": 408
        }
      },
      "source": [
        "# -*- coding: utf-8 -*-\n",
        "# Bibliotecas necessárias\n",
        "from random import randint\n",
        "\n",
        "# Entrada de dados\n",
        "np = int(input('Quantas partidas deseja? '))\n",
        "vj1 = vj2 = 0\n",
        "pdr = 1\n",
        "tsr = 2\n",
        "ppl = 3\n",
        "\n",
        "# Processamento de dados\n",
        "for c in range(0, np):\n",
        "  # Definição de opção\n",
        "  j1 = int(input('Qual deseja? (Pedra[1], Tesolra[2] ou Papel[3]): '))\n",
        "  print('Jogador 1:', end=' ')\n",
        "\n",
        "  if j1 == pdr:\n",
        "    print('Pedra')\n",
        "  \n",
        "  elif j1 == tsr:\n",
        "    print('Tesolra')\n",
        "  \n",
        "  elif j1 == ppl:\n",
        "    print('Papel')\n",
        "\n",
        "  j2 = randint(1, 3)\n",
        "  print('Jogador 2:', end=' ')\n",
        "\n",
        "  if j2 == pdr:\n",
        "    print('Pedra')\n",
        "  \n",
        "  elif j2 == tsr:\n",
        "    print('Tesolra')\n",
        "  \n",
        "  elif j2 == ppl:\n",
        "    print('Papel')\n",
        "\n",
        "  # Definição do vencedor\n",
        "  if (j1 == 1 and j2 == 2) or (j1 == 2 and j2 == 3) or (j1 == 3 and j2 == 1):\n",
        "    vj1 += 1\n",
        "    print('Vencedor rodada: Jogador 1\\n')\n",
        "  \n",
        "  elif (j2 == 1 and j1 == 2) or (j2 == 2 and j1 == 3) or (j2 == 3 and j1 == 1):\n",
        "    vj2 += 1\n",
        "    print('Vencedor rodada: Jogador 2\\n')\n",
        "  \n",
        "  else:\n",
        "    print('EMPATE\\n')\n",
        "\n",
        "# Saida de dados (Qual jogador ganhou)\n",
        "print(f'Placar {vj1} x {vj2}')\n",
        "if vj1 > vj2:\n",
        "  print('Partida vencida por Jogador 1')\n",
        "\n",
        "elif vj2 > vj1:\n",
        "  print('Partida vencida por Jogador 2')\n",
        "\n",
        "else:\n",
        "  print('Partida empatada')\n"
      ],
      "execution_count": 0,
      "outputs": [
        {
          "output_type": "stream",
          "text": [
            "Quantas partidas deseja? 4\n",
            "Qual deseja? (Pedra[1], Tesolra[2] ou Papel[3]): 2\n",
            "Jogador 1: Tesolra\n",
            "Jogador 2: Papel\n",
            "Vencedor rodada: Jogador 1\n",
            "\n",
            "Qual deseja? (Pedra[1], Tesolra[2] ou Papel[3]): 2\n",
            "Jogador 1: Tesolra\n",
            "Jogador 2: Papel\n",
            "Vencedor rodada: Jogador 1\n",
            "\n",
            "Qual deseja? (Pedra[1], Tesolra[2] ou Papel[3]): 3\n",
            "Jogador 1: Papel\n",
            "Jogador 2: Pedra\n",
            "Vencedor rodada: Jogador 1\n",
            "\n",
            "Qual deseja? (Pedra[1], Tesolra[2] ou Papel[3]): 1\n",
            "Jogador 1: Pedra\n",
            "Jogador 2: Tesolra\n",
            "Vencedor rodada: Jogador 1\n",
            "\n",
            "Placar 4 x 0\n",
            "Partida vencida por Jogador 1\n"
          ],
          "name": "stdout"
        }
      ]
    },
    {
      "cell_type": "markdown",
      "metadata": {
        "id": "k4-VJpGPRG-H",
        "colab_type": "text"
      },
      "source": [
        "[Blackjack](https://pt.wikipedia.org/wiki/Blackjack) - Vinte-e-um (21) é um dos mais icônicos jogos de cartas, onde um jogador real compete contra um jogador imaginário (a banca) para ver quem consegue o jogo de maior valor sem estourar o limite de 21 pontos.\n",
        "\n",
        "Por simplicidade, considere apenas as seguintes regras:\n",
        "- Cada jogador pode pedir uma carta por rodada ou dizer que quer parar de pedir.\n",
        "- O jogador que acumular mais de 21 pontos perde a partida.\n",
        "- Se o jogador e a banca atingirem o mesmo número de pontos, a partida termina empatada.\n",
        "- As cartas numéricas valem o número de pontos que elas indicam (ex: 2 vale 2, 10 vale 10).\n",
        "- As cartas de figuras (rei, valete e dama) valem 10 pontos.\n",
        "- O Ás vale 11 pontos.\n",
        "\n",
        "Escreva um código Python que te permite jogar blackjack contra o computador, escrevendo a cada rodada o valor do jogo de cada jogador e, ao final, o vencedor da partida."
      ]
    },
    {
      "cell_type": "code",
      "metadata": {
        "id": "n2rtoe1RRG-J",
        "colab_type": "code",
        "outputId": "cdef7b73-26f1-4fa2-efd9-40eb64ecfe86",
        "colab": {
          "base_uri": "https://localhost:8080/",
          "height": 289
        }
      },
      "source": [
        "# -*- coding: utf-8 -*-\n",
        "# Bibliotecas necessárias\n",
        "from random import randint\n",
        "\n",
        "# Entrada e Processamento de dados\n",
        "spj = spc = 0\n",
        "rodadas = 0\n",
        "cartaJ = None\n",
        "\n",
        "while True:\n",
        "  rodadas += 1\n",
        "\n",
        "  # Sortear carta para jogador\n",
        "  pedirc = str(input('Pedir carta? [S/N]: ')).upper()\n",
        "\n",
        "  if pedirc == 'S':\n",
        "    cSorteadaJ = randint(1, 14)\n",
        "\n",
        "    # Caso a carta sorteada seja com figura\n",
        "    if cSorteadaJ > 10 and cSorteadaJ < 15:\n",
        "      if cSorteadaJ == 11:\n",
        "        cartaJ = 'DAMA'\n",
        "        spj += 10\n",
        "\n",
        "      elif cSorteadaJ == 12:\n",
        "        cartaJ = 'VALETE'\n",
        "        spj += 10\n",
        "\n",
        "      elif cSorteadaJ == 13:\n",
        "        cartaJ = 'REIS'\n",
        "        spj += 10\n",
        "\n",
        "      elif cSorteadaJ == 14:\n",
        "        cartaJ = 'ÁS'\n",
        "        spj += 11\n",
        "    \n",
        "    else:\n",
        "      cartaJ = cSorteadaJ\n",
        "      spj += cartaJ\n",
        "\n",
        "    # Sorteio carta para o PC\n",
        "    cSorteadaPC = randint(1, 14)\n",
        "\n",
        "    # Caso a carta sorteada seja com figura\n",
        "    if cSorteadaPC > 10 and cSorteadaPC < 15:\n",
        "      if cSorteadaPC == 11:\n",
        "        spc += 10\n",
        "\n",
        "      elif cSorteadaPC == 12:\n",
        "        spc += 10\n",
        "\n",
        "      elif cSorteadaPC == 13:\n",
        "        spc += 10\n",
        "\n",
        "      elif cSorteadaPC == 14:\n",
        "        spc += 11\n",
        "    \n",
        "    else:\n",
        "      spc += cSorteadaPC\n",
        "\n",
        "    # Resultado parcial\n",
        "    if spj < 22 and spc < 22:\n",
        "      print(f'Carta Sorteada: {cartaJ}, Soma: {spj}\\n')\n",
        "\n",
        "    elif spj > 21 and spc > 21:\n",
        "      print(f'Carta Sorteada: {cartaJ}, Soma: {spj}')\n",
        "      break\n",
        "    \n",
        "    elif spj > 21:\n",
        "      print(f'Carta Sorteada: {cartaJ}, Soma: {spj}')\n",
        "      break\n",
        "\n",
        "    elif spc > 21:\n",
        "      print(f'Carta Sorteada: {cartaJ}, Soma: {spj}')\n",
        "      break\n",
        "  \n",
        "  elif pedirc == 'N':\n",
        "    break\n",
        "\n",
        "# Resultado Final\n",
        "print(f'\\nFIM DE JOGO \\nTotal de rodadas: {rodadas}')\n",
        "\n",
        "# Caso empate\n",
        "if (spj > 21 and spc > 21) or (spc == spj):\n",
        "  print('EMPATE')\n",
        "  if spj > 21 and spc > 21:\n",
        "    print('Você e o PC ultrapassaram 21!')\n",
        "  \n",
        "  print(f'\\nSeus pontos: {spj}, pontos do PC: {spc}')\n",
        "\n",
        "# Caso Jogador vença\n",
        "elif (spj > spc and spj < 22) or (spc > 21):\n",
        "  print('Você VENCEU!!')\n",
        "  if spc > 21:\n",
        "    print('O PC ultrapassou 21!')\n",
        "\n",
        "  print(f'\\nSeus pontos: {spj}, pontos do PC: {spc}')\n",
        "\n",
        "# Caso PC vença\n",
        "elif (spc > spj and spc < 22) or (spj > 21):\n",
        "  print('PC VENCEU!!')\n",
        "  if spj > 21:\n",
        "    print('Você ultrapassou 21!')\n",
        "\n",
        "  print(f'\\nSeus pontos: {spj}, pontos do PC: {spc}')\n"
      ],
      "execution_count": 0,
      "outputs": [
        {
          "output_type": "stream",
          "text": [
            "Pedir carta? [S/N]: s\n",
            "Carta Sorteada: 7, Soma: 7\n",
            "\n",
            "Pedir carta? [S/N]: s\n",
            "Carta Sorteada: 2, Soma: 9\n",
            "\n",
            "Pedir carta? [S/N]: s\n",
            "Carta Sorteada: DAMA, Soma: 19\n",
            "\n",
            "Pedir carta? [S/N]: n\n",
            "\n",
            "FIM DE JOGO \n",
            "Total de rodadas: 4\n",
            "Você VENCEU!!\n",
            "\n",
            "Seus pontos: 19, pontos do PC: 18\n"
          ],
          "name": "stdout"
        }
      ]
    }
  ]
}