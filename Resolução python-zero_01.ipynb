{
  "nbformat": 4,
  "nbformat_minor": 0,
  "metadata": {
    "colab": {
      "name": "Resolução 01.ipynb",
      "version": "0.3.2",
      "provenance": [],
      "collapsed_sections": [],
      "include_colab_link": true
    },
    "language_info": {
      "codemirror_mode": {
        "name": "ipython",
        "version": 3
      },
      "file_extension": ".py",
      "mimetype": "text/x-python",
      "name": "python",
      "nbconvert_exporter": "python",
      "pygments_lexer": "ipython3",
      "version": "3.6.7"
    },
    "kernelspec": {
      "display_name": "Python 3",
      "language": "python",
      "name": "python3"
    }
  },
  "cells": [
    {
      "cell_type": "markdown",
      "metadata": {
        "id": "view-in-github",
        "colab_type": "text"
      },
      "source": [
        "<a href=\"https://colab.research.google.com/github/DM1810/Pensamento-Computacional/blob/master/Resolu%C3%A7%C3%A3o%20python-zero_01.ipynb\" target=\"_parent\"><img src=\"https://colab.research.google.com/assets/colab-badge.svg\" alt=\"Open In Colab\"/></a>"
      ]
    },
    {
      "cell_type": "markdown",
      "metadata": {
        "id": "dTVyqJdivi3v",
        "colab_type": "text"
      },
      "source": [
        "# Primeiros passos\n",
        "\n",
        "O interpretador Python é um cara legal que gosta de conversar, mas ele é um pouco repetitivo..\n",
        "\n",
        "Os notebooks Jupyter se comunicam com o interpretador, mandando suas mensagens e mostrando as resposta que ele dá. \n",
        "\n",
        "Clique no botão de Play para executar a célula abaixo (ou selecione a célula e aperte Shift+Enter)."
      ]
    },
    {
      "cell_type": "code",
      "metadata": {
        "id": "lJeaIdOcvi33",
        "colab_type": "code",
        "outputId": "c1bdc462-b024-4eca-d914-09771c52e14e",
        "colab": {
          "base_uri": "https://localhost:8080/",
          "height": 35
        }
      },
      "source": [
        "\"Oi Python!\""
      ],
      "execution_count": 0,
      "outputs": [
        {
          "output_type": "execute_result",
          "data": {
            "text/plain": [
              "'Oi Python!'"
            ]
          },
          "metadata": {
            "tags": []
          },
          "execution_count": 1
        }
      ]
    },
    {
      "cell_type": "markdown",
      "metadata": {
        "id": "1KNu0LnSvi4H",
        "colab_type": "text"
      },
      "source": [
        "## Melhorando a conversa com o interpretador\n",
        "\n",
        ">Se o interpretador apenas repete o que eu falo, pra que ele serve? 🤔\n",
        ">*, perguntou um aluno apressado.*\n",
        "\n",
        "O interpretador é mais sagaz do que parece. Teste as células abaixo:"
      ]
    },
    {
      "cell_type": "code",
      "metadata": {
        "id": "szBUS5vOvi4J",
        "colab_type": "code",
        "outputId": "4e36cc6d-e01f-4616-a7f7-4d6e87bebe8b",
        "colab": {
          "base_uri": "https://localhost:8080/",
          "height": 35
        }
      },
      "source": [
        "\"Oi Python!\".upper()"
      ],
      "execution_count": 0,
      "outputs": [
        {
          "output_type": "execute_result",
          "data": {
            "text/plain": [
              "'OI PYTHON!'"
            ]
          },
          "metadata": {
            "tags": []
          },
          "execution_count": 2
        }
      ]
    },
    {
      "cell_type": "code",
      "metadata": {
        "scrolled": true,
        "id": "stOshGTpvi4U",
        "colab_type": "code",
        "outputId": "242e7679-0bc0-455a-d3c1-eedff4f1041e",
        "colab": {
          "base_uri": "https://localhost:8080/",
          "height": 35
        }
      },
      "source": [
        "\"Oi Python!\".lower()"
      ],
      "execution_count": 0,
      "outputs": [
        {
          "output_type": "execute_result",
          "data": {
            "text/plain": [
              "'oi python!'"
            ]
          },
          "metadata": {
            "tags": []
          },
          "execution_count": 3
        }
      ]
    },
    {
      "cell_type": "code",
      "metadata": {
        "id": "tgUKon5yvi4f",
        "colab_type": "code",
        "outputId": "97a93bfb-58eb-4713-b87a-a94ece2b1f5e",
        "colab": {
          "base_uri": "https://localhost:8080/",
          "height": 35
        }
      },
      "source": [
        "\"Oi Python!\" + \" Tudo bom?\""
      ],
      "execution_count": 0,
      "outputs": [
        {
          "output_type": "execute_result",
          "data": {
            "text/plain": [
              "'Oi Python! Tudo bom?'"
            ]
          },
          "metadata": {
            "tags": []
          },
          "execution_count": 4
        }
      ]
    },
    {
      "cell_type": "code",
      "metadata": {
        "id": "faHadb6Rvi4p",
        "colab_type": "code",
        "outputId": "82bde541-3ace-4e40-800b-d3972abf7b59",
        "colab": {
          "base_uri": "https://localhost:8080/",
          "height": 35
        }
      },
      "source": [
        "\"Oi Python!\".split()"
      ],
      "execution_count": 0,
      "outputs": [
        {
          "output_type": "execute_result",
          "data": {
            "text/plain": [
              "['Oi', 'Python!']"
            ]
          },
          "metadata": {
            "tags": []
          },
          "execution_count": 5
        }
      ]
    },
    {
      "cell_type": "markdown",
      "metadata": {
        "id": "nWbxXktRvi4y",
        "colab_type": "text"
      },
      "source": [
        "### Exercícios de fixação"
      ]
    },
    {
      "cell_type": "markdown",
      "metadata": {
        "id": "FkeIyOFZvi41",
        "colab_type": "text"
      },
      "source": [
        "EF1 - Peça pra o interpretador dizer **\"Bom dia\"** com letras minúsculas. "
      ]
    },
    {
      "cell_type": "code",
      "metadata": {
        "id": "xL55xMW8vi44",
        "colab_type": "code",
        "outputId": "2709a55d-4d9f-46a7-c06f-43c05b698dfa",
        "colab": {
          "base_uri": "https://localhost:8080/",
          "height": 35
        }
      },
      "source": [
        "\"Bom dia\".lower()"
      ],
      "execution_count": 0,
      "outputs": [
        {
          "output_type": "execute_result",
          "data": {
            "text/plain": [
              "'bom dia'"
            ]
          },
          "metadata": {
            "tags": []
          },
          "execution_count": 6
        }
      ]
    },
    {
      "cell_type": "markdown",
      "metadata": {
        "id": "Ur2yaGeRvi5D",
        "colab_type": "text"
      },
      "source": [
        "EF2 - Peça pra o interpretador dizer **\"Boa tarde\"** com letras maiúsculas. "
      ]
    },
    {
      "cell_type": "code",
      "metadata": {
        "id": "tuf6mlUDvi5G",
        "colab_type": "code",
        "outputId": "73cbfd8f-12eb-4e80-d4ad-677bbc9edab0",
        "colab": {
          "base_uri": "https://localhost:8080/",
          "height": 35
        }
      },
      "source": [
        "\"Boa tarde\".upper()"
      ],
      "execution_count": 0,
      "outputs": [
        {
          "output_type": "execute_result",
          "data": {
            "text/plain": [
              "'BOA TARDE'"
            ]
          },
          "metadata": {
            "tags": []
          },
          "execution_count": 7
        }
      ]
    },
    {
      "cell_type": "markdown",
      "metadata": {
        "id": "OZNrVitNvi5N",
        "colab_type": "text"
      },
      "source": [
        "EF3 - Peça pra o interpretador dizer **\"Bom dia ou Boa tarde?\"**, sendo o **\"Bom dia\"** com letras maiúsculas e o **\"boa tarde\"** com letras minúsculas. "
      ]
    },
    {
      "cell_type": "code",
      "metadata": {
        "id": "BDpy6_Uxvi5R",
        "colab_type": "code",
        "outputId": "c0f332c1-37fe-4447-e2f8-35b4edc21430",
        "colab": {
          "base_uri": "https://localhost:8080/",
          "height": 35
        }
      },
      "source": [
        "\"Bom dia\".upper() + \" ou \" + \"Boa tarde\".lower()"
      ],
      "execution_count": 0,
      "outputs": [
        {
          "output_type": "execute_result",
          "data": {
            "text/plain": [
              "'BOM DIA ou boa tarde'"
            ]
          },
          "metadata": {
            "tags": []
          },
          "execution_count": 14
        }
      ]
    },
    {
      "cell_type": "markdown",
      "metadata": {
        "id": "a2R0EdaOvi5Y",
        "colab_type": "text"
      },
      "source": [
        "### Exercícios complementares"
      ]
    },
    {
      "cell_type": "markdown",
      "metadata": {
        "id": "MQ47Ov_Ovi5c",
        "colab_type": "text"
      },
      "source": [
        "EC1 - O que você acha que a opção `split()` significa para o interpretador? Dica -- pesquise no Google Translate."
      ]
    },
    {
      "cell_type": "markdown",
      "metadata": {
        "id": "IwFssF5qvi5f",
        "colab_type": "text"
      },
      "source": [
        "## Dividir,nos casos acima,dividir as palavras da sentença\n"
      ]
    },
    {
      "cell_type": "markdown",
      "metadata": {
        "id": "btyP0GJnvi5i",
        "colab_type": "text"
      },
      "source": [
        "A gente vai estudar o `split` com mais calma depois, mas por enquanto vamos ver um pouco sobre números."
      ]
    },
    {
      "cell_type": "markdown",
      "metadata": {
        "id": "diMCRKdNvi5k",
        "colab_type": "text"
      },
      "source": [
        "## Trabalhando com números\n",
        "\n",
        "O interpretador Python também consegue lidar com números e operadores aritméticos, que podem ser usados para construir **expressões aritméticas**. \n",
        "\n",
        "As regras básicas sobre expressões aritméticas em Python são:\n",
        "\n",
        "* Em geral, a precedência dos operadores em Python segue a precedência que conhecemos da matemática. \n",
        "* Assim como na matemática, é possível usar parênteses para mudar a ordem de avaliação de uma expressão.\n",
        "* Caso reste apenas operações de mesma precedência, a expressão passa a ser avaliada da esquerda para a direita.\n",
        "\n",
        "Alguns dos operadores aritméticos disponíveis em Python estão listados abaixo. "
      ]
    },
    {
      "cell_type": "markdown",
      "metadata": {
        "id": "_6ieILZHvi5m",
        "colab_type": "text"
      },
      "source": [
        "| Símbolo | Operação |\n",
        "|:----:|---|\n",
        "| +  | Adição |\n",
        "| -  | Subtração |\n",
        "| /  | Divisão |\n",
        "| // | Divisão inteira |\n",
        "| %  | Resto |\n",
        "| *  | Multiplicação |\n",
        "| **  | Exponenciação |"
      ]
    },
    {
      "cell_type": "markdown",
      "metadata": {
        "id": "pXO9t-h7vi5p",
        "colab_type": "text"
      },
      "source": [
        "Teste as células abaixo:"
      ]
    },
    {
      "cell_type": "code",
      "metadata": {
        "id": "GQuydEXZvi5r",
        "colab_type": "code",
        "outputId": "198ecf58-4f1d-4321-de3f-27397142579d",
        "colab": {
          "base_uri": "https://localhost:8080/",
          "height": 35
        }
      },
      "source": [
        "1+2+5"
      ],
      "execution_count": 0,
      "outputs": [
        {
          "output_type": "execute_result",
          "data": {
            "text/plain": [
              "8"
            ]
          },
          "metadata": {
            "tags": []
          },
          "execution_count": 15
        }
      ]
    },
    {
      "cell_type": "code",
      "metadata": {
        "id": "HibLg98zvi55",
        "colab_type": "code",
        "outputId": "4dc62f67-3141-4d83-a8cf-2aac6957d713",
        "colab": {
          "base_uri": "https://localhost:8080/",
          "height": 35
        }
      },
      "source": [
        "2-1"
      ],
      "execution_count": 0,
      "outputs": [
        {
          "output_type": "execute_result",
          "data": {
            "text/plain": [
              "1"
            ]
          },
          "metadata": {
            "tags": []
          },
          "execution_count": 16
        }
      ]
    },
    {
      "cell_type": "code",
      "metadata": {
        "id": "0ImqHwiPvi6D",
        "colab_type": "code",
        "outputId": "747d73f5-5f1a-45bd-d8bf-a7c3f1c78aca",
        "colab": {
          "base_uri": "https://localhost:8080/",
          "height": 35
        }
      },
      "source": [
        "1*2"
      ],
      "execution_count": 0,
      "outputs": [
        {
          "output_type": "execute_result",
          "data": {
            "text/plain": [
              "2"
            ]
          },
          "metadata": {
            "tags": []
          },
          "execution_count": 17
        }
      ]
    },
    {
      "cell_type": "code",
      "metadata": {
        "scrolled": true,
        "id": "xyJDUAcAvi6O",
        "colab_type": "code",
        "outputId": "7c2df22d-7f7e-4a95-b5cd-a951660851ce",
        "colab": {
          "base_uri": "https://localhost:8080/",
          "height": 35
        }
      },
      "source": [
        "3/4"
      ],
      "execution_count": 0,
      "outputs": [
        {
          "output_type": "execute_result",
          "data": {
            "text/plain": [
              "0.75"
            ]
          },
          "metadata": {
            "tags": []
          },
          "execution_count": 18
        }
      ]
    },
    {
      "cell_type": "code",
      "metadata": {
        "id": "2cOZS6Sevi6b",
        "colab_type": "code",
        "outputId": "73e40645-e6de-4964-e4e8-00a784ba7013",
        "colab": {
          "base_uri": "https://localhost:8080/",
          "height": 35
        }
      },
      "source": [
        "2 ** 3"
      ],
      "execution_count": 0,
      "outputs": [
        {
          "output_type": "execute_result",
          "data": {
            "text/plain": [
              "8"
            ]
          },
          "metadata": {
            "tags": []
          },
          "execution_count": 19
        }
      ]
    },
    {
      "cell_type": "markdown",
      "metadata": {
        "id": "noYGiTVmvi6h",
        "colab_type": "text"
      },
      "source": [
        "No entanto, você não deve misturar textos e números:"
      ]
    },
    {
      "cell_type": "code",
      "metadata": {
        "scrolled": true,
        "id": "1GWK0Dp5vi6j",
        "colab_type": "code",
        "outputId": "a8ebd45b-f74c-4d5f-f3ec-1c10e4a0196f",
        "colab": {
          "base_uri": "https://localhost:8080/",
          "height": 165
        }
      },
      "source": [
        "\"Este é um texto\" + 3"
      ],
      "execution_count": 57,
      "outputs": [
        {
          "output_type": "error",
          "ename": "TypeError",
          "evalue": "ignored",
          "traceback": [
            "\u001b[0;31m---------------------------------------------------------------------------\u001b[0m",
            "\u001b[0;31mTypeError\u001b[0m                                 Traceback (most recent call last)",
            "\u001b[0;32m<ipython-input-57-85e4d6029825>\u001b[0m in \u001b[0;36m<module>\u001b[0;34m()\u001b[0m\n\u001b[0;32m----> 1\u001b[0;31m \u001b[0;34m\"Este é um texto\"\u001b[0m \u001b[0;34m+\u001b[0m \u001b[0;36m3\u001b[0m\u001b[0;34m\u001b[0m\u001b[0;34m\u001b[0m\u001b[0m\n\u001b[0m",
            "\u001b[0;31mTypeError\u001b[0m: must be str, not int"
          ]
        }
      ]
    },
    {
      "cell_type": "markdown",
      "metadata": {
        "id": "GHs54Oe7vi6q",
        "colab_type": "text"
      },
      "source": [
        "### Exercícios de fixação"
      ]
    },
    {
      "cell_type": "markdown",
      "metadata": {
        "id": "EDviJgtKvi6s",
        "colab_type": "text"
      },
      "source": [
        "EF4 - Calcule o produto dos números 11 e 12."
      ]
    },
    {
      "cell_type": "code",
      "metadata": {
        "id": "_V4MhsNHvi6u",
        "colab_type": "code",
        "outputId": "c8865f69-f845-4a50-b810-a904d924a7bb",
        "colab": {
          "base_uri": "https://localhost:8080/",
          "height": 35
        }
      },
      "source": [
        "11*12"
      ],
      "execution_count": 0,
      "outputs": [
        {
          "output_type": "execute_result",
          "data": {
            "text/plain": [
              "132"
            ]
          },
          "metadata": {
            "tags": []
          },
          "execution_count": 21
        }
      ]
    },
    {
      "cell_type": "markdown",
      "metadata": {
        "id": "GYlpKqYgvi61",
        "colab_type": "text"
      },
      "source": [
        "EF5 - Calcule o quadrado do número 16."
      ]
    },
    {
      "cell_type": "code",
      "metadata": {
        "id": "t4tHT428vi66",
        "colab_type": "code",
        "outputId": "a020e8a5-a076-4deb-c355-e92913a8c033",
        "colab": {
          "base_uri": "https://localhost:8080/",
          "height": 35
        }
      },
      "source": [
        "16**2"
      ],
      "execution_count": 0,
      "outputs": [
        {
          "output_type": "execute_result",
          "data": {
            "text/plain": [
              "256"
            ]
          },
          "metadata": {
            "tags": []
          },
          "execution_count": 23
        }
      ]
    },
    {
      "cell_type": "markdown",
      "metadata": {
        "id": "O-fgCtPyvi7C",
        "colab_type": "text"
      },
      "source": [
        "EF6 - Calcule a raiz quadrada de 1024."
      ]
    },
    {
      "cell_type": "code",
      "metadata": {
        "id": "mdr5Tky8vi7D",
        "colab_type": "code",
        "outputId": "e8388ceb-7b2d-469c-a4a6-4ebe327d6799",
        "colab": {
          "base_uri": "https://localhost:8080/",
          "height": 35
        }
      },
      "source": [
        "1024**(1/2)"
      ],
      "execution_count": 0,
      "outputs": [
        {
          "output_type": "execute_result",
          "data": {
            "text/plain": [
              "32.0"
            ]
          },
          "metadata": {
            "tags": []
          },
          "execution_count": 25
        }
      ]
    },
    {
      "cell_type": "markdown",
      "metadata": {
        "id": "tBZarsZ4vi7J",
        "colab_type": "text"
      },
      "source": [
        "### Exercícios complementares\n",
        "\n",
        "Os operadores // e % trabalham com divisão inteira. Por exemplo, dividir 15 por 10 considerando apenas número inteiros é igual a 1. O resto da divisão é igual a 15 - (10*1), ou seja, 5."
      ]
    },
    {
      "cell_type": "code",
      "metadata": {
        "scrolled": true,
        "id": "ae7RBSXlvi7L",
        "colab_type": "code",
        "outputId": "353b9393-491d-4ad1-8068-ec2246cdfbe3",
        "colab": {
          "base_uri": "https://localhost:8080/",
          "height": 35
        }
      },
      "source": [
        "15//10"
      ],
      "execution_count": 0,
      "outputs": [
        {
          "output_type": "execute_result",
          "data": {
            "text/plain": [
              "1"
            ]
          },
          "metadata": {
            "tags": []
          },
          "execution_count": 26
        }
      ]
    },
    {
      "cell_type": "code",
      "metadata": {
        "scrolled": true,
        "id": "Vkx2IbrUvi7R",
        "colab_type": "code",
        "outputId": "0d144046-760c-47aa-8560-26cfd7875374",
        "colab": {
          "base_uri": "https://localhost:8080/",
          "height": 35
        }
      },
      "source": [
        "15%10"
      ],
      "execution_count": 0,
      "outputs": [
        {
          "output_type": "execute_result",
          "data": {
            "text/plain": [
              "5"
            ]
          },
          "metadata": {
            "tags": []
          },
          "execution_count": 27
        }
      ]
    },
    {
      "cell_type": "markdown",
      "metadata": {
        "id": "YN6DrWYvvi7W",
        "colab_type": "text"
      },
      "source": [
        "EC2 - Calcule o resto da divisão de 227 por 20."
      ]
    },
    {
      "cell_type": "code",
      "metadata": {
        "id": "xAmD5Pj7vi7X",
        "colab_type": "code",
        "outputId": "e1d105a1-14e0-4667-f37a-808713fce6c8",
        "colab": {
          "base_uri": "https://localhost:8080/",
          "height": 35
        }
      },
      "source": [
        "227%20"
      ],
      "execution_count": 0,
      "outputs": [
        {
          "output_type": "execute_result",
          "data": {
            "text/plain": [
              "7"
            ]
          },
          "metadata": {
            "tags": []
          },
          "execution_count": 30
        }
      ]
    },
    {
      "cell_type": "markdown",
      "metadata": {
        "id": "U3mUCi6xvi7d",
        "colab_type": "text"
      },
      "source": [
        "# Valores, nomes e variáveis"
      ]
    },
    {
      "cell_type": "code",
      "metadata": {
        "id": "OeXhyJfryZdD",
        "colab_type": "code",
        "colab": {}
      },
      "source": [
        ""
      ],
      "execution_count": 0,
      "outputs": []
    },
    {
      "cell_type": "markdown",
      "metadata": {
        "id": "jHJ6Unpyvi7g",
        "colab_type": "text"
      },
      "source": [
        "Em Python, tanto textos como números são chamados de *valores*. \n",
        "\n",
        "Podemos nos referir a valores usando *nomes*. \n",
        "\n",
        ">Em outras linguagens, usa-se o termo **variável** em vez de nome. Vamos adotar este termo aqui por ele ser mais universal.\n",
        "\n",
        "Teste as células abaixo:"
      ]
    },
    {
      "cell_type": "code",
      "metadata": {
        "scrolled": true,
        "id": "g4rF6tu9vi7k",
        "colab_type": "code",
        "outputId": "f3ecbbb0-d97e-486b-d394-59f8c2864320",
        "colab": {
          "base_uri": "https://localhost:8080/",
          "height": 35
        }
      },
      "source": [
        "x = 2          # qualquer coisa após o # é um comentário\n",
        "y = 5\n",
        "x + y"
      ],
      "execution_count": 0,
      "outputs": [
        {
          "output_type": "execute_result",
          "data": {
            "text/plain": [
              "7"
            ]
          },
          "metadata": {
            "tags": []
          },
          "execution_count": 31
        }
      ]
    },
    {
      "cell_type": "markdown",
      "metadata": {
        "id": "-z69FfIsvi7s",
        "colab_type": "text"
      },
      "source": [
        "Múltiplas variáveis podem estar associadas ao mesmo valor."
      ]
    },
    {
      "cell_type": "code",
      "metadata": {
        "id": "Fm9oTJlBvi7t",
        "colab_type": "code",
        "outputId": "97abcf0a-d3fd-4249-e9d1-ec93f84e86f6",
        "colab": {
          "base_uri": "https://localhost:8080/",
          "height": 35
        }
      },
      "source": [
        "x = y = 1\n",
        "y"
      ],
      "execution_count": 0,
      "outputs": [
        {
          "output_type": "execute_result",
          "data": {
            "text/plain": [
              "1"
            ]
          },
          "metadata": {
            "tags": []
          },
          "execution_count": 32
        }
      ]
    },
    {
      "cell_type": "code",
      "metadata": {
        "id": "4j_JIWuWvi70",
        "colab_type": "code",
        "outputId": "0553b39a-189f-4713-9687-53b0c932f1d6",
        "colab": {
          "base_uri": "https://localhost:8080/",
          "height": 35
        }
      },
      "source": [
        "texto = 'Este é um texto.' # textos podem ser escritos entre aspas simples\n",
        "texto"
      ],
      "execution_count": 0,
      "outputs": [
        {
          "output_type": "execute_result",
          "data": {
            "text/plain": [
              "'Este é um texto.'"
            ]
          },
          "metadata": {
            "tags": []
          },
          "execution_count": 33
        }
      ]
    },
    {
      "cell_type": "code",
      "metadata": {
        "id": "TXVZ8pABvi74",
        "colab_type": "code",
        "outputId": "b9570467-91c7-47a5-b4df-3a8fce4ef3d6",
        "colab": {
          "base_uri": "https://localhost:8080/",
          "height": 35
        }
      },
      "source": [
        "outro_texto = \"Este é outro texto.\" # textos podem ser escritos entre aspas duplas\n",
        "outro_texto"
      ],
      "execution_count": 0,
      "outputs": [
        {
          "output_type": "execute_result",
          "data": {
            "text/plain": [
              "'Este é outro texto.'"
            ]
          },
          "metadata": {
            "tags": []
          },
          "execution_count": 34
        }
      ]
    },
    {
      "cell_type": "markdown",
      "metadata": {
        "id": "rhzSDWsTvi79",
        "colab_type": "text"
      },
      "source": [
        "### Exercícios de fixação\n",
        "\n",
        "Para verificar que seu código está correto, lembre-se de acrescentar uma linha contendo apenas o nome da variável para visualizar o valor associado a ela."
      ]
    },
    {
      "cell_type": "markdown",
      "metadata": {
        "id": "QC--wOclvi7-",
        "colab_type": "text"
      },
      "source": [
        "EF7 - Associe uma variável `numero` ao número `10`."
      ]
    },
    {
      "cell_type": "code",
      "metadata": {
        "id": "yeUNgVTuvi8A",
        "colab_type": "code",
        "outputId": "e8b0536f-20ba-46b2-aeb0-6cb3514469ba",
        "colab": {
          "base_uri": "https://localhost:8080/",
          "height": 34
        }
      },
      "source": [
        "X = 10\n",
        "X"
      ],
      "execution_count": 60,
      "outputs": [
        {
          "output_type": "execute_result",
          "data": {
            "text/plain": [
              "10"
            ]
          },
          "metadata": {
            "tags": []
          },
          "execution_count": 60
        }
      ]
    },
    {
      "cell_type": "markdown",
      "metadata": {
        "id": "kpmo9XzGvi8F",
        "colab_type": "text"
      },
      "source": [
        "EF8 - Associe uma variável `nome` ao texto `Python`."
      ]
    },
    {
      "cell_type": "code",
      "metadata": {
        "id": "fLdoDcGGvi8H",
        "colab_type": "code",
        "outputId": "19eadf2e-2645-4858-f4bc-e7c8cf6daf3e",
        "colab": {
          "base_uri": "https://localhost:8080/",
          "height": 35
        }
      },
      "source": [
        "nome = \"Python\"\n",
        "nome"
      ],
      "execution_count": 0,
      "outputs": [
        {
          "output_type": "execute_result",
          "data": {
            "text/plain": [
              "'Python'"
            ]
          },
          "metadata": {
            "tags": []
          },
          "execution_count": 42
        }
      ]
    },
    {
      "cell_type": "markdown",
      "metadata": {
        "id": "afL7nwMVvi8M",
        "colab_type": "text"
      },
      "source": [
        "EF9 - Associe uma variável `resto` ao resultado do operação de resto entre `234` e `10`."
      ]
    },
    {
      "cell_type": "code",
      "metadata": {
        "id": "SKPQcQDTvi8N",
        "colab_type": "code",
        "outputId": "b1959023-09d1-4b02-9121-e1ec6b52fb7c",
        "colab": {
          "base_uri": "https://localhost:8080/",
          "height": 35
        }
      },
      "source": [
        "resto = 234%10\n",
        "resto"
      ],
      "execution_count": 0,
      "outputs": [
        {
          "output_type": "execute_result",
          "data": {
            "text/plain": [
              "4"
            ]
          },
          "metadata": {
            "tags": []
          },
          "execution_count": 44
        }
      ]
    },
    {
      "cell_type": "markdown",
      "metadata": {
        "id": "xG37ilhivi8R",
        "colab_type": "text"
      },
      "source": [
        "EF10 - Associe uma variável `k` ao valor `8`. Associe uma variável `quadrado_k` ao quadrado do valor associado à variável `k`."
      ]
    },
    {
      "cell_type": "code",
      "metadata": {
        "id": "zdDh_M0Ivi8S",
        "colab_type": "code",
        "outputId": "6b92efd5-7f8f-498a-a47d-f18a78d06902",
        "colab": {
          "base_uri": "https://localhost:8080/",
          "height": 35
        }
      },
      "source": [
        "k = 8\n",
        "quadrado_k = k**2\n",
        "quadrado_k"
      ],
      "execution_count": 0,
      "outputs": [
        {
          "output_type": "execute_result",
          "data": {
            "text/plain": [
              "64"
            ]
          },
          "metadata": {
            "tags": []
          },
          "execution_count": 47
        }
      ]
    },
    {
      "cell_type": "markdown",
      "metadata": {
        "id": "jRhDKlhnvi8X",
        "colab_type": "text"
      },
      "source": [
        "EF11 - Associe uma váriavel `z` ao valor `256`. Associe uma variável `divisao_zk` ao resultado da divisão entre os valores associados às variáveis `z` e `k`."
      ]
    },
    {
      "cell_type": "code",
      "metadata": {
        "id": "8CwaqEvrvi8Z",
        "colab_type": "code",
        "outputId": "833f23f3-d004-4ef8-9dac-0a3a77f14bf5",
        "colab": {
          "base_uri": "https://localhost:8080/",
          "height": 35
        }
      },
      "source": [
        "z = 256\n",
        "divisao_zk = z/k\n",
        "divisao_zk"
      ],
      "execution_count": 0,
      "outputs": [
        {
          "output_type": "execute_result",
          "data": {
            "text/plain": [
              "32.0"
            ]
          },
          "metadata": {
            "tags": []
          },
          "execution_count": 49
        }
      ]
    },
    {
      "cell_type": "markdown",
      "metadata": {
        "id": "dPD9hm9Gvi8d",
        "colab_type": "text"
      },
      "source": [
        "## Dados informados pelo usuário"
      ]
    },
    {
      "cell_type": "markdown",
      "metadata": {
        "id": "-eHWEm7qvi8e",
        "colab_type": "text"
      },
      "source": [
        "O procedimento `input()` solicita ao usuário dados que podem ser associados a variáveis. É possível personalizar a mensagem de solicitação, como mostrado abaixo."
      ]
    },
    {
      "cell_type": "code",
      "metadata": {
        "id": "duRRxGKHvi8f",
        "colab_type": "code",
        "outputId": "4eff03cf-a2f5-4fee-9b02-dab43521a50f",
        "colab": {
          "base_uri": "https://localhost:8080/",
          "height": 53
        }
      },
      "source": [
        "texto_usuario =  input(\"Diga um valor: \")\n",
        "texto_usuario"
      ],
      "execution_count": 0,
      "outputs": [
        {
          "output_type": "stream",
          "text": [
            "Diga um valor: 10\n"
          ],
          "name": "stdout"
        },
        {
          "output_type": "execute_result",
          "data": {
            "text/plain": [
              "'10'"
            ]
          },
          "metadata": {
            "tags": []
          },
          "execution_count": 50
        }
      ]
    },
    {
      "cell_type": "markdown",
      "metadata": {
        "id": "MtMDVSsKvi8k",
        "colab_type": "text"
      },
      "source": [
        "Por padrão, qualquer dado passada pelo usuário será tratado como texto. Para tratá-lo como um valor numérico, você deve usar os procedimentos `int()` ou `float()`, dependendo de serem números inteiros ou reais."
      ]
    },
    {
      "cell_type": "code",
      "metadata": {
        "id": "46weWJifvi8l",
        "colab_type": "code",
        "outputId": "8b502605-2b59-4863-dc80-2e7af7aca86d",
        "colab": {
          "base_uri": "https://localhost:8080/",
          "height": 53
        }
      },
      "source": [
        "inteiro = int(input(\"Diga um valor inteiro: \"))\n",
        "inteiro + 1"
      ],
      "execution_count": 0,
      "outputs": [
        {
          "output_type": "stream",
          "text": [
            "Diga um valor inteiro: 1\n"
          ],
          "name": "stdout"
        },
        {
          "output_type": "execute_result",
          "data": {
            "text/plain": [
              "2"
            ]
          },
          "metadata": {
            "tags": []
          },
          "execution_count": 51
        }
      ]
    },
    {
      "cell_type": "code",
      "metadata": {
        "id": "WPhA5bLuvi8q",
        "colab_type": "code",
        "outputId": "73b6bfa6-e03c-49d7-c281-60d65f71e7f5",
        "colab": {
          "base_uri": "https://localhost:8080/",
          "height": 51
        }
      },
      "source": [
        "real = float(input(\"Diga um valor real: \"))\n",
        "real + 1"
      ],
      "execution_count": 0,
      "outputs": [
        {
          "output_type": "stream",
          "text": [
            "Diga um valor real: 1\n"
          ],
          "name": "stdout"
        },
        {
          "output_type": "execute_result",
          "data": {
            "text/plain": [
              "2.0"
            ]
          },
          "metadata": {
            "tags": []
          },
          "execution_count": 13
        }
      ]
    },
    {
      "cell_type": "markdown",
      "metadata": {
        "id": "Esl_7-ynvi8w",
        "colab_type": "text"
      },
      "source": [
        "### Exercícios de fixação"
      ]
    },
    {
      "cell_type": "markdown",
      "metadata": {
        "id": "qrd1_ECavi8x",
        "colab_type": "text"
      },
      "source": [
        "EF12 - Solicite ao usuário *seu nome* e o associe a uma variavél chamada `nome`."
      ]
    },
    {
      "cell_type": "code",
      "metadata": {
        "id": "Tiz8KmSLvi8z",
        "colab_type": "code",
        "outputId": "aae6531d-5f06-416a-b17c-36c395ae0b4d",
        "colab": {
          "base_uri": "https://localhost:8080/",
          "height": 34
        }
      },
      "source": [
        "nome = input(\"Diga seu nome: \")"
      ],
      "execution_count": 0,
      "outputs": [
        {
          "output_type": "stream",
          "text": [
            "Diga seu nome: Daniel\n"
          ],
          "name": "stdout"
        }
      ]
    },
    {
      "cell_type": "markdown",
      "metadata": {
        "id": "c6yPfY3Svi8-",
        "colab_type": "text"
      },
      "source": [
        "EF13 - Solicite ao usuário *sua idade* e a associe a uma variável chamada `idade`."
      ]
    },
    {
      "cell_type": "code",
      "metadata": {
        "id": "_L94IXBhvi8_",
        "colab_type": "code",
        "outputId": "31878442-331f-4315-961a-c7b5350c6be3",
        "colab": {
          "base_uri": "https://localhost:8080/",
          "height": 34
        }
      },
      "source": [
        "idade = int(input(\" Diga sua idade : \"))"
      ],
      "execution_count": 0,
      "outputs": [
        {
          "output_type": "stream",
          "text": [
            " Diga sua idade : 18\n"
          ],
          "name": "stdout"
        }
      ]
    },
    {
      "cell_type": "markdown",
      "metadata": {
        "id": "ndu7Wc67vi9F",
        "colab_type": "text"
      },
      "source": [
        "EF14 - Solicite ao usuário *sua altura* e a associe a uma variável chamada `altura`."
      ]
    },
    {
      "cell_type": "code",
      "metadata": {
        "id": "SthURwBTvi9G",
        "colab_type": "code",
        "outputId": "cda830ac-3443-42b6-c58c-26516fbcd0d2",
        "colab": {
          "base_uri": "https://localhost:8080/",
          "height": 34
        }
      },
      "source": [
        "altura = float(input(\" Diga sua altura: \"))"
      ],
      "execution_count": 64,
      "outputs": [
        {
          "output_type": "stream",
          "text": [
            " Diga sua altura: 1.80\n"
          ],
          "name": "stdout"
        }
      ]
    },
    {
      "cell_type": "markdown",
      "metadata": {
        "id": "Cb6FVV2xvi9K",
        "colab_type": "text"
      },
      "source": [
        "## Informando dados ao usuário"
      ]
    },
    {
      "cell_type": "markdown",
      "metadata": {
        "id": "D3tYYBHXvi9K",
        "colab_type": "text"
      },
      "source": [
        "Assim como é possível receber dados do usuário, também é possível informar dados ao usuário.\n",
        "\n",
        "Para isto, usamos o procedimento `print()`."
      ]
    },
    {
      "cell_type": "code",
      "metadata": {
        "id": "qQ93EnRRvi9L",
        "colab_type": "code",
        "outputId": "7e181d6d-c8ab-4305-9822-e0903805acb1",
        "colab": {
          "base_uri": "https://localhost:8080/",
          "height": 35
        }
      },
      "source": [
        "print(texto)"
      ],
      "execution_count": 0,
      "outputs": [
        {
          "output_type": "stream",
          "text": [
            "Este é um texto.\n"
          ],
          "name": "stdout"
        }
      ]
    },
    {
      "cell_type": "markdown",
      "metadata": {
        "id": "UbMelgXhvi9Q",
        "colab_type": "text"
      },
      "source": [
        "É possível informar os valores associados a múltiplas variáveis com uma única chamada ao procedimento `print()`. "
      ]
    },
    {
      "cell_type": "code",
      "metadata": {
        "id": "KTIFlDZGvi9R",
        "colab_type": "code",
        "outputId": "57431b3e-73b5-433c-9439-dfb39db9b600",
        "colab": {
          "base_uri": "https://localhost:8080/",
          "height": 35
        }
      },
      "source": [
        "print(texto, x)"
      ],
      "execution_count": 0,
      "outputs": [
        {
          "output_type": "stream",
          "text": [
            "Este é um texto. 1\n"
          ],
          "name": "stdout"
        }
      ]
    },
    {
      "cell_type": "markdown",
      "metadata": {
        "id": "zu2R1QAxvi9W",
        "colab_type": "text"
      },
      "source": [
        "Também é possível informar textos, valores e o resultado de expressões:"
      ]
    },
    {
      "cell_type": "code",
      "metadata": {
        "id": "-xRFt5-Wvi9Z",
        "colab_type": "code",
        "colab": {}
      },
      "source": [
        "print(\"Testando\", 3, x + y)"
      ],
      "execution_count": 0,
      "outputs": []
    },
    {
      "cell_type": "markdown",
      "metadata": {
        "id": "lJTdTMsDvi9q",
        "colab_type": "text"
      },
      "source": [
        "### Exercícios de fixação"
      ]
    },
    {
      "cell_type": "markdown",
      "metadata": {
        "id": "OmYZs5xWvi9s",
        "colab_type": "text"
      },
      "source": [
        "EF15 - Informe ao usuário **seu nome**."
      ]
    },
    {
      "cell_type": "code",
      "metadata": {
        "id": "XGoqFo_dvi9t",
        "colab_type": "code",
        "outputId": "1b40995d-54b9-4c36-b3ba-a9349405cae1",
        "colab": {
          "base_uri": "https://localhost:8080/",
          "height": 34
        }
      },
      "source": [
        "print(\"Seu nome é Daniel\")"
      ],
      "execution_count": 0,
      "outputs": [
        {
          "output_type": "stream",
          "text": [
            "Seu nome é Daniel\n"
          ],
          "name": "stdout"
        }
      ]
    },
    {
      "cell_type": "markdown",
      "metadata": {
        "id": "GPSoqoH8vi9w",
        "colab_type": "text"
      },
      "source": [
        "EF16 - Informe ao usuário **sua idade**."
      ]
    },
    {
      "cell_type": "code",
      "metadata": {
        "id": "cXZME_pJvi9x",
        "colab_type": "code",
        "outputId": "397a89da-3234-4361-9097-3fcc31090640",
        "colab": {
          "base_uri": "https://localhost:8080/",
          "height": 34
        }
      },
      "source": [
        "print(\"Você tem 18 anos\")"
      ],
      "execution_count": 0,
      "outputs": [
        {
          "output_type": "stream",
          "text": [
            "Você tem 18 anos\n"
          ],
          "name": "stdout"
        }
      ]
    },
    {
      "cell_type": "markdown",
      "metadata": {
        "id": "FAkgAGfDvi91",
        "colab_type": "text"
      },
      "source": [
        "EF17 - Informe ao usuário **seu índice de massa corporal (IMC)**. Para isso, solicite ao usuário seu peso."
      ]
    },
    {
      "cell_type": "code",
      "metadata": {
        "id": "ATpTx6uovi91",
        "colab_type": "code",
        "outputId": "2779b540-60a1-4224-fd60-d3594fcbbcaa",
        "colab": {
          "base_uri": "https://localhost:8080/",
          "height": 51
        }
      },
      "source": [
        "peso = float(input(\" Diga seu peso: \"))\n",
        "altura = 1.80\n",
        "imc = peso/altura**2\n",
        "imc"
      ],
      "execution_count": 66,
      "outputs": [
        {
          "output_type": "stream",
          "text": [
            " Diga seu peso: 75\n"
          ],
          "name": "stdout"
        },
        {
          "output_type": "execute_result",
          "data": {
            "text/plain": [
              "23.148148148148145"
            ]
          },
          "metadata": {
            "tags": []
          },
          "execution_count": 66
        }
      ]
    },
    {
      "cell_type": "markdown",
      "metadata": {
        "id": "IEW4rVn2vi-C",
        "colab_type": "text"
      },
      "source": [
        "## Exercícios do URI"
      ]
    },
    {
      "cell_type": "markdown",
      "metadata": {
        "id": "ULq74nn1vi-E",
        "colab_type": "text"
      },
      "source": [
        "O URI é um juiz online utilizado em treinamentos para competições de programação.\n",
        "\n",
        "Nesta disciplina, utilizaremos exercícios inspirados na seção **Iniciante**, adaptados para o nosso contexto.\n",
        "\n",
        "Para ver a descrição do exercício em sua versão original do URI, clique no seu número."
      ]
    },
    {
      "cell_type": "markdown",
      "metadata": {
        "id": "1ql_ObEnvi-G",
        "colab_type": "text"
      },
      "source": [
        "[1008](https://www.urionlinejudge.com.br/judge/pt/problems/view/1008) - Um sistema do setor de recursos humanos de uma empresa deve calcular o salário a ser pago para cada funcionário da empresa em função de quantas horas o funcionário trabalhou no mês e de quanto ele recebe por hora trabalhada.\n",
        "\n",
        "Escreva um código Python que leia o nome de um funcionário, seu número de horas trabalhadas, o valor que recebe por hora e calcula seu salário. Em seguida, mostre o nome e o salário do funcionário."
      ]
    },
    {
      "cell_type": "markdown",
      "metadata": {
        "id": "cz2qCrYtvi-I",
        "colab_type": "text"
      },
      "source": [
        "|.| Entrada | Saída |\n",
        "|-|----|---|\n",
        "| *Exemplo 1* | João 100 5.50  | João 550.00 | \n",
        "| *Exemplo 2* | Maria 200 20.50 | Maria 4100.00 |\n",
        "| *Exemplo 3* | Facebookson 145 15.55 | Facebookson 2254.75 |"
      ]
    },
    {
      "cell_type": "code",
      "metadata": {
        "id": "YMyd_Y_Uvi-L",
        "colab_type": "code",
        "colab": {
          "base_uri": "https://localhost:8080/",
          "height": 102
        },
        "outputId": "3e4d6005-bb7e-43e0-92e0-e8aa58c58793"
      },
      "source": [
        "num = int(input())\n",
        "hrs = int(input())\n",
        "vl = float(input())\n",
        "\n",
        "salario = vl * hrs\n",
        "\n",
        "print(\"NUMBER = %d\\nSALARY = U$ %.2f\" %(num,salario))"
      ],
      "execution_count": 40,
      "outputs": [
        {
          "output_type": "stream",
          "text": [
            "1\n",
            "100\n",
            "15\n",
            "NUMBER = 1\n",
            "SALARY = U$ 1500.00\n"
          ],
          "name": "stdout"
        }
      ]
    },
    {
      "cell_type": "markdown",
      "metadata": {
        "id": "nWjWpIPqvi-O",
        "colab_type": "text"
      },
      "source": [
        "[1009](https://www.urionlinejudge.com.br/judge/pt/problems/view/1009) - No caso de empresas do setor de comércio, a remuneração mensal de cada vendedor é composta por um salário fixo mais uma bonificação proporcional às vendas efetuadas pelo vendedor naquele mês.\n",
        "\n",
        "Escreva um código Python que leia o nome de um vendedor, o seu salário fixo e o total de vendas efetuadas por ele no mês (em dinheiro). Sabendo que este vendedor ganha 15% de comissão sobre suas vendas efetuadas, informe o total que ele deverá receber no final do mês."
      ]
    },
    {
      "cell_type": "markdown",
      "metadata": {
        "id": "dpYdN7Dzvi-P",
        "colab_type": "text"
      },
      "source": [
        "|.| Entrada | Saída |\n",
        "|-|----|---|\n",
        "| *Exemplo 1* | João 500 1230.30  | João 684.54 | \n",
        "| *Exemplo 2* | Pedro 700 0.00 | Pedro 700.00 |\n",
        "| *Exemplo 3* | Mangojata 1700 1230.50 | Mangojata 1884.58 |"
      ]
    },
    {
      "cell_type": "code",
      "metadata": {
        "id": "lNEijzxKvi-Q",
        "colab_type": "code",
        "colab": {
          "base_uri": "https://localhost:8080/",
          "height": 85
        },
        "outputId": "14791306-3ac4-4c96-e405-301d7f79b9c4"
      },
      "source": [
        "nome = input(\"Diga seu nome: \")\n",
        "salfixo = float(input(\"Diga seu salário fixo: \"))\n",
        "vendas = float(input(\"Diga quantas vendas: \"))\n",
        "bonus = float(vendas * (15/100))\n",
        "total = salfixo + bonus\n",
        "print(\"TOTAL = R$ %0.2f\" %total)"
      ],
      "execution_count": 30,
      "outputs": [
        {
          "output_type": "stream",
          "text": [
            "Diga seu nome: Daniel\n",
            "Diga seu salário fixo: 1500\n",
            "Diga quantas vendas: 50\n",
            "TOTAL = R$ 1507.50\n"
          ],
          "name": "stdout"
        }
      ]
    },
    {
      "cell_type": "markdown",
      "metadata": {
        "id": "m-jJhRqcvi-T",
        "colab_type": "text"
      },
      "source": [
        "[1010](https://www.urionlinejudge.com.br/judge/pt/problems/view/1010) - Outro tipo de sistema utilizado no setor de comércio é o sistema de frente de loja, que calcula o total de uma venda baseado nos itens adquiridos, suas quantidades e seus valores unitários.\n",
        "\n",
        "Escreva um código Python que leia as informações de dois produtos adquiridos em uma compra e informe o valor a ser pago. Para cada produto, leia seu código, sua quantidade e seu valor unitário."
      ]
    },
    {
      "cell_type": "markdown",
      "metadata": {
        "id": "j50rk_fUvi-U",
        "colab_type": "text"
      },
      "source": [
        "|.| Entrada | Saída |\n",
        "|-|----|---|\n",
        "| *Exemplo 1* | 12 1 5.30 <br> 16 2 5.10 | VALOR A PAGAR: 15.50 |\n",
        "| *Exemplo 2* | 13 2 15.30 <br> 161 4 5.20 | VALOR A PAGAR: 51.40 |\n",
        "| *Exemplo 3* | 1 1 15.10 <br> 2 1 15.10 | VALOR A PAGAR: 30.20 |"
      ]
    },
    {
      "cell_type": "code",
      "metadata": {
        "id": "DqRLHAi-vi-V",
        "colab_type": "code",
        "colab": {
          "base_uri": "https://localhost:8080/",
          "height": 68
        },
        "outputId": "a913a368-5b1c-4654-a3f3-7faf16ac8970"
      },
      "source": [
        "    \n",
        "linha1 = input().split(\" \")\n",
        "linha2 = input().split(\" \")\n",
        "\n",
        "cod1,qt1,vl1 = linha1\n",
        "cod2,qt2,vl2 = linha2\n",
        "\n",
        "cod1 = int(cod1)\n",
        "qt1 = int(qt1)\n",
        "vl1 = float(vl1)\n",
        "cod2 = int(cod2)\n",
        "qt2 = int(qt2)\n",
        "vl2 = float(vl2)\n",
        "\n",
        "total = (qt1*vl1) + (qt2*vl2)\n",
        "\n",
        "print(\"VALOR A PAGAR: R$ %.2f\" %total)"
      ],
      "execution_count": 46,
      "outputs": [
        {
          "output_type": "stream",
          "text": [
            "11 1 3\n",
            "12 2 4\n",
            "VALOR A PAGAR: R$ 11.00\n"
          ],
          "name": "stdout"
        }
      ]
    },
    {
      "cell_type": "markdown",
      "metadata": {
        "id": "mToO5TNsvi-Y",
        "colab_type": "text"
      },
      "source": [
        "[1018](https://www.urionlinejudge.com.br/judge/pt/problems/view/1018) - Sistemas de frente de loja também devem auxiliar vendedores a dar trocos. Por simplicidade, vamos considerar primeiro apenas trocos inteiros, que podem ser dados usando apenas cédulas.\n",
        "\n",
        "Escreva um código Python que leia um valor de troco e informe quantas cédulas de cada valor devem ser entregues pelo vendedor ao cliente.\n",
        "\n",
        "**Obs.:** Considere que ainda existem notas de R$ 1,00."
      ]
    },
    {
      "cell_type": "markdown",
      "metadata": {
        "id": "QRoQYEFVvi-Z",
        "colab_type": "text"
      },
      "source": [
        "|.| Entrada | Saída |\n",
        "|-|----|---|\n",
        "| *Exemplo 1* | 576 | 5 nota(s) de 100,00 <br /> 1 nota(s) de 50,00 <br /> 1 nota(s) de 20,00 <br /> 0 nota(s) de 10,00 <br /> 1 nota(s) de 5,00  <br /> 0 nota(s) de 2,00  <br /> 1 nota(s) de 1,00 |\n",
        "| *Exemplo 2* | 11257 | 112 nota(s) de 100,00 <br /> 1 nota(s) de 50,00 <br /> 0 nota(s) de 20,00 <br /> 0 nota(s) de 10,00 <br /> 1 nota(s) de 5,00 <br /> 1 nota(s) de 2,00 <br /> 0 nota(s) de 1,00 |\n",
        "| *Exemplo 3* | 503 | 5 nota(s) de 100,00 <br /> 0 nota(s) de 50,00 <br /> 0 nota(s) de 20,00 <br /> 0 nota(s) de 10,00 <br /> 0 nota(s) de 5,00 <br /> 1 nota(s) de 2,00 <br /> 1 nota(s) de 1,00 |"
      ]
    },
    {
      "cell_type": "code",
      "metadata": {
        "scrolled": true,
        "id": "Jqu0YDiMvi-a",
        "colab_type": "code",
        "colab": {
          "base_uri": "https://localhost:8080/",
          "height": 170
        },
        "outputId": "f3b1dfaf-8469-4213-e44a-358f24efe0de"
      },
      "source": [
        "value = int(input());\n",
        "val = value;\n",
        "cem = cinquenta = vinte = dez = cinco = dois = um = 0;\n",
        "\n",
        "if int(value/100) >= 1:\n",
        "\tcem = int(value/100);\n",
        "\tvalue -= cem*100;\n",
        "\n",
        "if int(value/50) >= 1:\n",
        "\tcinquenta = int(value/50);\n",
        "\tvalue -= cinquenta*50;\n",
        "\n",
        "if int(value/20) >= 1:\n",
        "\tvinte = int(value/20);\n",
        "\tvalue -= vinte*20;\n",
        "\n",
        "if int(value/10) >= 1:\n",
        "\tdez = int(value/10);\n",
        "\tvalue -= dez*10;\n",
        "\n",
        "if int(value/5) >= 1:\n",
        "\tcinco = int(value/5);\n",
        "\tvalue -= cinco*5;\n",
        "\n",
        "if int(value/2) >= 1:\n",
        "\tdois = int(value/2);\n",
        "\tvalue -= dois*2;\n",
        "\n",
        "if int(value/1) >= 1:\n",
        "\tum = int(value/1);\n",
        "\tvalue -= um*1;\n",
        "\n",
        "print(\"%d\" % val);\n",
        "print(\"%d nota(s) de R$ 100,00\" % cem);\n",
        "print(\"%d nota(s) de R$ 50,00\" % cinquenta);\n",
        "print(\"%d nota(s) de R$ 20,00\" % vinte);\n",
        "print(\"%d nota(s) de R$ 10,00\" % dez);\n",
        "print(\"%d nota(s) de R$ 5,00\" % cinco);\n",
        "print(\"%d nota(s) de R$ 2,00\" % dois);\n",
        "print(\"%d nota(s) de R$ 1,00\" % um);"
      ],
      "execution_count": 48,
      "outputs": [
        {
          "output_type": "stream",
          "text": [
            "500\n",
            "500\n",
            "5 nota(s) de R$ 100,00\n",
            "0 nota(s) de R$ 50,00\n",
            "0 nota(s) de R$ 20,00\n",
            "0 nota(s) de R$ 10,00\n",
            "0 nota(s) de R$ 5,00\n",
            "0 nota(s) de R$ 2,00\n",
            "0 nota(s) de R$ 1,00\n"
          ],
          "name": "stdout"
        }
      ]
    },
    {
      "cell_type": "markdown",
      "metadata": {
        "id": "xxlD3-Gkvi-e",
        "colab_type": "text"
      },
      "source": [
        "[1021](https://www.urionlinejudge.com.br/judge/pt/problems/view/1021) - Agora vamos voltar ao mundo real, onde trocos podem precisar utilizar cédulas e moedas.\n",
        "\n",
        "Escreva um código Python que leia um valor de troco e informe quantas cédulas e moedas de cada valor devem ser entregues pelo vendedor ao cliente.\n",
        "\n",
        "**Obs.:** Considere que ainda existem moedas de R$ 0,01."
      ]
    },
    {
      "cell_type": "markdown",
      "metadata": {
        "id": "Vc9Q7EkFvi-e",
        "colab_type": "text"
      },
      "source": [
        "|.| Entrada | Saída |\n",
        "|-|----|---|\n",
        "| *Exemplo 1* | 576.73 | NOTAS: <br /> 5 nota(s) de 100,00 <br /> 1 nota(s) de 50,00 <br /> 1 nota(s) de 20,00 <br /> 0 nota(s) de 10,00 <br /> 1 nota(s) de 5,00  <br /> 0 nota(s) de 2,00  <br /> MOEDAS: <br /> 1 moeda(s) de 1,00 <br /> 1 moeda(s) de 0,50 <br /> 0 moeda(s) de 0,25 <br /> 2 moeda(s) de 0,10 <br /> 0 moeda(s) de 0,05 <br /> 3 moeda(s) de 0,01 |\n",
        "| *Exemplo 2* | 4.00 | NOTAS: <br /> 0 nota(s) de 100,00 <br /> 0 nota(s) de 50,00 <br /> 0 nota(s) de 20,00 <br /> 0 nota(s) de 10,00 <br /> 0 nota(s) de 5,00  <br /> 2 nota(s) de 2,00 <br /> MOEDAS: <br /> 0 moeda(s) de 1,00 <br /> 0 moeda(s) de 0,50 <br /> 0 moeda(s) de 0,25 <br /> 0 moeda(s) de 0,10 <br /> 0 moeda(s) de 0,05 <br /> 0 moeda(s) de 0,01 |\n",
        "| *Exemplo 3* | 91.01 | NOTAS: <br /> 0 nota(s) de 100,00 <br /> 1 nota(s) de 50,00 <br /> 2 nota(s) de 20,00 <br /> 0 nota(s) de 10,00 <br /> 0 nota(s) de 5,00  <br /> 0 nota(s) de 2,00 <br /> MOEDAS: <br /> 1 moeda(s) de 1,00 <br /> 0 moeda(s) de 0,50 <br /> 0 moeda(s) de 0,25 <br /> 0 moeda(s) de 0,10 <br /> 0 moeda(s) de 0,05 <br /> 1 moeda(s) de 0,01 |"
      ]
    },
    {
      "cell_type": "code",
      "metadata": {
        "id": "PZsBDh9Avi-g",
        "colab_type": "code",
        "colab": {
          "base_uri": "https://localhost:8080/",
          "height": 272
        },
        "outputId": "56eacb84-58f3-4073-ba25-e3ba1d084df2"
      },
      "source": [
        "value = eval(input());\n",
        "\n",
        "cem = cinquenta = vinte = dez = cinco = dois = um = 0;\n",
        "cincents = vintecincents = dezcents = cincocents = cents = 0;\n",
        "\n",
        "value = float(\"%.2f\" % value)\n",
        "if int(value/100) >= 1:\n",
        "\tcem = int(value/100);\n",
        "\tvalue -= cem*100;\n",
        "\n",
        "value = float(\"%.2f\" % value)\n",
        "if int(value/50) >= 1:\n",
        "\tcinquenta = int(value/50);\n",
        "\tvalue -= cinquenta*50;\n",
        "\n",
        "value = float(\"%.2f\" % value)\n",
        "if int(value/20) >= 1:\n",
        "\tvinte = int(value/20.00);\n",
        "\tvalue -= vinte*20;\n",
        "\n",
        "value = float(\"%.2f\" % value)\n",
        "if int(value/10) >= 1:\n",
        "\tdez = int(value/10);\n",
        "\tvalue -= dez*10.00;\n",
        "\n",
        "value = float(\"%.2f\" % value)\n",
        "if int(value/5) >= 1:\n",
        "\tcinco = int(value/5);\n",
        "\tvalue -= cinco*5;\n",
        "\n",
        "value = float(\"%.2f\" % value)\n",
        "if int(value/2) >= 1:\n",
        "\tdois = int(value/2);\n",
        "\tvalue -= dois*2;\n",
        "\n",
        "value = float(\"%.2f\" % value)\n",
        "if int(value/1) >= 1:\n",
        "\tum = int(value/1);\n",
        "\tvalue -= um*1;\n",
        "\n",
        "value = float(\"%.2f\" % value)\n",
        "if int(value/0.50) >= 1:\n",
        "\tcincents = int(value/0.50);\n",
        "\tvalue -= cincents*0.50;\n",
        "\n",
        "value = float(\"%.2f\" % value)\n",
        "if int(value/0.25) >= 1:\n",
        "\tvintecincents = int(value/0.25);\n",
        "\tvalue -= vintecincents*0.25;\n",
        "\n",
        "value = float(\"%.2f\" % value)\n",
        "if int(value/0.10) >= 1:\n",
        "\tdezcents = int(value/0.10);\n",
        "\tvalue -= dezcents*0.10;\n",
        "\n",
        "value = float(\"%.2f\" % value)\n",
        "if int(value/0.05) >= 1:\n",
        "\tcincocents = int(value/0.05);\n",
        "\tvalue -= cincocents*0.05;\n",
        "\n",
        "value = float(\"%.2f\" % value)\n",
        "if int(value/0.01) >= 0.998:\n",
        "\tcents = int(value/0.01);\n",
        "\tvalue -= cents*0.01;\n",
        "\n",
        "print(\"NOTAS:\");\n",
        "print(\"%d nota(s) de R$ 100.00\" % cem);\n",
        "print(\"%d nota(s) de R$ 50.00\" % cinquenta);\n",
        "print(\"%d nota(s) de R$ 20.00\" % vinte);\n",
        "print(\"%d nota(s) de R$ 10.00\" % dez);\n",
        "print(\"%d nota(s) de R$ 5.00\" % cinco);\n",
        "print(\"%d nota(s) de R$ 2.00\" % dois);\n",
        "\n",
        "print(\"MOEDAS:\");\n",
        "print(\"%d moeda(s) de R$ 1.00\" % um);\n",
        "print(\"%d moeda(s) de R$ 0.50\" % cincents);\n",
        "print(\"%d moeda(s) de R$ 0.25\" % vintecincents);\n",
        "print(\"%d moeda(s) de R$ 0.10\" % dezcents);\n",
        "print(\"%d moeda(s) de R$ 0.05\" % cincocents);\n",
        "print(\"%d moeda(s) de R$ 0.01\" % cents);"
      ],
      "execution_count": 50,
      "outputs": [
        {
          "output_type": "stream",
          "text": [
            "15.50\n",
            "NOTAS:\n",
            "0 nota(s) de R$ 100.00\n",
            "0 nota(s) de R$ 50.00\n",
            "0 nota(s) de R$ 20.00\n",
            "1 nota(s) de R$ 10.00\n",
            "1 nota(s) de R$ 5.00\n",
            "0 nota(s) de R$ 2.00\n",
            "MOEDAS:\n",
            "0 moeda(s) de R$ 1.00\n",
            "1 moeda(s) de R$ 0.50\n",
            "0 moeda(s) de R$ 0.25\n",
            "0 moeda(s) de R$ 0.10\n",
            "0 moeda(s) de R$ 0.05\n",
            "0 moeda(s) de R$ 0.01\n"
          ],
          "name": "stdout"
        }
      ]
    },
    {
      "cell_type": "markdown",
      "metadata": {
        "id": "4UwDD25Ovi-k",
        "colab_type": "text"
      },
      "source": [
        "[1019](https://www.urionlinejudge.com.br/judge/pt/problems/view/1019) - Sistemas de frente de loja também precisam registrar a data e o horário das vendas. \n",
        "\n",
        "Computadores normalmente armazenam datas utilizando uma única unidade de tempo, convertendo para o formato de apresentação desejado quando necessário. Por simplicidade, considere neste exercício que o dado informado representa apenas o horário da venda.\n",
        "\n",
        "Escreva um código Python que leia um valor em segundos e o converta para o formato *horas:minutos:segundos*.\n",
        "\n",
        "**Dica 1 --** a opção sep do procedimento print() permite configurar o caracter de separação entre as diferentes partes de uma impressão, como no exemplo abaixo."
      ]
    },
    {
      "cell_type": "code",
      "metadata": {
        "scrolled": true,
        "id": "LO0bwo9Zvi-l",
        "colab_type": "code",
        "colab": {
          "base_uri": "https://localhost:8080/",
          "height": 51
        },
        "outputId": "410e1abc-5db0-4bfb-a825-e88ff1b5b5ea"
      },
      "source": [
        "seconds = int(input());\n",
        "\n",
        "minutes = int(seconds/60);\n",
        "seconds -= minutes*60;\n",
        "hours = int(minutes/60);\n",
        "minutes -= hours*60;\n",
        "\n",
        "print(repr(hours)+\":\"+repr(minutes)+\":\"+repr(seconds))"
      ],
      "execution_count": 55,
      "outputs": [
        {
          "output_type": "stream",
          "text": [
            "1000\n",
            "0:16:40\n"
          ],
          "name": "stdout"
        }
      ]
    },
    {
      "cell_type": "markdown",
      "metadata": {
        "id": "fAZyDKbMvi-o",
        "colab_type": "text"
      },
      "source": [
        "**Dica 2 --** é possível utilizar o procedimento print para impressão formatada. Pesquise o funcionamento da máscara de formatação abaixo:"
      ]
    },
    {
      "cell_type": "code",
      "metadata": {
        "id": "wfi-QGCQvi-o",
        "colab_type": "code",
        "colab": {
          "base_uri": "https://localhost:8080/",
          "height": 34
        },
        "outputId": "9060e621-ed68-4cec-cb69-7c0d823b5cb6"
      },
      "source": [
        "print(\"%02d:%02d:%02d\" % (9,33,51))"
      ],
      "execution_count": 52,
      "outputs": [
        {
          "output_type": "stream",
          "text": [
            "09:33:51\n"
          ],
          "name": "stdout"
        }
      ]
    },
    {
      "cell_type": "markdown",
      "metadata": {
        "id": "7_m0pEHPvi-s",
        "colab_type": "text"
      },
      "source": [
        "|.| Entrada | Saída |\n",
        "|-|----|---|\n",
        "| *Exemplo 1* | 556  | 00:09:16 | \n",
        "| *Exemplo 2* | 1 | 00:00:01 |\n",
        "| *Exemplo 3* | 86153 | 23:55:53 |"
      ]
    }
  ]
}